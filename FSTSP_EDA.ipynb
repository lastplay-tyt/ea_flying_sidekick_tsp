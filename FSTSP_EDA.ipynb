{
 "cells": [
  {
   "cell_type": "code",
   "execution_count": null,
   "metadata": {},
   "outputs": [],
   "source": [
    "#pip install statsmodels"
   ]
  },
  {
   "cell_type": "code",
   "execution_count": 2,
   "metadata": {},
   "outputs": [
    {
     "ename": "KeyboardInterrupt",
     "evalue": "",
     "output_type": "error",
     "traceback": [
      "\u001b[0;31m---------------------------------------------------------------------------\u001b[0m",
      "\u001b[0;31mKeyboardInterrupt\u001b[0m                         Traceback (most recent call last)",
      "File \u001b[0;32m/var/folders/5p/hzbf0zgn4kl1gq994543pg9m0000gn/T/ipykernel_3066/686704495.py:2\u001b[0m\n\u001b[1;32m      1\u001b[0m \u001b[39m#Testing random search\u001b[39;00m\n\u001b[0;32m----> 2\u001b[0m TimeLimRandomSearch(distance_dataframe_test, \u001b[39m30\u001b[39;49m)\n",
      "File \u001b[0;32m/var/folders/5p/hzbf0zgn4kl1gq994543pg9m0000gn/T/ipykernel_3066/1038577209.py:14\u001b[0m, in \u001b[0;36mTimeLimRandomSearch\u001b[0;34m(distanceMatrix, total_time)\u001b[0m\n\u001b[1;32m     12\u001b[0m \u001b[39mwhile\u001b[39;00m ((time\u001b[39m.\u001b[39mtime() \u001b[39m-\u001b[39m start) \u001b[39m<\u001b[39m total_time):\n\u001b[1;32m     13\u001b[0m     route \u001b[39m=\u001b[39m RandomRouteGenerator(distanceMatrix)\n\u001b[0;32m---> 14\u001b[0m     cost \u001b[39m=\u001b[39m tsp\u001b[39m.\u001b[39;49mgetCostofRoute(initial_route, distanceMatrix)\n\u001b[1;32m     15\u001b[0m     \u001b[39mif\u001b[39;00m cost \u001b[39m<\u001b[39m initial_cost:\n\u001b[1;32m     16\u001b[0m         initial_cost \u001b[39m=\u001b[39m cost\n",
      "File \u001b[0;32m/var/folders/5p/hzbf0zgn4kl1gq994543pg9m0000gn/T/ipykernel_3066/593426115.py:17\u001b[0m, in \u001b[0;36mTSP.getCostofRoute\u001b[0;34m(self, route, distance_dataframe)\u001b[0m\n\u001b[1;32m     16\u001b[0m \u001b[39mdef\u001b[39;00m \u001b[39mgetCostofRoute\u001b[39m(\u001b[39mself\u001b[39m, route, distance_dataframe):\n\u001b[0;32m---> 17\u001b[0m     total_cost \u001b[39m=\u001b[39m SumCost(route, distance_dataframe)\n\u001b[1;32m     18\u001b[0m     \u001b[39mreturn\u001b[39;00m total_cost\n",
      "File \u001b[0;32m/var/folders/5p/hzbf0zgn4kl1gq994543pg9m0000gn/T/ipykernel_3066/1570145523.py:26\u001b[0m, in \u001b[0;36mSumCost\u001b[0;34m(route, distance_dataframe)\u001b[0m\n\u001b[1;32m     25\u001b[0m \u001b[39mdef\u001b[39;00m \u001b[39mSumCost\u001b[39m(route, distance_dataframe):\n\u001b[0;32m---> 26\u001b[0m     route_cost \u001b[39m=\u001b[39m CostofRoute(route, distance_dataframe)\n\u001b[1;32m     27\u001b[0m     total_cost \u001b[39m=\u001b[39m \u001b[39msum\u001b[39m(route_cost)\n\u001b[1;32m     28\u001b[0m     \u001b[39mreturn\u001b[39;00m total_cost\n",
      "File \u001b[0;32m/var/folders/5p/hzbf0zgn4kl1gq994543pg9m0000gn/T/ipykernel_3066/1570145523.py:15\u001b[0m, in \u001b[0;36mCostofRoute\u001b[0;34m(route, distance_dataframe)\u001b[0m\n\u001b[1;32m     13\u001b[0m     current_node \u001b[39m=\u001b[39m route[i]\n\u001b[1;32m     14\u001b[0m     next_node \u001b[39m=\u001b[39m route[i\u001b[39m+\u001b[39m\u001b[39m1\u001b[39m]\n\u001b[0;32m---> 15\u001b[0m     cost_between_nodes \u001b[39m=\u001b[39m distance_dataframe\u001b[39m.\u001b[39;49mloc[current_node, next_node]\n\u001b[1;32m     16\u001b[0m     route_cost\u001b[39m.\u001b[39mappend(cost_between_nodes)\n\u001b[1;32m     18\u001b[0m \u001b[39m#Determing the cost to go from last node to home depot\u001b[39;00m\n",
      "File \u001b[0;32m/Library/Frameworks/Python.framework/Versions/3.10/lib/python3.10/site-packages/pandas/core/indexing.py:1095\u001b[0m, in \u001b[0;36m_LocationIndexer.__getitem__\u001b[0;34m(self, key)\u001b[0m\n\u001b[1;32m   1093\u001b[0m key \u001b[39m=\u001b[39m \u001b[39mtuple\u001b[39m(\u001b[39mlist\u001b[39m(x) \u001b[39mif\u001b[39;00m is_iterator(x) \u001b[39melse\u001b[39;00m x \u001b[39mfor\u001b[39;00m x \u001b[39min\u001b[39;00m key)\n\u001b[1;32m   1094\u001b[0m key \u001b[39m=\u001b[39m \u001b[39mtuple\u001b[39m(com\u001b[39m.\u001b[39mapply_if_callable(x, \u001b[39mself\u001b[39m\u001b[39m.\u001b[39mobj) \u001b[39mfor\u001b[39;00m x \u001b[39min\u001b[39;00m key)\n\u001b[0;32m-> 1095\u001b[0m \u001b[39mif\u001b[39;00m \u001b[39mself\u001b[39;49m\u001b[39m.\u001b[39;49m_is_scalar_access(key):\n\u001b[1;32m   1096\u001b[0m     \u001b[39mreturn\u001b[39;00m \u001b[39mself\u001b[39m\u001b[39m.\u001b[39mobj\u001b[39m.\u001b[39m_get_value(\u001b[39m*\u001b[39mkey, takeable\u001b[39m=\u001b[39m\u001b[39mself\u001b[39m\u001b[39m.\u001b[39m_takeable)\n\u001b[1;32m   1097\u001b[0m \u001b[39mreturn\u001b[39;00m \u001b[39mself\u001b[39m\u001b[39m.\u001b[39m_getitem_tuple(key)\n",
      "File \u001b[0;32m/Library/Frameworks/Python.framework/Versions/3.10/lib/python3.10/site-packages/pandas/core/indexing.py:1189\u001b[0m, in \u001b[0;36m_LocIndexer._is_scalar_access\u001b[0;34m(self, key)\u001b[0m\n\u001b[1;32m   1184\u001b[0m     \u001b[39mif\u001b[39;00m \u001b[39misinstance\u001b[39m(k, \u001b[39mstr\u001b[39m) \u001b[39mand\u001b[39;00m ax\u001b[39m.\u001b[39m_supports_partial_string_indexing:\n\u001b[1;32m   1185\u001b[0m         \u001b[39m# partial string indexing, df.loc['2000', 'A']\u001b[39;00m\n\u001b[1;32m   1186\u001b[0m         \u001b[39m# should not be considered scalar\u001b[39;00m\n\u001b[1;32m   1187\u001b[0m         \u001b[39mreturn\u001b[39;00m \u001b[39mFalse\u001b[39;00m\n\u001b[0;32m-> 1189\u001b[0m     \u001b[39mif\u001b[39;00m \u001b[39mnot\u001b[39;00m ax\u001b[39m.\u001b[39;49m_index_as_unique:\n\u001b[1;32m   1190\u001b[0m         \u001b[39mreturn\u001b[39;00m \u001b[39mFalse\u001b[39;00m\n\u001b[1;32m   1192\u001b[0m \u001b[39mreturn\u001b[39;00m \u001b[39mTrue\u001b[39;00m\n",
      "File \u001b[0;32m/Library/Frameworks/Python.framework/Versions/3.10/lib/python3.10/site-packages/pandas/core/indexes/base.py:6001\u001b[0m, in \u001b[0;36mIndex._index_as_unique\u001b[0;34m(self)\u001b[0m\n\u001b[1;32m   5998\u001b[0m         missing \u001b[39m=\u001b[39m np\u001b[39m.\u001b[39marange(\u001b[39mlen\u001b[39m(target), dtype\u001b[39m=\u001b[39mnp\u001b[39m.\u001b[39mintp)\n\u001b[1;32m   5999\u001b[0m         \u001b[39mreturn\u001b[39;00m no_matches, missing\n\u001b[0;32m-> 6001\u001b[0m \u001b[39m@property\u001b[39m\n\u001b[1;32m   6002\u001b[0m \u001b[39mdef\u001b[39;00m \u001b[39m_index_as_unique\u001b[39m(\u001b[39mself\u001b[39m) \u001b[39m-\u001b[39m\u001b[39m>\u001b[39m \u001b[39mbool\u001b[39m:\n\u001b[1;32m   6003\u001b[0m \u001b[39m    \u001b[39m\u001b[39m\"\"\"\u001b[39;00m\n\u001b[1;32m   6004\u001b[0m \u001b[39m    Whether we should treat this as unique for the sake of\u001b[39;00m\n\u001b[1;32m   6005\u001b[0m \u001b[39m    get_indexer vs get_indexer_non_unique.\u001b[39;00m\n\u001b[1;32m   6006\u001b[0m \n\u001b[1;32m   6007\u001b[0m \u001b[39m    For IntervalIndex compat.\u001b[39;00m\n\u001b[1;32m   6008\u001b[0m \u001b[39m    \"\"\"\u001b[39;00m\n\u001b[1;32m   6009\u001b[0m     \u001b[39mreturn\u001b[39;00m \u001b[39mself\u001b[39m\u001b[39m.\u001b[39mis_unique\n",
      "\u001b[0;31mKeyboardInterrupt\u001b[0m: "
     ]
    },
    {
     "ename": "KeyboardInterrupt",
     "evalue": "",
     "output_type": "error",
     "traceback": [
      "\u001b[0;31m---------------------------------------------------------------------------\u001b[0m",
      "\u001b[0;31mKeyboardInterrupt\u001b[0m                         Traceback (most recent call last)",
      "\u001b[1;32m/Users/ibrahim/Library/CloudStorage/GoogleDrive-privatebee156@gmail.com/My Drive/dissertation_files/untitled folder 2/AAI_dissertation-main/FSTSP_EDA.ipynb Cell 2\u001b[0m line \u001b[0;36m4\n\u001b[1;32m      <a href='vscode-notebook-cell:/Users/ibrahim/Library/CloudStorage/GoogleDrive-privatebee156%40gmail.com/My%20Drive/dissertation_files/untitled%20folder%202/AAI_dissertation-main/FSTSP_EDA.ipynb#W1sZmlsZQ%3D%3D?line=1'>2</a>\u001b[0m get_ipython()\u001b[39m.\u001b[39mrun_line_magic(\u001b[39m'\u001b[39m\u001b[39mrun\u001b[39m\u001b[39m'\u001b[39m, \u001b[39m'\u001b[39m\u001b[39mTSP.ipynb\u001b[39m\u001b[39m'\u001b[39m)\n\u001b[1;32m      <a href='vscode-notebook-cell:/Users/ibrahim/Library/CloudStorage/GoogleDrive-privatebee156%40gmail.com/My%20Drive/dissertation_files/untitled%20folder%202/AAI_dissertation-main/FSTSP_EDA.ipynb#W1sZmlsZQ%3D%3D?line=2'>3</a>\u001b[0m get_ipython()\u001b[39m.\u001b[39mrun_line_magic(\u001b[39m'\u001b[39m\u001b[39mrun\u001b[39m\u001b[39m'\u001b[39m, \u001b[39m'\u001b[39m\u001b[39mTSPextended.ipynb\u001b[39m\u001b[39m'\u001b[39m)\n\u001b[0;32m----> <a href='vscode-notebook-cell:/Users/ibrahim/Library/CloudStorage/GoogleDrive-privatebee156%40gmail.com/My%20Drive/dissertation_files/untitled%20folder%202/AAI_dissertation-main/FSTSP_EDA.ipynb#W1sZmlsZQ%3D%3D?line=3'>4</a>\u001b[0m get_ipython()\u001b[39m.\u001b[39;49mrun_line_magic(\u001b[39m'\u001b[39;49m\u001b[39mrun\u001b[39;49m\u001b[39m'\u001b[39;49m, \u001b[39m'\u001b[39;49m\u001b[39mLocalSearch.ipynb\u001b[39;49m\u001b[39m'\u001b[39;49m)\n\u001b[1;32m      <a href='vscode-notebook-cell:/Users/ibrahim/Library/CloudStorage/GoogleDrive-privatebee156%40gmail.com/My%20Drive/dissertation_files/untitled%20folder%202/AAI_dissertation-main/FSTSP_EDA.ipynb#W1sZmlsZQ%3D%3D?line=4'>5</a>\u001b[0m get_ipython()\u001b[39m.\u001b[39mrun_line_magic(\u001b[39m'\u001b[39m\u001b[39mrun\u001b[39m\u001b[39m'\u001b[39m, \u001b[39m'\u001b[39m\u001b[39mEvolutionaryAlgorithmTSP.ipynb\u001b[39m\u001b[39m'\u001b[39m)\n\u001b[1;32m      <a href='vscode-notebook-cell:/Users/ibrahim/Library/CloudStorage/GoogleDrive-privatebee156%40gmail.com/My%20Drive/dissertation_files/untitled%20folder%202/AAI_dissertation-main/FSTSP_EDA.ipynb#W1sZmlsZQ%3D%3D?line=5'>6</a>\u001b[0m get_ipython()\u001b[39m.\u001b[39mrun_line_magic(\u001b[39m'\u001b[39m\u001b[39mrun\u001b[39m\u001b[39m'\u001b[39m, \u001b[39m'\u001b[39m\u001b[39mEvolutionaryAlgorithmFSTSP.ipynb\u001b[39m\u001b[39m'\u001b[39m)\n",
      "File \u001b[0;32m~/Library/Python/3.10/lib/python/site-packages/IPython/core/interactiveshell.py:2417\u001b[0m, in \u001b[0;36mInteractiveShell.run_line_magic\u001b[0;34m(self, magic_name, line, _stack_depth)\u001b[0m\n\u001b[1;32m   2415\u001b[0m     kwargs[\u001b[39m'\u001b[39m\u001b[39mlocal_ns\u001b[39m\u001b[39m'\u001b[39m] \u001b[39m=\u001b[39m \u001b[39mself\u001b[39m\u001b[39m.\u001b[39mget_local_scope(stack_depth)\n\u001b[1;32m   2416\u001b[0m \u001b[39mwith\u001b[39;00m \u001b[39mself\u001b[39m\u001b[39m.\u001b[39mbuiltin_trap:\n\u001b[0;32m-> 2417\u001b[0m     result \u001b[39m=\u001b[39m fn(\u001b[39m*\u001b[39;49margs, \u001b[39m*\u001b[39;49m\u001b[39m*\u001b[39;49mkwargs)\n\u001b[1;32m   2419\u001b[0m \u001b[39m# The code below prevents the output from being displayed\u001b[39;00m\n\u001b[1;32m   2420\u001b[0m \u001b[39m# when using magics with decodator @output_can_be_silenced\u001b[39;00m\n\u001b[1;32m   2421\u001b[0m \u001b[39m# when the last Python token in the expression is a ';'.\u001b[39;00m\n\u001b[1;32m   2422\u001b[0m \u001b[39mif\u001b[39;00m \u001b[39mgetattr\u001b[39m(fn, magic\u001b[39m.\u001b[39mMAGIC_OUTPUT_CAN_BE_SILENCED, \u001b[39mFalse\u001b[39;00m):\n",
      "File \u001b[0;32m~/Library/Python/3.10/lib/python/site-packages/IPython/core/magics/execution.py:722\u001b[0m, in \u001b[0;36mExecutionMagics.run\u001b[0;34m(self, parameter_s, runner, file_finder)\u001b[0m\n\u001b[1;32m    720\u001b[0m     \u001b[39mwith\u001b[39;00m preserve_keys(\u001b[39mself\u001b[39m\u001b[39m.\u001b[39mshell\u001b[39m.\u001b[39muser_ns, \u001b[39m'\u001b[39m\u001b[39m__file__\u001b[39m\u001b[39m'\u001b[39m):\n\u001b[1;32m    721\u001b[0m         \u001b[39mself\u001b[39m\u001b[39m.\u001b[39mshell\u001b[39m.\u001b[39muser_ns[\u001b[39m'\u001b[39m\u001b[39m__file__\u001b[39m\u001b[39m'\u001b[39m] \u001b[39m=\u001b[39m filename\n\u001b[0;32m--> 722\u001b[0m         \u001b[39mself\u001b[39;49m\u001b[39m.\u001b[39;49mshell\u001b[39m.\u001b[39;49msafe_execfile_ipy(filename, raise_exceptions\u001b[39m=\u001b[39;49m\u001b[39mTrue\u001b[39;49;00m)\n\u001b[1;32m    723\u001b[0m     \u001b[39mreturn\u001b[39;00m\n\u001b[1;32m    725\u001b[0m \u001b[39m# Control the response to exit() calls made by the script being run\u001b[39;00m\n",
      "File \u001b[0;32m~/Library/Python/3.10/lib/python/site-packages/IPython/core/interactiveshell.py:2939\u001b[0m, in \u001b[0;36mInteractiveShell.safe_execfile_ipy\u001b[0;34m(self, fname, shell_futures, raise_exceptions)\u001b[0m\n\u001b[1;32m   2937\u001b[0m result \u001b[39m=\u001b[39m \u001b[39mself\u001b[39m\u001b[39m.\u001b[39mrun_cell(cell, silent\u001b[39m=\u001b[39m\u001b[39mTrue\u001b[39;00m, shell_futures\u001b[39m=\u001b[39mshell_futures)\n\u001b[1;32m   2938\u001b[0m \u001b[39mif\u001b[39;00m raise_exceptions:\n\u001b[0;32m-> 2939\u001b[0m     result\u001b[39m.\u001b[39;49mraise_error()\n\u001b[1;32m   2940\u001b[0m \u001b[39melif\u001b[39;00m \u001b[39mnot\u001b[39;00m result\u001b[39m.\u001b[39msuccess:\n\u001b[1;32m   2941\u001b[0m     \u001b[39mbreak\u001b[39;00m\n",
      "File \u001b[0;32m~/Library/Python/3.10/lib/python/site-packages/IPython/core/interactiveshell.py:268\u001b[0m, in \u001b[0;36mExecutionResult.raise_error\u001b[0;34m(self)\u001b[0m\n\u001b[1;32m    266\u001b[0m     \u001b[39mraise\u001b[39;00m \u001b[39mself\u001b[39m\u001b[39m.\u001b[39merror_before_exec\n\u001b[1;32m    267\u001b[0m \u001b[39mif\u001b[39;00m \u001b[39mself\u001b[39m\u001b[39m.\u001b[39merror_in_exec \u001b[39mis\u001b[39;00m \u001b[39mnot\u001b[39;00m \u001b[39mNone\u001b[39;00m:\n\u001b[0;32m--> 268\u001b[0m     \u001b[39mraise\u001b[39;00m \u001b[39mself\u001b[39m\u001b[39m.\u001b[39merror_in_exec\n",
      "    \u001b[0;31m[... skipping hidden 1 frame]\u001b[0m\n",
      "File \u001b[0;32m/var/folders/5p/hzbf0zgn4kl1gq994543pg9m0000gn/T/ipykernel_3066/686704495.py:2\u001b[0m\n\u001b[1;32m      1\u001b[0m \u001b[39m#Testing random search\u001b[39;00m\n\u001b[0;32m----> 2\u001b[0m TimeLimRandomSearch(distance_dataframe_test, \u001b[39m30\u001b[39;49m)\n",
      "File \u001b[0;32m/var/folders/5p/hzbf0zgn4kl1gq994543pg9m0000gn/T/ipykernel_3066/1038577209.py:14\u001b[0m, in \u001b[0;36mTimeLimRandomSearch\u001b[0;34m(distanceMatrix, total_time)\u001b[0m\n\u001b[1;32m     12\u001b[0m \u001b[39mwhile\u001b[39;00m ((time\u001b[39m.\u001b[39mtime() \u001b[39m-\u001b[39m start) \u001b[39m<\u001b[39m total_time):\n\u001b[1;32m     13\u001b[0m     route \u001b[39m=\u001b[39m RandomRouteGenerator(distanceMatrix)\n\u001b[0;32m---> 14\u001b[0m     cost \u001b[39m=\u001b[39m tsp\u001b[39m.\u001b[39;49mgetCostofRoute(initial_route, distanceMatrix)\n\u001b[1;32m     15\u001b[0m     \u001b[39mif\u001b[39;00m cost \u001b[39m<\u001b[39m initial_cost:\n\u001b[1;32m     16\u001b[0m         initial_cost \u001b[39m=\u001b[39m cost\n",
      "File \u001b[0;32m/var/folders/5p/hzbf0zgn4kl1gq994543pg9m0000gn/T/ipykernel_3066/593426115.py:17\u001b[0m, in \u001b[0;36mTSP.getCostofRoute\u001b[0;34m(self, route, distance_dataframe)\u001b[0m\n\u001b[1;32m     16\u001b[0m \u001b[39mdef\u001b[39;00m \u001b[39mgetCostofRoute\u001b[39m(\u001b[39mself\u001b[39m, route, distance_dataframe):\n\u001b[0;32m---> 17\u001b[0m     total_cost \u001b[39m=\u001b[39m SumCost(route, distance_dataframe)\n\u001b[1;32m     18\u001b[0m     \u001b[39mreturn\u001b[39;00m total_cost\n",
      "File \u001b[0;32m/var/folders/5p/hzbf0zgn4kl1gq994543pg9m0000gn/T/ipykernel_3066/1570145523.py:26\u001b[0m, in \u001b[0;36mSumCost\u001b[0;34m(route, distance_dataframe)\u001b[0m\n\u001b[1;32m     25\u001b[0m \u001b[39mdef\u001b[39;00m \u001b[39mSumCost\u001b[39m(route, distance_dataframe):\n\u001b[0;32m---> 26\u001b[0m     route_cost \u001b[39m=\u001b[39m CostofRoute(route, distance_dataframe)\n\u001b[1;32m     27\u001b[0m     total_cost \u001b[39m=\u001b[39m \u001b[39msum\u001b[39m(route_cost)\n\u001b[1;32m     28\u001b[0m     \u001b[39mreturn\u001b[39;00m total_cost\n",
      "File \u001b[0;32m/var/folders/5p/hzbf0zgn4kl1gq994543pg9m0000gn/T/ipykernel_3066/1570145523.py:15\u001b[0m, in \u001b[0;36mCostofRoute\u001b[0;34m(route, distance_dataframe)\u001b[0m\n\u001b[1;32m     13\u001b[0m     current_node \u001b[39m=\u001b[39m route[i]\n\u001b[1;32m     14\u001b[0m     next_node \u001b[39m=\u001b[39m route[i\u001b[39m+\u001b[39m\u001b[39m1\u001b[39m]\n\u001b[0;32m---> 15\u001b[0m     cost_between_nodes \u001b[39m=\u001b[39m distance_dataframe\u001b[39m.\u001b[39;49mloc[current_node, next_node]\n\u001b[1;32m     16\u001b[0m     route_cost\u001b[39m.\u001b[39mappend(cost_between_nodes)\n\u001b[1;32m     18\u001b[0m \u001b[39m#Determing the cost to go from last node to home depot\u001b[39;00m\n",
      "File \u001b[0;32m/Library/Frameworks/Python.framework/Versions/3.10/lib/python3.10/site-packages/pandas/core/indexing.py:1095\u001b[0m, in \u001b[0;36m_LocationIndexer.__getitem__\u001b[0;34m(self, key)\u001b[0m\n\u001b[1;32m   1093\u001b[0m key \u001b[39m=\u001b[39m \u001b[39mtuple\u001b[39m(\u001b[39mlist\u001b[39m(x) \u001b[39mif\u001b[39;00m is_iterator(x) \u001b[39melse\u001b[39;00m x \u001b[39mfor\u001b[39;00m x \u001b[39min\u001b[39;00m key)\n\u001b[1;32m   1094\u001b[0m key \u001b[39m=\u001b[39m \u001b[39mtuple\u001b[39m(com\u001b[39m.\u001b[39mapply_if_callable(x, \u001b[39mself\u001b[39m\u001b[39m.\u001b[39mobj) \u001b[39mfor\u001b[39;00m x \u001b[39min\u001b[39;00m key)\n\u001b[0;32m-> 1095\u001b[0m \u001b[39mif\u001b[39;00m \u001b[39mself\u001b[39;49m\u001b[39m.\u001b[39;49m_is_scalar_access(key):\n\u001b[1;32m   1096\u001b[0m     \u001b[39mreturn\u001b[39;00m \u001b[39mself\u001b[39m\u001b[39m.\u001b[39mobj\u001b[39m.\u001b[39m_get_value(\u001b[39m*\u001b[39mkey, takeable\u001b[39m=\u001b[39m\u001b[39mself\u001b[39m\u001b[39m.\u001b[39m_takeable)\n\u001b[1;32m   1097\u001b[0m \u001b[39mreturn\u001b[39;00m \u001b[39mself\u001b[39m\u001b[39m.\u001b[39m_getitem_tuple(key)\n",
      "File \u001b[0;32m/Library/Frameworks/Python.framework/Versions/3.10/lib/python3.10/site-packages/pandas/core/indexing.py:1189\u001b[0m, in \u001b[0;36m_LocIndexer._is_scalar_access\u001b[0;34m(self, key)\u001b[0m\n\u001b[1;32m   1184\u001b[0m     \u001b[39mif\u001b[39;00m \u001b[39misinstance\u001b[39m(k, \u001b[39mstr\u001b[39m) \u001b[39mand\u001b[39;00m ax\u001b[39m.\u001b[39m_supports_partial_string_indexing:\n\u001b[1;32m   1185\u001b[0m         \u001b[39m# partial string indexing, df.loc['2000', 'A']\u001b[39;00m\n\u001b[1;32m   1186\u001b[0m         \u001b[39m# should not be considered scalar\u001b[39;00m\n\u001b[1;32m   1187\u001b[0m         \u001b[39mreturn\u001b[39;00m \u001b[39mFalse\u001b[39;00m\n\u001b[0;32m-> 1189\u001b[0m     \u001b[39mif\u001b[39;00m \u001b[39mnot\u001b[39;00m ax\u001b[39m.\u001b[39;49m_index_as_unique:\n\u001b[1;32m   1190\u001b[0m         \u001b[39mreturn\u001b[39;00m \u001b[39mFalse\u001b[39;00m\n\u001b[1;32m   1192\u001b[0m \u001b[39mreturn\u001b[39;00m \u001b[39mTrue\u001b[39;00m\n",
      "File \u001b[0;32m/Library/Frameworks/Python.framework/Versions/3.10/lib/python3.10/site-packages/pandas/core/indexes/base.py:6001\u001b[0m, in \u001b[0;36mIndex._index_as_unique\u001b[0;34m(self)\u001b[0m\n\u001b[1;32m   5998\u001b[0m         missing \u001b[39m=\u001b[39m np\u001b[39m.\u001b[39marange(\u001b[39mlen\u001b[39m(target), dtype\u001b[39m=\u001b[39mnp\u001b[39m.\u001b[39mintp)\n\u001b[1;32m   5999\u001b[0m         \u001b[39mreturn\u001b[39;00m no_matches, missing\n\u001b[0;32m-> 6001\u001b[0m \u001b[39m@property\u001b[39m\n\u001b[1;32m   6002\u001b[0m \u001b[39mdef\u001b[39;00m \u001b[39m_index_as_unique\u001b[39m(\u001b[39mself\u001b[39m) \u001b[39m-\u001b[39m\u001b[39m>\u001b[39m \u001b[39mbool\u001b[39m:\n\u001b[1;32m   6003\u001b[0m \u001b[39m    \u001b[39m\u001b[39m\"\"\"\u001b[39;00m\n\u001b[1;32m   6004\u001b[0m \u001b[39m    Whether we should treat this as unique for the sake of\u001b[39;00m\n\u001b[1;32m   6005\u001b[0m \u001b[39m    get_indexer vs get_indexer_non_unique.\u001b[39;00m\n\u001b[1;32m   6006\u001b[0m \n\u001b[1;32m   6007\u001b[0m \u001b[39m    For IntervalIndex compat.\u001b[39;00m\n\u001b[1;32m   6008\u001b[0m \u001b[39m    \"\"\"\u001b[39;00m\n\u001b[1;32m   6009\u001b[0m     \u001b[39mreturn\u001b[39;00m \u001b[39mself\u001b[39m\u001b[39m.\u001b[39mis_unique\n",
      "\u001b[0;31mKeyboardInterrupt\u001b[0m: "
     ]
    }
   ],
   "source": [
    "%%capture\n",
    "# Running the previous notebooks\n",
    "%run TSP.ipynb\n",
    "%run TSPextended.ipynb\n",
    "%run LocalSearch.ipynb\n",
    "%run EvolutionaryAlgorithmTSP.ipynb\n",
    "%run EvolutionaryAlgorithmFSTSP.ipynb\n",
    "\n",
    "#Importing their classes\n",
    "tsp = TSP()\n",
    "tsp_ext = TSPext()\n",
    "localsearch = LocalSearch()"
   ]
  },
  {
   "cell_type": "markdown",
   "metadata": {},
   "source": [
    "Importing the relevant packages.\n",
    "We require the following:"
   ]
  },
  {
   "cell_type": "code",
   "execution_count": 3,
   "metadata": {},
   "outputs": [],
   "source": [
    "import pandas as pd\n",
    "import numpy as np\n",
    "from scipy.stats import qmc\n",
    "import matplotlib.pyplot as plt\n",
    "import scipy.stats as stats\n",
    "import time as time\n",
    "import sklearn"
   ]
  },
  {
   "cell_type": "code",
   "execution_count": 4,
   "metadata": {},
   "outputs": [],
   "source": [
    "import statsmodels.api as sm\n",
    "from statsmodels.formula.api import ols\n",
    "from statsmodels.stats.multicomp import pairwise_tukeyhsd"
   ]
  },
  {
   "cell_type": "code",
   "execution_count": 4,
   "metadata": {},
   "outputs": [],
   "source": [
    "#Importing the distance dataframe for testing\n",
    "#Creating the truck distance dataframe, drone distance dataframe with drone speed half of truck speed\n",
    "#Importing the distance dataframe\n",
    "columns = [i for i in range(1,26)]\n",
    "distance_dataframe = pd.read_csv('distance_dataframes/dist_dataframe_normal_1_25_wo:0.csv',names = columns)\n",
    "distance_dataframe = distance_dataframe.iloc[1:]\n",
    "\n",
    "truck_multiplier = 1\n",
    "drone_multiplier = 0.5\n",
    "\n",
    "#Creating the individual dataframes\n",
    "truck_time_dataframe, drone_time_dataframe = multiplydistancedataframe(distance_dataframe, truck_multiplier, drone_multiplier)"
   ]
  },
  {
   "cell_type": "code",
   "execution_count": 5,
   "metadata": {},
   "outputs": [
    {
     "data": {
      "text/html": [
       "<div>\n",
       "<style scoped>\n",
       "    .dataframe tbody tr th:only-of-type {\n",
       "        vertical-align: middle;\n",
       "    }\n",
       "\n",
       "    .dataframe tbody tr th {\n",
       "        vertical-align: top;\n",
       "    }\n",
       "\n",
       "    .dataframe thead th {\n",
       "        text-align: right;\n",
       "    }\n",
       "</style>\n",
       "<table border=\"1\" class=\"dataframe\">\n",
       "  <thead>\n",
       "    <tr style=\"text-align: right;\">\n",
       "      <th></th>\n",
       "      <th>1</th>\n",
       "      <th>2</th>\n",
       "      <th>3</th>\n",
       "      <th>4</th>\n",
       "      <th>5</th>\n",
       "      <th>6</th>\n",
       "      <th>7</th>\n",
       "      <th>8</th>\n",
       "      <th>9</th>\n",
       "      <th>10</th>\n",
       "      <th>...</th>\n",
       "      <th>16</th>\n",
       "      <th>17</th>\n",
       "      <th>18</th>\n",
       "      <th>19</th>\n",
       "      <th>20</th>\n",
       "      <th>21</th>\n",
       "      <th>22</th>\n",
       "      <th>23</th>\n",
       "      <th>24</th>\n",
       "      <th>25</th>\n",
       "    </tr>\n",
       "  </thead>\n",
       "  <tbody>\n",
       "    <tr>\n",
       "      <th>1</th>\n",
       "      <td>0.00</td>\n",
       "      <td>0.35</td>\n",
       "      <td>0.59</td>\n",
       "      <td>0.30</td>\n",
       "      <td>0.20</td>\n",
       "      <td>0.22</td>\n",
       "      <td>0.49</td>\n",
       "      <td>0.68</td>\n",
       "      <td>0.59</td>\n",
       "      <td>0.50</td>\n",
       "      <td>...</td>\n",
       "      <td>0.24</td>\n",
       "      <td>0.43</td>\n",
       "      <td>0.44</td>\n",
       "      <td>0.84</td>\n",
       "      <td>0.37</td>\n",
       "      <td>0.54</td>\n",
       "      <td>0.27</td>\n",
       "      <td>0.29</td>\n",
       "      <td>0.33</td>\n",
       "      <td>0.16</td>\n",
       "    </tr>\n",
       "    <tr>\n",
       "      <th>2</th>\n",
       "      <td>0.35</td>\n",
       "      <td>0.00</td>\n",
       "      <td>0.29</td>\n",
       "      <td>0.08</td>\n",
       "      <td>0.17</td>\n",
       "      <td>0.35</td>\n",
       "      <td>0.22</td>\n",
       "      <td>0.70</td>\n",
       "      <td>0.54</td>\n",
       "      <td>0.32</td>\n",
       "      <td>...</td>\n",
       "      <td>0.53</td>\n",
       "      <td>0.41</td>\n",
       "      <td>0.55</td>\n",
       "      <td>0.60</td>\n",
       "      <td>0.30</td>\n",
       "      <td>0.20</td>\n",
       "      <td>0.21</td>\n",
       "      <td>0.23</td>\n",
       "      <td>0.27</td>\n",
       "      <td>0.21</td>\n",
       "    </tr>\n",
       "    <tr>\n",
       "      <th>3</th>\n",
       "      <td>0.59</td>\n",
       "      <td>0.29</td>\n",
       "      <td>0.00</td>\n",
       "      <td>0.30</td>\n",
       "      <td>0.44</td>\n",
       "      <td>0.48</td>\n",
       "      <td>0.40</td>\n",
       "      <td>0.96</td>\n",
       "      <td>0.79</td>\n",
       "      <td>0.54</td>\n",
       "      <td>...</td>\n",
       "      <td>0.80</td>\n",
       "      <td>0.40</td>\n",
       "      <td>0.83</td>\n",
       "      <td>0.73</td>\n",
       "      <td>0.57</td>\n",
       "      <td>0.29</td>\n",
       "      <td>0.34</td>\n",
       "      <td>0.51</td>\n",
       "      <td>0.55</td>\n",
       "      <td>0.42</td>\n",
       "    </tr>\n",
       "    <tr>\n",
       "      <th>4</th>\n",
       "      <td>0.30</td>\n",
       "      <td>0.08</td>\n",
       "      <td>0.30</td>\n",
       "      <td>0.00</td>\n",
       "      <td>0.15</td>\n",
       "      <td>0.27</td>\n",
       "      <td>0.29</td>\n",
       "      <td>0.73</td>\n",
       "      <td>0.59</td>\n",
       "      <td>0.38</td>\n",
       "      <td>...</td>\n",
       "      <td>0.50</td>\n",
       "      <td>0.34</td>\n",
       "      <td>0.56</td>\n",
       "      <td>0.68</td>\n",
       "      <td>0.33</td>\n",
       "      <td>0.28</td>\n",
       "      <td>0.14</td>\n",
       "      <td>0.25</td>\n",
       "      <td>0.30</td>\n",
       "      <td>0.14</td>\n",
       "    </tr>\n",
       "    <tr>\n",
       "      <th>5</th>\n",
       "      <td>0.20</td>\n",
       "      <td>0.17</td>\n",
       "      <td>0.44</td>\n",
       "      <td>0.15</td>\n",
       "      <td>0.00</td>\n",
       "      <td>0.29</td>\n",
       "      <td>0.30</td>\n",
       "      <td>0.61</td>\n",
       "      <td>0.49</td>\n",
       "      <td>0.33</td>\n",
       "      <td>...</td>\n",
       "      <td>0.36</td>\n",
       "      <td>0.44</td>\n",
       "      <td>0.42</td>\n",
       "      <td>0.66</td>\n",
       "      <td>0.23</td>\n",
       "      <td>0.35</td>\n",
       "      <td>0.22</td>\n",
       "      <td>0.14</td>\n",
       "      <td>0.19</td>\n",
       "      <td>0.13</td>\n",
       "    </tr>\n",
       "  </tbody>\n",
       "</table>\n",
       "<p>5 rows × 25 columns</p>\n",
       "</div>"
      ],
      "text/plain": [
       "     1     2     3     4     5     6     7     8     9     10  ...    16  \\\n",
       "1  0.00  0.35  0.59  0.30  0.20  0.22  0.49  0.68  0.59  0.50  ...  0.24   \n",
       "2  0.35  0.00  0.29  0.08  0.17  0.35  0.22  0.70  0.54  0.32  ...  0.53   \n",
       "3  0.59  0.29  0.00  0.30  0.44  0.48  0.40  0.96  0.79  0.54  ...  0.80   \n",
       "4  0.30  0.08  0.30  0.00  0.15  0.27  0.29  0.73  0.59  0.38  ...  0.50   \n",
       "5  0.20  0.17  0.44  0.15  0.00  0.29  0.30  0.61  0.49  0.33  ...  0.36   \n",
       "\n",
       "     17    18    19    20    21    22    23    24    25  \n",
       "1  0.43  0.44  0.84  0.37  0.54  0.27  0.29  0.33  0.16  \n",
       "2  0.41  0.55  0.60  0.30  0.20  0.21  0.23  0.27  0.21  \n",
       "3  0.40  0.83  0.73  0.57  0.29  0.34  0.51  0.55  0.42  \n",
       "4  0.34  0.56  0.68  0.33  0.28  0.14  0.25  0.30  0.14  \n",
       "5  0.44  0.42  0.66  0.23  0.35  0.22  0.14  0.19  0.13  \n",
       "\n",
       "[5 rows x 25 columns]"
      ]
     },
     "execution_count": 5,
     "metadata": {},
     "output_type": "execute_result"
    }
   ],
   "source": [
    "truck_time_dataframe.head()"
   ]
  },
  {
   "cell_type": "markdown",
   "metadata": {},
   "source": [
    "Before determining optimal parameter values, I want to decide which model to run.\n",
    "I have choice of selecting:\n",
    "- Random or heuristic initialization\n",
    "- With or without elitism\n",
    "- Recombination operator: FSTSP_OX1Crossover, FSTSP_OX1Crossover_R, FSTSP_OX1Crossover_N\n",
    "- Mutation operator: Two-Opt Swap, Two-Opt Flip\n",
    "- The termination condition: maximum number of generations or the duplicate count"
   ]
  },
  {
   "cell_type": "markdown",
   "metadata": {},
   "source": [
    "I am going to perform this analysis on the single dataset dist_dataframe_normal_1_25_wo:0.csv. \n",
    "\n",
    "To start off with, I am going to decide the initialisation operators and elitism condition by performing a two-way ANOVA, where the factors will be initialization type (with levels random and heuristic) and elitism type (with levels on or off).\n",
    "\n",
    "The chosen measure of success will be the fitness value and time value.\n",
    "\n",
    "For experiment 1, we will fix the parameters of the model as follows:\n",
    "- Population size: 100\n",
    "- Number of parents: 75\n",
    "- Number of offspring: 100\n",
    "- Tournmanet size: 3\n",
    "- Tournamnet probability:0.9\n",
    "- Mutation probability: 0.10\n",
    "- Drone endurance: 1\n",
    "- Inverse truck speed: 1\n",
    "- Inverse drone speed: 2\n",
    "For the operators:\n",
    "- Recombination: order_1_crossover\n",
    "- Mutation: two_opt_swap\n",
    "\n",
    "As we will be performing 2-way ANOVA, we need to define our hypothesis:\n",
    "- H0: There is no significant difference in the mean of datasets across the two variables.\n",
    "- H1: There is a significant difference in the mean of datasets across the two variables.\n"
   ]
  },
  {
   "cell_type": "markdown",
   "metadata": {},
   "source": [
    "Experiment 1: Initialisation, Elitism"
   ]
  },
  {
   "cell_type": "code",
   "execution_count": 6,
   "metadata": {},
   "outputs": [],
   "source": [
    "#Experiment 1.1\n",
    "#Initialising the class for initialisation type = 'random' and elitisim = 'false'\n",
    "ea_one = eaFSTSP_One(100, 25, distance_dataframe, truck_time_dataframe, drone_time_dataframe)"
   ]
  },
  {
   "cell_type": "code",
   "execution_count": null,
   "metadata": {},
   "outputs": [],
   "source": [
    "#Running 30 iterations\n",
    "number_of_iterations = 30\n",
    "\n",
    "array_max_starting_fitness_values = []\n",
    "array_max_ending_fitness_values = []\n",
    "array_run_time_values = []\n",
    "\n",
    "for i in range(number_of_iterations):\n",
    "    #Initialise\n",
    "    init = ea_one.initialize(1, 1, 1)\n",
    "    #Obtain starting fitness value from initial population\n",
    "    maximum_starting_fitness_value = max(init[3])\n",
    "    run = ea_one.mainLoop(75, 100, 3, 0.90, 0.10, 200)\n",
    "    #Obtain final fitness value from ending population\n",
    "    maximum_finishing_fitness_value = np.amax(run[3])\n",
    "    #Obtain run time\n",
    "    total_run_time = run[4]\n",
    "    #Appending the values to the arrays\n",
    "    array_max_starting_fitness_values.append(maximum_starting_fitness_value)\n",
    "    array_max_ending_fitness_values.append(maximum_finishing_fitness_value)\n",
    "    array_run_time_values.append(total_run_time)"
   ]
  },
  {
   "cell_type": "code",
   "execution_count": null,
   "metadata": {},
   "outputs": [],
   "source": [
    "#Creating a dataframe with the values obtained\n",
    "data = [['Random', 'N', array_max_ending_fitness_values[i], array_run_time_values[i], ((array_max_ending_fitness_values[i]-array_max_starting_fitness_values[i])/array_run_time_values[i])] for i in range(30)]\n",
    "columns = ['Initialisation Type', 'Elitism(Y/N)', 'Maximum Fitness', 'Time', 'Fitness Change per Time']\n",
    "df = pd.DataFrame(data, columns=columns)"
   ]
  },
  {
   "cell_type": "code",
   "execution_count": null,
   "metadata": {},
   "outputs": [],
   "source": [
    "df.head()"
   ]
  },
  {
   "cell_type": "code",
   "execution_count": null,
   "metadata": {},
   "outputs": [],
   "source": [
    "#Experiment 1.2: Initialising the class for initialisation type = 'random' and elitisim = 'true'\n",
    "ea_two = eaFSTSP_One_elitism(100, 25, distance_dataframe, truck_time_dataframe, drone_time_dataframe)"
   ]
  },
  {
   "cell_type": "code",
   "execution_count": null,
   "metadata": {},
   "outputs": [],
   "source": [
    "#Running 30 iterations\n",
    "number_of_iterations = 30\n",
    "\n",
    "array_max_starting_fitness_values = []\n",
    "array_max_ending_fitness_values = []\n",
    "array_run_time_values = []\n",
    "\n",
    "for i in range(number_of_iterations):\n",
    "    #Initialise\n",
    "    init = ea_two.initialize(1, 1, 1)\n",
    "    #Obtain starting fitness value from initial population\n",
    "    maximum_starting_fitness_value = max(init[3])\n",
    "    run = ea_two.mainLoop(75, 100, 3, 0.90, 0.10, 200)\n",
    "    #Obtain final fitness value from ending population\n",
    "    maximum_finishing_fitness_value = np.amax(run[3])\n",
    "    #Obtain run time\n",
    "    total_run_time = run[4]\n",
    "    #Appending the values to the arrays\n",
    "    array_max_starting_fitness_values.append(maximum_starting_fitness_value)\n",
    "    array_max_ending_fitness_values.append(maximum_finishing_fitness_value)\n",
    "    array_run_time_values.append(total_run_time)"
   ]
  },
  {
   "cell_type": "code",
   "execution_count": null,
   "metadata": {},
   "outputs": [],
   "source": [
    "#Creating a dataframe with the values obtained\n",
    "data = [['Random', 'Y', array_max_ending_fitness_values[i], array_run_time_values[i], ((array_max_ending_fitness_values[i]-array_max_starting_fitness_values[i])/array_run_time_values[i])] for i in range(30)]\n",
    "columns = ['Initialisation Type', 'Elitism(Y/N)', 'Maximum Fitness', 'Time', 'Fitness Change per Time']\n",
    "df2 = pd.DataFrame(data, columns=columns)"
   ]
  },
  {
   "cell_type": "code",
   "execution_count": null,
   "metadata": {},
   "outputs": [],
   "source": [
    "#Appending the dataframe onto the previous results dataframe\n",
    "results_df = pd.concat([df, df2], ignore_index=True)"
   ]
  },
  {
   "cell_type": "markdown",
   "metadata": {},
   "source": [
    "Experiment 1.3: Initialising the class for initialisation type = 'heuristic' and elitisim = 'false'.\n",
    "\n",
    "I will need to import the class again as I want to change the time the algorithm starts recording to when it initializes the population "
   ]
  },
  {
   "cell_type": "code",
   "execution_count": null,
   "metadata": {},
   "outputs": [],
   "source": [
    "class eaFSTSP_Two:\n",
    "    def __init__(self, population_size, number_of_cities, distance_matrix, truck_distance_matrix, drone_distance_matrix):\n",
    "        #number_of_parents, number_of_offspring, tournament_size, tournament_probability, mutation_probability\n",
    "        self.population_size = population_size\n",
    "        self.number_of_cities = number_of_cities\n",
    "        self.distance_matrix = distance_matrix\n",
    "        self.truck_distance_matrix = truck_distance_matrix\n",
    "        self.drone_distance_matrix = drone_distance_matrix\n",
    "        self.fstsp = eaFSTSP(self.distance_matrix, self.truck_distance_matrix, self.drone_distance_matrix, self.population_size, self.number_of_cities)\n",
    "        \n",
    "    #Initialize and evaluate population\n",
    "    def initialize(self, drone_endurance, inverse_truck_speed, inverse_drone_speed):\n",
    "        init_time_initialization = time.time() \n",
    "        self.routes, self.allocation, self.population, self.fitness = self.fstsp.heuristic_initialization(drone_endurance, inverse_truck_speed, inverse_drone_speed)\n",
    "        final_time_initialization = time.time()\n",
    "        self.initialization_time = final_time_initialization - init_time_initialization\n",
    "        return(self.routes, self.allocation, self.population, self.fitness)\n",
    "        \n",
    "    #Run the loop  \n",
    "    def mainLoop(self, number_of_parents, number_of_offspring, tournament_size, tournament_probability, mutation_probability, total_generations):\n",
    "         #We can record time it takes for the loop \n",
    "        init_time = time.time() \n",
    "        \n",
    "        generation_number =0\n",
    "        initial_population = self.population\n",
    "        initial_allocation = self.allocation\n",
    "        self.fitness_array = []\n",
    "        self.duplicates = []\n",
    "        while(generation_number<total_generations):\n",
    "            #Select parents\n",
    "            mating_pool, allocation_pool = self.fstsp.parent_selection_tournament(number_of_parents, self.routes, self.allocation,self.fitness,tournament_size, tournament_probability)\n",
    "            #Recombination\n",
    "            offspring_database, offspring_allocation_database = self.fstsp.order_one_crossover(mating_pool, allocation_pool, number_of_offspring)\n",
    "            #Mutation\n",
    "            mutated_offspring_df, mutated_allocation_arrays_df = self.fstsp.two_opt_swap(offspring_database, offspring_allocation_database, mutation_probability)\n",
    "            #Evaluation\n",
    "            offspring_with_fitness, offspring_allocation = self.fstsp.evaluation(mutated_offspring_df, mutated_allocation_arrays_df)\n",
    "            offspring_with_fitness.columns = initial_population.columns\n",
    "            offspring_allocation.columns = initial_allocation.columns\n",
    "            #Replacement\n",
    "            next_population, next_allocation = self.fstsp.replacement(self.population, offspring_with_fitness, initial_allocation, offspring_allocation)\n",
    "            #Preparing for next generation\n",
    "            self.routes = next_population.drop(next_population.columns[-1], axis=1)\n",
    "            self.allocation = next_allocation\n",
    "            self.fitness = next_population.iloc[:, -1].values.tolist()\n",
    "      \n",
    "            fitness = next_population['Fitness'].max()\n",
    "            self.fitness_array.append(fitness)\n",
    "            \n",
    "            duplicates_count = next_population.duplicated().sum()\n",
    "            self.duplicates.append(duplicates_count)\n",
    "            \n",
    "            generation_number = generation_number + 1\n",
    "            \n",
    "        #Recording the end time\n",
    "        final_time = time.time()\n",
    "        \n",
    "        total_time_loop = final_time - init_time\n",
    "        total_time = total_time_loop + self.initialization_time\n",
    "        return(next_population, next_allocation, self.fitness, self.fitness_array, total_time)\n",
    "        \n",
    "    def printOptimumFitness(self):\n",
    "        plt.plot(self.fitness_array, marker='x', linestyle='-')\n",
    "        plt.xlabel('Generation')\n",
    "        plt.ylabel('Fitness')\n",
    "        plt.title('Plot of Fitness against Generation Number')\n",
    "        plt.show()\n",
    "        \n",
    "    def printDuplicateCount(self):\n",
    "        plt.plot(self.duplicates, marker='x', linestyle='-')\n",
    "        plt.xlabel('Generation')\n",
    "        plt.ylabel('Duplicate Count')\n",
    "        plt.title('Plot of Number of Duplicate Individuals against Generation Number')\n",
    "        plt.show()"
   ]
  },
  {
   "cell_type": "code",
   "execution_count": null,
   "metadata": {},
   "outputs": [],
   "source": [
    "#Initialising the class for initialisation type = 'heuristc' and elitisim = 'false'\n",
    "ea_heuristic = eaFSTSP_Two(100, 25, distance_dataframe, truck_time_dataframe, drone_time_dataframe)"
   ]
  },
  {
   "cell_type": "code",
   "execution_count": null,
   "metadata": {},
   "outputs": [],
   "source": [
    "#Running 30 iterations\n",
    "number_of_iterations = 30\n",
    "\n",
    "array_max_starting_fitness_values = []\n",
    "array_max_ending_fitness_values = []\n",
    "array_run_time_values = []\n",
    "\n",
    "for i in range(number_of_iterations):\n",
    "    #Initialise\n",
    "    init = ea_heuristic.initialize(1, 1, 1)\n",
    "    #Obtain starting fitness value from initial population\n",
    "    maximum_starting_fitness_value = max(init[3])\n",
    "    run = ea_heuristic.mainLoop(75, 100, 3, 0.90, 0.10, 200)\n",
    "    #Obtain final fitness value from ending population\n",
    "    maximum_finishing_fitness_value = np.amax(run[3])\n",
    "    #Obtain run time\n",
    "    total_run_time = run[4]\n",
    "    #Appending the values to the arrays\n",
    "    array_max_starting_fitness_values.append(maximum_starting_fitness_value)\n",
    "    array_max_ending_fitness_values.append(maximum_finishing_fitness_value)\n",
    "    array_run_time_values.append(total_run_time)"
   ]
  },
  {
   "cell_type": "code",
   "execution_count": null,
   "metadata": {},
   "outputs": [],
   "source": [
    "#Creating a dataframe with the values obtained\n",
    "data = [['Heuristic', 'N', array_max_ending_fitness_values[i], array_run_time_values[i], ((array_max_ending_fitness_values[i]-array_max_starting_fitness_values[i])/array_run_time_values[i])] for i in range(30)]\n",
    "columns = ['Initialisation Type', 'Elitism(Y/N)', 'Maximum Fitness', 'Time', 'Fitness Change per Time']\n",
    "df3 = pd.DataFrame(data, columns=columns)"
   ]
  },
  {
   "cell_type": "code",
   "execution_count": null,
   "metadata": {},
   "outputs": [],
   "source": [
    "#Appending the dataframe onto the previous results dataframe\n",
    "results_df = pd.concat([results_df, df3], ignore_index=True)"
   ]
  },
  {
   "cell_type": "code",
   "execution_count": null,
   "metadata": {},
   "outputs": [],
   "source": [
    "#Experiment 1.4 \n",
    "#Initialising the class for initialisation type = 'heuristic' and elitisim = 'true'"
   ]
  },
  {
   "cell_type": "code",
   "execution_count": null,
   "metadata": {},
   "outputs": [],
   "source": [
    "class eaFSTSP_Two_elitism:\n",
    "    def __init__(self, population_size, number_of_cities, distance_matrix, truck_distance_matrix, drone_distance_matrix):\n",
    "        #number_of_parents, number_of_offspring, tournament_size, tournament_probability, mutation_probability\n",
    "        self.population_size = population_size\n",
    "        self.number_of_cities = number_of_cities\n",
    "        self.distance_matrix = distance_matrix\n",
    "        self.truck_distance_matrix = truck_distance_matrix\n",
    "        self.drone_distance_matrix = drone_distance_matrix\n",
    "        self.fstsp = eaFSTSP(self.distance_matrix, self.truck_distance_matrix, self.drone_distance_matrix, self.population_size, self.number_of_cities)\n",
    "        \n",
    "    #Initialize and evaluate population\n",
    "    def initialize(self, drone_endurance, inverse_truck_speed, inverse_drone_speed):\n",
    "        init_time_initialization = time.time() \n",
    "        self.routes, self.allocation, self.population, self.fitness = self.fstsp.heuristic_initialization(drone_endurance, inverse_truck_speed, inverse_drone_speed)\n",
    "        final_time_initialization = time.time()\n",
    "        self.initialization_time = final_time_initialization - init_time_initialization\n",
    "        return(self.routes, self.allocation, self.population, self.fitness)\n",
    "        \n",
    "    #Run the loop  \n",
    "    def mainLoop(self, number_of_parents, number_of_offspring, tournament_size, tournament_probability, mutation_probability, total_generations):\n",
    "        #We can record time it takes for the loop \n",
    "        init_time = time.time() \n",
    "        \n",
    "        generation_number =0\n",
    "        initial_population = self.population\n",
    "        initial_allocation = self.allocation\n",
    "        self.fitness_array = []\n",
    "        self.duplicates = []\n",
    "        elite_member_index = initial_population['Fitness'].idxmax()\n",
    "        elite_member = initial_population.iloc[elite_member_index]\n",
    "        elite_allocation = initial_allocation.iloc[elite_member_index]\n",
    "        elite_fitness = elite_member['Fitness']\n",
    "        while(generation_number<total_generations):\n",
    "            #Select parents\n",
    "            mating_pool, allocation_pool = self.fstsp.parent_selection_tournament(number_of_parents, self.routes, self.allocation,self.fitness,tournament_size, tournament_probability)\n",
    "            #Recombination\n",
    "            offspring_database, offspring_allocation_database = self.fstsp.order_one_crossover(mating_pool, allocation_pool, number_of_offspring)\n",
    "            #Mutation\n",
    "            mutated_offspring_df, mutated_allocation_arrays_df = self.fstsp.two_opt_swap(offspring_database, offspring_allocation_database, mutation_probability)\n",
    "            #Evaluation\n",
    "            offspring_with_fitness, offspring_allocation = self.fstsp.evaluation(mutated_offspring_df, mutated_allocation_arrays_df)\n",
    "            offspring_with_fitness.columns = initial_population.columns\n",
    "            offspring_allocation.columns = initial_allocation.columns\n",
    "            #Replacement\n",
    "            next_population, next_allocation = self.fstsp.replacement(self.population, offspring_with_fitness, initial_allocation, offspring_allocation)\n",
    "            #\n",
    "            if elite_fitness < next_population['Fitness'].max():\n",
    "                next_population = next_population\n",
    "            else:\n",
    "                minimum_index = next_population['Fitness'].idxmin()\n",
    "                next_population.loc[minimum_index] = elite_member\n",
    "                next_allocation.loc[minimum_index] = elite_allocation\n",
    "            #Preparing for next generation\n",
    "            self.routes = next_population.drop(next_population.columns[-1], axis=1)\n",
    "            self.allocation = next_allocation\n",
    "            self.fitness = next_population.iloc[:, -1].values.tolist()\n",
    "      \n",
    "            fitness = next_population['Fitness'].max()\n",
    "            self.fitness_array.append(fitness)\n",
    "            \n",
    "            #\n",
    "            elite_member_index = next_population['Fitness'].idxmax()\n",
    "            elite_member = next_population.loc[elite_member_index]\n",
    "            elite_allocation = next_allocation.loc[elite_member_index]\n",
    "            elite_fitness = elite_member['Fitness']\n",
    "            \n",
    "            #\n",
    "            duplicates_count = next_population.duplicated().sum()\n",
    "            self.duplicates.append(duplicates_count)\n",
    "            \n",
    "            generation_number = generation_number + 1\n",
    "        \n",
    "        #Recording the end time\n",
    "        final_time = time.time()\n",
    "        \n",
    "        total_time_loop = final_time - init_time\n",
    "        total_time = total_time_loop + self.initialization_time\n",
    "        \n",
    "        return(next_population, next_allocation, self.fitness, self.fitness_array, total_time)\n",
    "        \n",
    "    def printOptimumFitness(self):\n",
    "        plt.plot(self.fitness_array, marker='x', linestyle='-')\n",
    "        plt.xlabel('Generation')\n",
    "        plt.ylabel('Fitness')\n",
    "        plt.title('Plot of Fitness against Generation Number')\n",
    "        plt.show()\n",
    "        \n",
    "    def printDuplicateCount(self):\n",
    "        plt.plot(self.duplicates, marker='x', linestyle='-')\n",
    "        plt.xlabel('Generation')\n",
    "        plt.ylabel('Duplicate Count')\n",
    "        plt.title('Plot of Number of Duplicate Individuals against Generation Number')\n",
    "        plt.show()"
   ]
  },
  {
   "cell_type": "code",
   "execution_count": null,
   "metadata": {},
   "outputs": [],
   "source": [
    "ea_heuristic = eaFSTSP_Two_elitism(100, 25, distance_dataframe, truck_time_dataframe, drone_time_dataframe)"
   ]
  },
  {
   "cell_type": "code",
   "execution_count": null,
   "metadata": {},
   "outputs": [],
   "source": [
    "#Running 30 iterations\n",
    "number_of_iterations = 30\n",
    "\n",
    "array_max_starting_fitness_values = []\n",
    "array_max_ending_fitness_values = []\n",
    "array_run_time_values = []\n",
    "\n",
    "for i in range(number_of_iterations):\n",
    "    #Initialise\n",
    "    init = ea_heuristic.initialize(1, 1, 1)\n",
    "    #Obtain starting fitness value from initial population\n",
    "    maximum_starting_fitness_value = max(init[3])\n",
    "    run = ea_heuristic.mainLoop(75, 100, 3, 0.90, 0.10, 200)\n",
    "    #Obtain final fitness value from ending population\n",
    "    maximum_finishing_fitness_value = np.amax(run[3])\n",
    "    #Obtain run time\n",
    "    total_run_time = run[4]\n",
    "    #Appending the values to the arrays\n",
    "    array_max_starting_fitness_values.append(maximum_starting_fitness_value)\n",
    "    array_max_ending_fitness_values.append(maximum_finishing_fitness_value)\n",
    "    array_run_time_values.append(total_run_time)"
   ]
  },
  {
   "cell_type": "code",
   "execution_count": null,
   "metadata": {},
   "outputs": [],
   "source": [
    "#Creating a dataframe with the values obtained\n",
    "data = [['Heuristic', 'Y', array_max_ending_fitness_values[i], array_run_time_values[i], ((array_max_ending_fitness_values[i]-array_max_starting_fitness_values[i])/array_run_time_values[i])] for i in range(30)]\n",
    "columns = ['Initialisation Type', 'Elitism(Y/N)', 'Maximum Fitness', 'Time', 'Fitness Change per Time']\n",
    "df4 = pd.DataFrame(data, columns=columns)"
   ]
  },
  {
   "cell_type": "code",
   "execution_count": null,
   "metadata": {},
   "outputs": [],
   "source": [
    "#Appending the dataframe onto the previous results dataframe\n",
    "results_df = pd.concat([results_df, df4], ignore_index=True)"
   ]
  },
  {
   "cell_type": "code",
   "execution_count": null,
   "metadata": {},
   "outputs": [],
   "source": [
    "results_df"
   ]
  },
  {
   "cell_type": "code",
   "execution_count": null,
   "metadata": {},
   "outputs": [],
   "source": [
    "#Saving the dataframe as a csv file\n",
    "results_df.to_csv('Initialisation-Elitism.csv', index = False)"
   ]
  },
  {
   "cell_type": "markdown",
   "metadata": {},
   "source": [
    "In order to perform the ANOVA test, we need to determine if the dataset is normally distributed and that variances are equal between the different treatement groups.\n",
    "\n",
    "We can test for normality using the Shapiro-Wilks test, where $H_0$ will be that the data is normally distributed."
   ]
  },
  {
   "cell_type": "code",
   "execution_count": 10,
   "metadata": {},
   "outputs": [],
   "source": [
    "results_df = pd.read_csv('results/Initialisation-Elitism.csv')"
   ]
  },
  {
   "cell_type": "code",
   "execution_count": 8,
   "metadata": {},
   "outputs": [],
   "source": [
    "#Examining the maximum fitness values\n",
    "data = results_df['Maximum Fitness']\n",
    "\n",
    "#Performing the test\n",
    "statistic = stats.shapiro(data) "
   ]
  },
  {
   "cell_type": "code",
   "execution_count": 9,
   "metadata": {},
   "outputs": [
    {
     "data": {
      "text/plain": [
       "ShapiroResult(statistic=0.9363813400268555, pvalue=2.460771611367818e-05)"
      ]
     },
     "execution_count": 9,
     "metadata": {},
     "output_type": "execute_result"
    }
   ],
   "source": [
    "statistic"
   ]
  },
  {
   "cell_type": "markdown",
   "metadata": {},
   "source": [
    "The test suggests that we should reject the null hypothesis, that the data is not normally distributed."
   ]
  },
  {
   "cell_type": "markdown",
   "metadata": {},
   "source": [
    "We also need to ensure that the variances are equal between the treatment groups. We can check this using the Bartlett test."
   ]
  },
  {
   "cell_type": "code",
   "execution_count": 20,
   "metadata": {},
   "outputs": [],
   "source": [
    "group1 = results_df[(results_df['Initialisation Type'] == 'Random') & (results_df['Elitism(Y/N)'] == 'Y')]\n",
    "group2 = results_df[(results_df['Initialisation Type'] == 'Random') & (results_df['Elitism(Y/N)'] == 'N')]\n",
    "group3 = results_df[(results_df['Initialisation Type'] == 'Heuristic') & (results_df['Elitism(Y/N)'] == 'Y')]\n",
    "group4 = results_df[(results_df['Initialisation Type'] == 'Heuristic') & (results_df['Elitism(Y/N)'] == 'N')]"
   ]
  },
  {
   "cell_type": "code",
   "execution_count": 21,
   "metadata": {},
   "outputs": [],
   "source": [
    "treatment_group_1 = group1['Maximum Fitness']\n",
    "treatment_group_2 = group2['Maximum Fitness']\n",
    "treatment_group_3 = group3['Maximum Fitness']\n",
    "treatment_group_4 = group4['Maximum Fitness']"
   ]
  },
  {
   "cell_type": "code",
   "execution_count": 22,
   "metadata": {},
   "outputs": [],
   "source": [
    "# Performing the Bartlett test\n",
    "statistic, p_value = stats.bartlett(treatment_group_1, treatment_group_2, treatment_group_3, treatment_group_4)"
   ]
  },
  {
   "cell_type": "code",
   "execution_count": 23,
   "metadata": {},
   "outputs": [
    {
     "data": {
      "text/plain": [
       "(26.285921073834054, 8.309111589965764e-06)"
      ]
     },
     "execution_count": 23,
     "metadata": {},
     "output_type": "execute_result"
    }
   ],
   "source": [
    "statistic, p_value "
   ]
  },
  {
   "cell_type": "markdown",
   "metadata": {},
   "source": [
    "The test suggests that we should reject the hypothesis that the variance between each group is approximatley equal."
   ]
  },
  {
   "cell_type": "markdown",
   "metadata": {},
   "source": [
    "Let us perform some data analysis by plotting some graphs and performing visual inspection."
   ]
  },
  {
   "cell_type": "code",
   "execution_count": null,
   "metadata": {},
   "outputs": [],
   "source": [
    "data = results_df['Maximum Fitness']\n",
    "plt.hist(data, bins = 'auto')\n",
    "plt.xlabel('Fitness')\n",
    "plt.title('Histogram of Fitness Values for results_df')\n",
    "plt.savefig('Histogram of Fitness Values for results_df.png')"
   ]
  },
  {
   "cell_type": "code",
   "execution_count": null,
   "metadata": {},
   "outputs": [],
   "source": [
    "random_values = results_df[results_df['Initialisation Type'] == 'Random']\n",
    "heuristic_values = results_df[results_df['Initialisation Type'] == 'Heuristic']\n",
    "#Removing outliers\n",
    "heuristic_values = heuristic_values[heuristic_values['Time'] < 500]"
   ]
  },
  {
   "cell_type": "code",
   "execution_count": null,
   "metadata": {},
   "outputs": [],
   "source": [
    "data_r = random_values['Maximum Fitness']\n",
    "plt.hist(data_r, bins = 'auto')\n",
    "plt.xlabel('Fitness')\n",
    "plt.title('Histogram of Fitness Values for Randomly Generated Solutions')\n",
    "plt.savefig('Histogram of Fitness Values for Randomly Generated Solutions.png')"
   ]
  },
  {
   "cell_type": "code",
   "execution_count": null,
   "metadata": {},
   "outputs": [],
   "source": [
    "data_h = heuristic_values['Maximum Fitness']\n",
    "plt.hist(data_h, bins = 'auto')\n",
    "plt.xlabel('Fitness')\n",
    "plt.title('Histogram of Fitness Values for Heuristically Generated Solutions')\n",
    "plt.savefig('Histogram of Fitness Values for Heuristically Generated Solutions.png')"
   ]
  },
  {
   "cell_type": "code",
   "execution_count": null,
   "metadata": {},
   "outputs": [],
   "source": [
    "plt.figure(figsize=(8, 6))\n",
    "plt.scatter(x= random_values['Time'], y = random_values['Maximum Fitness'], c = 'red', label='Random')\n",
    "plt.scatter(x= heuristic_values['Time'], y = heuristic_values['Maximum Fitness'], c = 'blue', label='Heuristic')\n",
    "plt.xlabel('Time')\n",
    "plt.ylabel('Fitness')\n",
    "plt.title('Fitness against Time for Solutions in results_df')\n",
    "plt.savefig('Fitness against Time for Solutions in results_df.png')\n",
    "plt.legend()"
   ]
  },
  {
   "cell_type": "code",
   "execution_count": null,
   "metadata": {},
   "outputs": [],
   "source": [
    "random_elite = random_values[random_values['Elitism(Y/N)'] == 'Y']\n",
    "heuristic_elite = heuristic_values[heuristic_values['Elitism(Y/N)'] == 'Y']\n",
    "random_non_elite = random_values[random_values['Elitism(Y/N)'] == 'N']\n",
    "heuristic_non_elite = heuristic_values[heuristic_values['Elitism(Y/N)'] == 'N']"
   ]
  },
  {
   "cell_type": "code",
   "execution_count": null,
   "metadata": {},
   "outputs": [],
   "source": [
    "plt.figure(figsize=(8, 6))\n",
    "plt.scatter(x= random_elite['Time'], y = random_elite['Maximum Fitness'], c = 'red', label='Elitism')\n",
    "plt.scatter(x= random_non_elite['Time'], y = random_non_elite['Maximum Fitness'], c = 'blue', label='Non-Elitism')\n",
    "plt.xlabel('Time')\n",
    "plt.ylabel('Fitness')\n",
    "plt.title('Fitness against Time for Random Solutions')\n",
    "plt.savefig('Fitness against Time for Random Solutions.png')\n",
    "plt.legend()"
   ]
  },
  {
   "cell_type": "code",
   "execution_count": null,
   "metadata": {},
   "outputs": [],
   "source": [
    "plt.figure(figsize=(8, 6))\n",
    "plt.scatter(x= heuristic_elite['Time'], y = heuristic_elite['Maximum Fitness'], c = 'red', label='Elitism')\n",
    "plt.scatter(x= heuristic_non_elite['Time'], y = heuristic_non_elite['Maximum Fitness'], c = 'blue', label='Non-Elitism')\n",
    "plt.xlabel('Time')\n",
    "plt.ylabel('Fitness')\n",
    "plt.title('Fitness against Time for Heuristic Solutions')\n",
    "plt.savefig('Fitness against Time for Heuristic Solutions.png')\n",
    "plt.legend()"
   ]
  },
  {
   "cell_type": "markdown",
   "metadata": {},
   "source": [
    "In order to transform the data so that it will be normally distributed and that the variances between the different treatment groups is equal, I can apply the Box-Cox transformations.\n",
    "\n",
    "First, I need to ensure that the data is positive."
   ]
  },
  {
   "cell_type": "code",
   "execution_count": 24,
   "metadata": {},
   "outputs": [],
   "source": [
    "results_df = pd.read_csv('results/Initialisation-Elitism.csv')"
   ]
  },
  {
   "cell_type": "code",
   "execution_count": 25,
   "metadata": {},
   "outputs": [],
   "source": [
    "results_df['Maximum Fitness'] = results_df['Maximum Fitness'] * -1"
   ]
  },
  {
   "cell_type": "code",
   "execution_count": 26,
   "metadata": {},
   "outputs": [],
   "source": [
    "#Applying the transformation\n",
    "transformed_data, lambda_value = stats.boxcox(results_df['Maximum Fitness'])"
   ]
  },
  {
   "cell_type": "code",
   "execution_count": 27,
   "metadata": {},
   "outputs": [
    {
     "data": {
      "text/plain": [
       "ShapiroResult(statistic=0.9897106289863586, pvalue=0.508874773979187)"
      ]
     },
     "execution_count": 27,
     "metadata": {},
     "output_type": "execute_result"
    }
   ],
   "source": [
    "#Ensuring it is normalized\n",
    "statistic = stats.shapiro(transformed_data)\n",
    "statistic "
   ]
  },
  {
   "cell_type": "code",
   "execution_count": 28,
   "metadata": {},
   "outputs": [],
   "source": [
    "#Creating a new dataframe with the normalized values\n",
    "results_df['Maximum Fitness'] = transformed_data"
   ]
  },
  {
   "cell_type": "code",
   "execution_count": 29,
   "metadata": {},
   "outputs": [],
   "source": [
    "normalized_df = results_df "
   ]
  },
  {
   "cell_type": "code",
   "execution_count": 30,
   "metadata": {},
   "outputs": [
    {
     "data": {
      "text/html": [
       "<div>\n",
       "<style scoped>\n",
       "    .dataframe tbody tr th:only-of-type {\n",
       "        vertical-align: middle;\n",
       "    }\n",
       "\n",
       "    .dataframe tbody tr th {\n",
       "        vertical-align: top;\n",
       "    }\n",
       "\n",
       "    .dataframe thead th {\n",
       "        text-align: right;\n",
       "    }\n",
       "</style>\n",
       "<table border=\"1\" class=\"dataframe\">\n",
       "  <thead>\n",
       "    <tr style=\"text-align: right;\">\n",
       "      <th></th>\n",
       "      <th>Initialisation Type</th>\n",
       "      <th>Elitism(Y/N)</th>\n",
       "      <th>Maximum Fitness</th>\n",
       "      <th>Time</th>\n",
       "      <th>Fitness Change per Time</th>\n",
       "    </tr>\n",
       "  </thead>\n",
       "  <tbody>\n",
       "    <tr>\n",
       "      <th>0</th>\n",
       "      <td>Random</td>\n",
       "      <td>N</td>\n",
       "      <td>0.224386</td>\n",
       "      <td>97.184824</td>\n",
       "      <td>0.037866</td>\n",
       "    </tr>\n",
       "    <tr>\n",
       "      <th>1</th>\n",
       "      <td>Random</td>\n",
       "      <td>N</td>\n",
       "      <td>0.224438</td>\n",
       "      <td>84.580819</td>\n",
       "      <td>0.043982</td>\n",
       "    </tr>\n",
       "    <tr>\n",
       "      <th>2</th>\n",
       "      <td>Random</td>\n",
       "      <td>N</td>\n",
       "      <td>0.224493</td>\n",
       "      <td>80.489574</td>\n",
       "      <td>0.037334</td>\n",
       "    </tr>\n",
       "    <tr>\n",
       "      <th>3</th>\n",
       "      <td>Random</td>\n",
       "      <td>N</td>\n",
       "      <td>0.224426</td>\n",
       "      <td>78.958938</td>\n",
       "      <td>0.047936</td>\n",
       "    </tr>\n",
       "    <tr>\n",
       "      <th>4</th>\n",
       "      <td>Random</td>\n",
       "      <td>N</td>\n",
       "      <td>0.224475</td>\n",
       "      <td>84.650495</td>\n",
       "      <td>0.044713</td>\n",
       "    </tr>\n",
       "  </tbody>\n",
       "</table>\n",
       "</div>"
      ],
      "text/plain": [
       "  Initialisation Type Elitism(Y/N)  Maximum Fitness       Time  \\\n",
       "0              Random            N         0.224386  97.184824   \n",
       "1              Random            N         0.224438  84.580819   \n",
       "2              Random            N         0.224493  80.489574   \n",
       "3              Random            N         0.224426  78.958938   \n",
       "4              Random            N         0.224475  84.650495   \n",
       "\n",
       "   Fitness Change per Time  \n",
       "0                 0.037866  \n",
       "1                 0.043982  \n",
       "2                 0.037334  \n",
       "3                 0.047936  \n",
       "4                 0.044713  "
      ]
     },
     "execution_count": 30,
     "metadata": {},
     "output_type": "execute_result"
    }
   ],
   "source": [
    "normalized_df.head()"
   ]
  },
  {
   "cell_type": "markdown",
   "metadata": {},
   "source": [
    "Now, we can check if treatment groups satisfy the condition of hmogeneity of variances."
   ]
  },
  {
   "cell_type": "code",
   "execution_count": 31,
   "metadata": {},
   "outputs": [],
   "source": [
    "group1 = results_df[(results_df['Initialisation Type'] == 'Random') & (results_df['Elitism(Y/N)'] == 'Y')]\n",
    "group2 = results_df[(results_df['Initialisation Type'] == 'Random') & (results_df['Elitism(Y/N)'] == 'N')]\n",
    "group3 = results_df[(results_df['Initialisation Type'] == 'Heuristic') & (results_df['Elitism(Y/N)'] == 'Y')]\n",
    "group4 = results_df[(results_df['Initialisation Type'] == 'Heuristic') & (results_df['Elitism(Y/N)'] == 'N')]"
   ]
  },
  {
   "cell_type": "code",
   "execution_count": 32,
   "metadata": {},
   "outputs": [],
   "source": [
    "treatment_group_1 = group1['Maximum Fitness']\n",
    "treatment_group_2 = group2['Maximum Fitness']\n",
    "treatment_group_3 = group3['Maximum Fitness']\n",
    "treatment_group_4 = group4['Maximum Fitness']"
   ]
  },
  {
   "cell_type": "code",
   "execution_count": 33,
   "metadata": {},
   "outputs": [],
   "source": [
    "# Performing the Bartlett test\n",
    "statistic, p_value = stats.bartlett(treatment_group_1, treatment_group_2, treatment_group_3, treatment_group_4)"
   ]
  },
  {
   "cell_type": "code",
   "execution_count": 34,
   "metadata": {},
   "outputs": [
    {
     "data": {
      "text/plain": [
       "(6.619427002672655, 0.08506973400003477)"
      ]
     },
     "execution_count": 34,
     "metadata": {},
     "output_type": "execute_result"
    }
   ],
   "source": [
    "statistic, p_value "
   ]
  },
  {
   "cell_type": "markdown",
   "metadata": {},
   "source": [
    "We have a very small p-value of 0.085 but it is larger than the typical threshold of 0.05."
   ]
  },
  {
   "cell_type": "code",
   "execution_count": 35,
   "metadata": {},
   "outputs": [],
   "source": [
    "#Renaming the columns\n",
    "normalized_df = normalized_df.rename(columns={'Maximum Fitness': 'Maximum_Fitness', 'Initialisation Type': 'Initialisation_Type'})"
   ]
  },
  {
   "cell_type": "code",
   "execution_count": 36,
   "metadata": {},
   "outputs": [],
   "source": [
    "normalized_df = normalized_df.rename(columns={'Elitism(Y/N)': 'Elitism'})"
   ]
  },
  {
   "cell_type": "markdown",
   "metadata": {},
   "source": [
    "Now we can perform the 2-way ANOVA test."
   ]
  },
  {
   "cell_type": "code",
   "execution_count": 37,
   "metadata": {},
   "outputs": [],
   "source": [
    "# Perform two-way ANOVA\n",
    "model = ols('Maximum_Fitness ~ Initialisation_Type + Elitism + Initialisation_Type:Elitism', data=normalized_df).fit()\n",
    "anova_table = sm.stats.anova_lm(model, typ=2)"
   ]
  },
  {
   "cell_type": "code",
   "execution_count": 38,
   "metadata": {},
   "outputs": [
    {
     "name": "stdout",
     "output_type": "stream",
     "text": [
      "                                   sum_sq     df          F        PR(>F)\n",
      "Initialisation_Type          1.236689e-07    1.0  69.707094  1.667768e-13\n",
      "Elitism                      1.457836e-08    1.0   8.217220  4.929082e-03\n",
      "Initialisation_Type:Elitism  4.619461e-09    1.0   2.603800  1.093249e-01\n",
      "Residual                     2.057982e-07  116.0        NaN           NaN\n"
     ]
    }
   ],
   "source": [
    "print(anova_table)"
   ]
  },
  {
   "cell_type": "code",
   "execution_count": 39,
   "metadata": {},
   "outputs": [],
   "source": [
    "df = pd.DataFrame(anova_table)"
   ]
  },
  {
   "cell_type": "code",
   "execution_count": 41,
   "metadata": {},
   "outputs": [],
   "source": [
    "df.to_csv(\"Initialisation-Elitism Anova Table\")"
   ]
  },
  {
   "cell_type": "markdown",
   "metadata": {},
   "source": [
    "We have the $p-values$ for Initialisation_Type and Elitism < 0.5, which suggests they both have a significant effect on maximum fitness (although the p-score for Initialisation_Type << p-score for Elitism).\n",
    "\n",
    "One possible post-hoc test we can perform is Tukey's test. This is done using the $pairwise\\_tukeyhsd$ function from $statsmodels.stats.multicomp$."
   ]
  },
  {
   "cell_type": "code",
   "execution_count": null,
   "metadata": {},
   "outputs": [],
   "source": [
    "tukey_result = pairwise_tukeyhsd(normalized_df['Maximum_Fitness'], normalized_df['Initialisation_Type'] + normalized_df['Elitism'], alpha = 0.05)"
   ]
  },
  {
   "cell_type": "code",
   "execution_count": null,
   "metadata": {},
   "outputs": [],
   "source": [
    "tukey_result.plot_simultaneous()\n",
    "plt.savefig('tukey_result.plot_simultaneous.png')"
   ]
  },
  {
   "cell_type": "code",
   "execution_count": null,
   "metadata": {},
   "outputs": [],
   "source": [
    "tukey_result.summary()"
   ]
  },
  {
   "cell_type": "code",
   "execution_count": null,
   "metadata": {},
   "outputs": [],
   "source": [
    "tukey_summary = pd.DataFrame(tukey_result.summary().data[1:], columns=tukey_result.summary().data[0])"
   ]
  },
  {
   "cell_type": "code",
   "execution_count": null,
   "metadata": {},
   "outputs": [],
   "source": [
    "tukey_summary.to_csv('tukey_summary_heuristic_elitism.csv', index=False)"
   ]
  },
  {
   "cell_type": "markdown",
   "metadata": {},
   "source": [
    "We are only interested in the results: HeuristicN & HeuristicY, RandomN & RandomY"
   ]
  },
  {
   "cell_type": "markdown",
   "metadata": {},
   "source": [
    "Let us perform a 2-way ANOVA between initialisation and time. "
   ]
  },
  {
   "cell_type": "code",
   "execution_count": null,
   "metadata": {},
   "outputs": [],
   "source": [
    "#Ensuring the time data is normalized\n",
    "statistic = stats.shapiro(normalized_df['Time'])\n",
    "statistic "
   ]
  },
  {
   "cell_type": "code",
   "execution_count": null,
   "metadata": {},
   "outputs": [],
   "source": [
    "#Applying the transformation\n",
    "transformed_data, lambda_value = stats.boxcox(normalized_df['Time'])"
   ]
  },
  {
   "cell_type": "code",
   "execution_count": null,
   "metadata": {},
   "outputs": [],
   "source": [
    "#Ensuring it is normalized\n",
    "statistic = stats.shapiro(transformed_data)\n",
    "statistic "
   ]
  },
  {
   "cell_type": "markdown",
   "metadata": {},
   "source": [
    "It still fails the null hypothesis. We can try the min-max normalization instead."
   ]
  },
  {
   "cell_type": "code",
   "execution_count": null,
   "metadata": {},
   "outputs": [],
   "source": [
    "from sklearn.preprocessing import MinMaxScaler"
   ]
  },
  {
   "cell_type": "code",
   "execution_count": null,
   "metadata": {},
   "outputs": [],
   "source": [
    "scaler = MinMaxScaler()"
   ]
  },
  {
   "cell_type": "code",
   "execution_count": null,
   "metadata": {},
   "outputs": [],
   "source": [
    "data = normalized_df['Time']\n",
    "data = np.array(data).reshape(-1,1)"
   ]
  },
  {
   "cell_type": "code",
   "execution_count": null,
   "metadata": {},
   "outputs": [],
   "source": [
    "#Applying the min-max scaler\n",
    "normalized_time = scaler.fit_transform(data)"
   ]
  },
  {
   "cell_type": "code",
   "execution_count": null,
   "metadata": {},
   "outputs": [],
   "source": [
    "#Ensuring it is normalized\n",
    "statistic = stats.shapiro(normalized_time)\n",
    "statistic "
   ]
  },
  {
   "cell_type": "markdown",
   "metadata": {},
   "source": [
    "I am unable to transform the time values into a normalized dataset."
   ]
  },
  {
   "cell_type": "markdown",
   "metadata": {},
   "source": [
    "Let us perform the ANOVA test anyways and see what we get."
   ]
  },
  {
   "cell_type": "code",
   "execution_count": null,
   "metadata": {},
   "outputs": [],
   "source": [
    "#Performing ANOVA between Intialisation type and fitness\n",
    "model = ols('Time ~ Initialisation_Type', data=normalized_df).fit()\n",
    "anova_table = sm.stats.anova_lm(model)"
   ]
  },
  {
   "cell_type": "code",
   "execution_count": null,
   "metadata": {},
   "outputs": [],
   "source": [
    "anova_table"
   ]
  },
  {
   "cell_type": "markdown",
   "metadata": {},
   "source": [
    "Performing the Tukey test"
   ]
  },
  {
   "cell_type": "code",
   "execution_count": null,
   "metadata": {},
   "outputs": [],
   "source": [
    "tukey_result = pairwise_tukeyhsd(normalized_df['Time'], normalized_df['Initialisation_Type'], alpha = 0.05)"
   ]
  },
  {
   "cell_type": "code",
   "execution_count": null,
   "metadata": {},
   "outputs": [],
   "source": [
    "print(tukey_result)"
   ]
  },
  {
   "cell_type": "code",
   "execution_count": null,
   "metadata": {},
   "outputs": [],
   "source": [
    "tukey_result.plot_simultaneous()\n",
    "plt.savefig('tukey_result_2.plot_simultaneous.png')"
   ]
  },
  {
   "cell_type": "markdown",
   "metadata": {},
   "source": [
    "### Experiment 2: Recombination and Mutation Operators"
   ]
  },
  {
   "cell_type": "markdown",
   "metadata": {},
   "source": [
    "##### Experiment 2.1\n",
    "- Initialisation: random_initialization\n",
    "- Parent Selection: parent_selection_tournament\n",
    "- Recombination: order_one_crossover\n",
    "- Mutation: two_opt_swap\n",
    "- Replacement: generational\n",
    "- Elitisim: False\n",
    "\n",
    "We will perform this experiment using the eaFSTSP_One class from the EvolutionaryAlgorithmFSTSP.ipynb file"
   ]
  },
  {
   "cell_type": "code",
   "execution_count": null,
   "metadata": {},
   "outputs": [],
   "source": [
    "ea = eaFSTSP_One(100, 25, distance_dataframe, truck_time_dataframe, drone_time_dataframe)"
   ]
  },
  {
   "cell_type": "code",
   "execution_count": null,
   "metadata": {},
   "outputs": [],
   "source": [
    "#Running 30 iterations\n",
    "number_of_iterations = 30\n",
    "\n",
    "array_max_starting_fitness_values = []\n",
    "array_max_ending_fitness_values = []\n",
    "array_run_time_values = []\n",
    "\n",
    "for i in range(number_of_iterations):\n",
    "    #Initialise\n",
    "    init = ea.initialize(1, 1, 1)\n",
    "    #Obtain starting fitness value from initial population\n",
    "    maximum_starting_fitness_value = max(init[3])\n",
    "    run = ea.mainLoop(75, 100, 3, 0.90, 0.10, 200)\n",
    "    #Obtain final fitness value from ending population\n",
    "    maximum_finishing_fitness_value = np.amax(run[3])\n",
    "    #Obtain run time\n",
    "    total_run_time = run[4]\n",
    "    #Appending the values to the arrays\n",
    "    array_max_starting_fitness_values.append(maximum_starting_fitness_value)\n",
    "    array_max_ending_fitness_values.append(maximum_finishing_fitness_value)\n",
    "    array_run_time_values.append(total_run_time)"
   ]
  },
  {
   "cell_type": "code",
   "execution_count": null,
   "metadata": {},
   "outputs": [],
   "source": [
    "#Creating a dataframe with the values obtained\n",
    "data = [['OX1', 'Two_Opt_Swap', array_max_ending_fitness_values[i], array_run_time_values[i], ((array_max_ending_fitness_values[i]-array_max_starting_fitness_values[i])/array_run_time_values[i])] for i in range(30)]\n",
    "columns = ['Crossover Operator', 'Mutation Operator', 'Maximum Fitness', 'Time', 'Fitness Change per Time']\n",
    "df = pd.DataFrame(data, columns=columns)"
   ]
  },
  {
   "cell_type": "code",
   "execution_count": null,
   "metadata": {},
   "outputs": [],
   "source": [
    "df.to_csv('df1.csv')"
   ]
  },
  {
   "cell_type": "markdown",
   "metadata": {},
   "source": [
    "##### Experiment 2.2\n",
    "- Initialisation: random_initialization\n",
    "- Parent Selection: parent_selection_tournament\n",
    "- Recombination: order_one_crossover\n",
    "- Mutation: two_opt_flip\n",
    "- Replacement: generational\n",
    "- Elitisim: False"
   ]
  },
  {
   "cell_type": "code",
   "execution_count": null,
   "metadata": {},
   "outputs": [],
   "source": [
    "class eaFSTSP_One_flip:\n",
    "    def __init__(self, population_size, number_of_cities, distance_matrix, truck_distance_matrix, drone_distance_matrix):\n",
    "        #number_of_parents, number_of_offspring, tournament_size, tournament_probability, mutation_probability\n",
    "        self.population_size = population_size\n",
    "        self.number_of_cities = number_of_cities\n",
    "        self.distance_matrix = distance_matrix\n",
    "        self.truck_distance_matrix = truck_distance_matrix\n",
    "        self.drone_distance_matrix = drone_distance_matrix\n",
    "        self.fstsp = eaFSTSP(self.distance_matrix, self.truck_distance_matrix, self.drone_distance_matrix, self.population_size, self.number_of_cities)\n",
    "        \n",
    "    #Initialize and evaluate population\n",
    "    def initialize(self, drone_endurance, inverse_truck_speed, inverse_drone_speed):\n",
    "        self.routes, self.allocation, self.population, self.fitness = self.fstsp.random_initialization(drone_endurance, inverse_truck_speed, inverse_drone_speed)\n",
    "        return(self.routes, self.allocation, self.population, self.fitness)\n",
    "        \n",
    "    #Run the loop  \n",
    "    def mainLoop(self, number_of_parents, number_of_offspring, tournament_size, tournament_probability, mutation_probability, total_generations):\n",
    "        #We can record time it takes for the loop \n",
    "        init_time = time.time()   \n",
    "        \n",
    "        generation_number =0\n",
    "        initial_population = self.population\n",
    "        initial_allocation = self.allocation\n",
    "        self.fitness_array = []\n",
    "        self.duplicates = []\n",
    "        while(generation_number<total_generations):\n",
    "            #Select parents\n",
    "            mating_pool, allocation_pool = self.fstsp.parent_selection_tournament(number_of_parents, self.routes, self.allocation,self.fitness,tournament_size, tournament_probability)\n",
    "            #Recombination\n",
    "            offspring_database, offspring_allocation_database = self.fstsp.order_one_crossover(mating_pool, allocation_pool, number_of_offspring)\n",
    "            #Mutation\n",
    "            mutated_offspring_df, mutated_allocation_arrays_df = self.fstsp.two_opt_flip(offspring_database, offspring_allocation_database, mutation_probability)\n",
    "            #Evaluation\n",
    "            offspring_with_fitness, offspring_allocation = self.fstsp.evaluation(mutated_offspring_df, mutated_allocation_arrays_df)\n",
    "            offspring_with_fitness.columns = initial_population.columns\n",
    "            offspring_allocation.columns = initial_allocation.columns\n",
    "            #Replacement\n",
    "            next_population, next_allocation = self.fstsp.replacement(self.population, offspring_with_fitness, initial_allocation, offspring_allocation)\n",
    "            #Preparing for next generation\n",
    "            self.routes = next_population.drop(next_population.columns[-1], axis=1)\n",
    "            self.allocation = next_allocation\n",
    "            self.fitness = next_population.iloc[:, -1].values.tolist()\n",
    "      \n",
    "            fitness = next_population['Fitness'].max()\n",
    "            self.fitness_array.append(fitness)\n",
    "            \n",
    "            duplicates_count = next_population.duplicated().sum()\n",
    "            self.duplicates.append(duplicates_count)\n",
    "            \n",
    "            generation_number = generation_number + 1\n",
    "        \n",
    "        #Recording the end time\n",
    "        final_time = time.time()\n",
    "        \n",
    "        total_time = final_time - init_time\n",
    "        \n",
    "        return(next_population, next_allocation, self.fitness, self.fitness_array, total_time)\n",
    "        \n",
    "    def printOptimumFitness(self):\n",
    "        plt.plot(self.fitness_array, marker='x', linestyle='-')\n",
    "        plt.xlabel('Generation')\n",
    "        plt.ylabel('Fitness')\n",
    "        plt.title('Plot of Fitness against Generation Number')\n",
    "        plt.savefig('eaFSTSP_One_Fitness_Gen_Plot.png')\n",
    "        plt.show()\n",
    "        \n",
    "    def printDuplicateCount(self):\n",
    "        plt.plot(self.duplicates, marker='x', linestyle='-')\n",
    "        plt.xlabel('Generation')\n",
    "        plt.ylabel('Duplicate Count')\n",
    "        plt.title('Plot of Number of Duplicate Individuals against Generation Number')\n",
    "        plt.savefig('eaFSTSP_One_Duplicates_Gen_Plot.png')\n",
    "        plt.show()"
   ]
  },
  {
   "cell_type": "code",
   "execution_count": null,
   "metadata": {},
   "outputs": [],
   "source": [
    "ea = eaFSTSP_One_flip(100, 25, distance_dataframe, truck_time_dataframe, drone_time_dataframe)"
   ]
  },
  {
   "cell_type": "code",
   "execution_count": null,
   "metadata": {},
   "outputs": [],
   "source": [
    "#Running 30 iterations\n",
    "number_of_iterations = 30\n",
    "\n",
    "array_max_starting_fitness_values = []\n",
    "array_max_ending_fitness_values = []\n",
    "array_run_time_values = []\n",
    "\n",
    "for i in range(number_of_iterations):\n",
    "    #Initialise\n",
    "    init = ea.initialize(1, 1, 1)\n",
    "    #Obtain starting fitness value from initial population\n",
    "    maximum_starting_fitness_value = max(init[3])\n",
    "    run = ea.mainLoop(75, 100, 3, 0.90, 0.10, 200)\n",
    "    #Obtain final fitness value from ending population\n",
    "    maximum_finishing_fitness_value = np.amax(run[3])\n",
    "    #Obtain run time\n",
    "    total_run_time = run[4]\n",
    "    #Appending the values to the arrays\n",
    "    array_max_starting_fitness_values.append(maximum_starting_fitness_value)\n",
    "    array_max_ending_fitness_values.append(maximum_finishing_fitness_value)\n",
    "    array_run_time_values.append(total_run_time)"
   ]
  },
  {
   "cell_type": "code",
   "execution_count": null,
   "metadata": {},
   "outputs": [],
   "source": [
    "#Creating a dataframe with the values obtained\n",
    "data = [['OX1', 'Two_Opt_Flip', array_max_ending_fitness_values[i], array_run_time_values[i], ((array_max_ending_fitness_values[i]-array_max_starting_fitness_values[i])/array_run_time_values[i])] for i in range(30)]\n",
    "columns = ['Crossover Operator', 'Mutation Operator', 'Maximum Fitness', 'Time', 'Fitness Change per Time']\n",
    "df1 = pd.DataFrame(data, columns=columns)"
   ]
  },
  {
   "cell_type": "code",
   "execution_count": null,
   "metadata": {},
   "outputs": [],
   "source": [
    "df1.to_csv('df2.csv')"
   ]
  },
  {
   "cell_type": "markdown",
   "metadata": {},
   "source": [
    "##### Experiment 2.3\n",
    "The class $eaFSTSP\\_One\\_OXR$ runs the EA on the following test case: \n",
    "- Initialisation: random initilization\n",
    "- Parent Selection: parent_selection_tournament\n",
    "- Recombination: order_one_crossover_r\n",
    "- Mutation: two_opt_swap\n",
    "- Replacement: generational\n",
    "- Elitisim: False"
   ]
  },
  {
   "cell_type": "code",
   "execution_count": null,
   "metadata": {},
   "outputs": [],
   "source": [
    "#Defining the class\n",
    "class eaFSTSP_One_OXR:\n",
    "    def __init__(self, population_size, number_of_cities, distance_matrix, truck_distance_matrix, drone_distance_matrix):\n",
    "        #number_of_parents, number_of_offspring, tournament_size, tournament_probability, mutation_probability\n",
    "        self.population_size = population_size\n",
    "        self.number_of_cities = number_of_cities\n",
    "        self.distance_matrix = distance_matrix\n",
    "        self.truck_distance_matrix = truck_distance_matrix\n",
    "        self.drone_distance_matrix = drone_distance_matrix\n",
    "        self.fstsp = eaFSTSP(self.distance_matrix, self.truck_distance_matrix, self.drone_distance_matrix, self.population_size, self.number_of_cities)\n",
    "        \n",
    "    #Initialize and evaluate population\n",
    "    def initialize(self, drone_endurance, inverse_truck_speed, inverse_drone_speed):\n",
    "        self.drone_endurance = drone_endurance\n",
    "        self.routes, self.allocation, self.population, self.fitness = self.fstsp.random_initialization(drone_endurance, inverse_truck_speed, inverse_drone_speed)\n",
    "        return(self.routes, self.allocation, self.population, self.fitness)\n",
    "        \n",
    "    #Run the loop  \n",
    "    def mainLoop(self, number_of_parents, number_of_offspring, tournament_size, tournament_probability, mutation_probability, total_generations):\n",
    "        #We can record time it takes for the loop \n",
    "        init_time = time.time()   \n",
    "        \n",
    "        generation_number =0\n",
    "        initial_population = self.population\n",
    "        initial_allocation = self.allocation\n",
    "        self.fitness_array = []\n",
    "        self.duplicates = []\n",
    "        while(generation_number<total_generations):\n",
    "            #Select parents\n",
    "            mating_pool, allocation_pool = self.fstsp.parent_selection_tournament(number_of_parents, self.routes, self.allocation,self.fitness,tournament_size, tournament_probability)\n",
    "            #Recombination\n",
    "            offspring_database, offspring_allocation_database = self.fstsp.order_one_crossover_r(mating_pool, allocation_pool, number_of_offspring)\n",
    "            #Mutation\n",
    "            mutated_offspring_df, mutated_allocation_arrays_df = self.fstsp.two_opt_swap(offspring_database, offspring_allocation_database, mutation_probability)\n",
    "            #Evaluation\n",
    "            offspring_with_fitness, offspring_allocation = self.fstsp.evaluation(mutated_offspring_df, mutated_allocation_arrays_df)\n",
    "            offspring_with_fitness.columns = initial_population.columns\n",
    "            offspring_allocation.columns = initial_allocation.columns\n",
    "            #Replacement\n",
    "            next_population, next_allocation = self.fstsp.replacement(self.population, offspring_with_fitness, initial_allocation, offspring_allocation)\n",
    "            #Preparing for next generation\n",
    "            self.routes = next_population.drop(next_population.columns[-1], axis=1)\n",
    "            self.allocation = next_allocation\n",
    "            self.fitness = next_population.iloc[:, -1].values.tolist()\n",
    "      \n",
    "            fitness = next_population['Fitness'].max()\n",
    "            self.fitness_array.append(fitness)\n",
    "            \n",
    "            duplicates_count = next_population.duplicated().sum()\n",
    "            self.duplicates.append(duplicates_count)\n",
    "            \n",
    "            generation_number = generation_number + 1\n",
    "        \n",
    "        #Recording the end time\n",
    "        final_time = time.time()\n",
    "        \n",
    "        total_time = final_time - init_time\n",
    "        \n",
    "        return(next_population, next_allocation, self.fitness, self.fitness_array, total_time)\n",
    "        \n",
    "    def printOptimumFitness(self):\n",
    "        plt.plot(self.fitness_array, marker='x', linestyle='-')\n",
    "        plt.xlabel('Generation')\n",
    "        plt.ylabel('Fitness')\n",
    "        plt.title('Plot of Fitness against Generation Number')\n",
    "        plt.show()\n",
    "        \n",
    "    def printDuplicateCount(self):\n",
    "        plt.plot(self.duplicates, marker='x', linestyle='-')\n",
    "        plt.xlabel('Generation')\n",
    "        plt.ylabel('Duplicate Count')\n",
    "        plt.title('Plot of Number of Duplicate Individuals against Generation Number')\n",
    "        plt.show()"
   ]
  },
  {
   "cell_type": "code",
   "execution_count": null,
   "metadata": {},
   "outputs": [],
   "source": [
    "ea = eaFSTSP_One_OXR(100, 25, distance_dataframe, truck_time_dataframe, drone_time_dataframe)"
   ]
  },
  {
   "cell_type": "code",
   "execution_count": null,
   "metadata": {},
   "outputs": [],
   "source": [
    "#Running 30 iterations\n",
    "number_of_iterations = 30\n",
    "\n",
    "array_max_starting_fitness_values = []\n",
    "array_max_ending_fitness_values = []\n",
    "array_run_time_values = []\n",
    "\n",
    "for i in range(number_of_iterations):\n",
    "    #Initialise\n",
    "    init = ea.initialize(1, 1, 1)\n",
    "    #Obtain starting fitness value from initial population\n",
    "    maximum_starting_fitness_value = max(init[3])\n",
    "    run = ea.mainLoop(75, 100, 3, 0.90, 0.10, 200)\n",
    "    #Obtain final fitness value from ending population\n",
    "    maximum_finishing_fitness_value = np.amax(run[3])\n",
    "    #Obtain run time\n",
    "    total_run_time = run[4]\n",
    "    #Appending the values to the arrays\n",
    "    array_max_starting_fitness_values.append(maximum_starting_fitness_value)\n",
    "    array_max_ending_fitness_values.append(maximum_finishing_fitness_value)\n",
    "    array_run_time_values.append(total_run_time)"
   ]
  },
  {
   "cell_type": "code",
   "execution_count": null,
   "metadata": {},
   "outputs": [],
   "source": [
    "#Creating a dataframe with the values obtained\n",
    "data = [['OXR', 'Two_Opt_Swap', array_max_ending_fitness_values[i], array_run_time_values[i], ((array_max_ending_fitness_values[i]-array_max_starting_fitness_values[i])/array_run_time_values[i])] for i in range(30)]\n",
    "columns = ['Crossover Operator', 'Mutation Operator', 'Maximum Fitness', 'Time', 'Fitness Change per Time']\n",
    "df2 = pd.DataFrame(data, columns=columns)"
   ]
  },
  {
   "cell_type": "code",
   "execution_count": null,
   "metadata": {},
   "outputs": [],
   "source": [
    "df2.to_csv('df3.csv')"
   ]
  },
  {
   "cell_type": "markdown",
   "metadata": {},
   "source": [
    "##### Experiment 2.4\n",
    "The class $eaFSTSP\\_One\\_OXR\\_flip$ runs the EA on the following test case: \n",
    "- Initialisation: random initilization\n",
    "- Parent Selection: parent_selection_tournament\n",
    "- Recombination: order_one_crossover_r\n",
    "- Mutation: two_opt_flip\n",
    "- Replacement: generational\n",
    "- Elitisim: False"
   ]
  },
  {
   "cell_type": "code",
   "execution_count": null,
   "metadata": {},
   "outputs": [],
   "source": [
    "#Defining the class\n",
    "class eaFSTSP_One_OXR_flip:\n",
    "    def __init__(self, population_size, number_of_cities, distance_matrix, truck_distance_matrix, drone_distance_matrix):\n",
    "        #number_of_parents, number_of_offspring, tournament_size, tournament_probability, mutation_probability\n",
    "        self.population_size = population_size\n",
    "        self.number_of_cities = number_of_cities\n",
    "        self.distance_matrix = distance_matrix\n",
    "        self.truck_distance_matrix = truck_distance_matrix\n",
    "        self.drone_distance_matrix = drone_distance_matrix\n",
    "        self.fstsp = eaFSTSP(self.distance_matrix, self.truck_distance_matrix, self.drone_distance_matrix, self.population_size, self.number_of_cities)\n",
    "        \n",
    "    #Initialize and evaluate population\n",
    "    def initialize(self, drone_endurance, inverse_truck_speed, inverse_drone_speed):\n",
    "        self.drone_endurance = drone_endurance\n",
    "        self.routes, self.allocation, self.population, self.fitness = self.fstsp.random_initialization(drone_endurance, inverse_truck_speed, inverse_drone_speed)\n",
    "        return(self.routes, self.allocation, self.population, self.fitness)\n",
    "        \n",
    "    #Run the loop  \n",
    "    def mainLoop(self, number_of_parents, number_of_offspring, tournament_size, tournament_probability, mutation_probability, total_generations):\n",
    "        #We can record time it takes for the loop \n",
    "        init_time = time.time()   \n",
    "        \n",
    "        generation_number =0\n",
    "        initial_population = self.population\n",
    "        initial_allocation = self.allocation\n",
    "        self.fitness_array = []\n",
    "        self.duplicates = []\n",
    "        while(generation_number<total_generations):\n",
    "            #Select parents\n",
    "            mating_pool, allocation_pool = self.fstsp.parent_selection_tournament(number_of_parents, self.routes, self.allocation,self.fitness,tournament_size, tournament_probability)\n",
    "            #Recombination\n",
    "            offspring_database, offspring_allocation_database = self.fstsp.order_one_crossover_r(mating_pool, allocation_pool, number_of_offspring)\n",
    "            #Mutation\n",
    "            mutated_offspring_df, mutated_allocation_arrays_df = self.fstsp.two_opt_flip(offspring_database, offspring_allocation_database, mutation_probability)\n",
    "            #Evaluation\n",
    "            offspring_with_fitness, offspring_allocation = self.fstsp.evaluation(mutated_offspring_df, mutated_allocation_arrays_df)\n",
    "            offspring_with_fitness.columns = initial_population.columns\n",
    "            offspring_allocation.columns = initial_allocation.columns\n",
    "            #Replacement\n",
    "            next_population, next_allocation = self.fstsp.replacement(self.population, offspring_with_fitness, initial_allocation, offspring_allocation)\n",
    "            #Preparing for next generation\n",
    "            self.routes = next_population.drop(next_population.columns[-1], axis=1)\n",
    "            self.allocation = next_allocation\n",
    "            self.fitness = next_population.iloc[:, -1].values.tolist()\n",
    "      \n",
    "            fitness = next_population['Fitness'].max()\n",
    "            self.fitness_array.append(fitness)\n",
    "            \n",
    "            duplicates_count = next_population.duplicated().sum()\n",
    "            self.duplicates.append(duplicates_count)\n",
    "            \n",
    "            generation_number = generation_number + 1\n",
    "        \n",
    "        #Recording the end time\n",
    "        final_time = time.time()\n",
    "        \n",
    "        total_time = final_time - init_time\n",
    "        \n",
    "        return(next_population, next_allocation, self.fitness, self.fitness_array, total_time)\n",
    "        \n",
    "    def printOptimumFitness(self):\n",
    "        plt.plot(self.fitness_array, marker='x', linestyle='-')\n",
    "        plt.xlabel('Generation')\n",
    "        plt.ylabel('Fitness')\n",
    "        plt.title('Plot of Fitness against Generation Number')\n",
    "        plt.show()\n",
    "        \n",
    "    def printDuplicateCount(self):\n",
    "        plt.plot(self.duplicates, marker='x', linestyle='-')\n",
    "        plt.xlabel('Generation')\n",
    "        plt.ylabel('Duplicate Count')\n",
    "        plt.title('Plot of Number of Duplicate Individuals against Generation Number')\n",
    "        plt.show()"
   ]
  },
  {
   "cell_type": "code",
   "execution_count": null,
   "metadata": {},
   "outputs": [],
   "source": [
    "ea = eaFSTSP_One_OXR_flip(100, 25, distance_dataframe, truck_time_dataframe, drone_time_dataframe)"
   ]
  },
  {
   "cell_type": "code",
   "execution_count": null,
   "metadata": {},
   "outputs": [],
   "source": [
    "#Running 30 iterations\n",
    "number_of_iterations = 30\n",
    "\n",
    "array_max_starting_fitness_values = []\n",
    "array_max_ending_fitness_values = []\n",
    "array_run_time_values = []\n",
    "\n",
    "for i in range(number_of_iterations):\n",
    "    #Initialise\n",
    "    init = ea.initialize(1, 1, 1)\n",
    "    #Obtain starting fitness value from initial population\n",
    "    maximum_starting_fitness_value = max(init[3])\n",
    "    run = ea.mainLoop(75, 100, 3, 0.90, 0.10, 200)\n",
    "    #Obtain final fitness value from ending population\n",
    "    maximum_finishing_fitness_value = np.amax(run[3])\n",
    "    #Obtain run time\n",
    "    total_run_time = run[4]\n",
    "    #Appending the values to the arrays\n",
    "    array_max_starting_fitness_values.append(maximum_starting_fitness_value)\n",
    "    array_max_ending_fitness_values.append(maximum_finishing_fitness_value)\n",
    "    array_run_time_values.append(total_run_time)"
   ]
  },
  {
   "cell_type": "code",
   "execution_count": null,
   "metadata": {},
   "outputs": [],
   "source": [
    "#Creating a dataframe with the values obtained\n",
    "data = [['OXR', 'Two_Opt_Flip', array_max_ending_fitness_values[i], array_run_time_values[i], ((array_max_ending_fitness_values[i]-array_max_starting_fitness_values[i])/array_run_time_values[i])] for i in range(30)]\n",
    "columns = ['Crossover Operator', 'Mutation Operator', 'Maximum Fitness', 'Time', 'Fitness Change per Time']\n",
    "df3 = pd.DataFrame(data, columns=columns)"
   ]
  },
  {
   "cell_type": "code",
   "execution_count": null,
   "metadata": {},
   "outputs": [],
   "source": [
    "df3.to_csv('df4.csv')"
   ]
  },
  {
   "cell_type": "markdown",
   "metadata": {},
   "source": [
    "##### Experiment 2.5\n",
    "The class $eaFSTSP\\_One\\_OXC$ runs the EA on the following test case: \n",
    "- Initialisation: random initilization\n",
    "- Parent Selection: parent_selection_tournament\n",
    "- Recombination: order_one_crossover_c\n",
    "- Mutation: two_opt_swap\n",
    "- Replacement: generational\n",
    "- Elitisim: False"
   ]
  },
  {
   "cell_type": "code",
   "execution_count": null,
   "metadata": {},
   "outputs": [],
   "source": [
    "#Defining the class\n",
    "class eaFSTSP_One_OXC:\n",
    "    def __init__(self, population_size, number_of_cities, distance_matrix, truck_distance_matrix, drone_distance_matrix):\n",
    "        #number_of_parents, number_of_offspring, tournament_size, tournament_probability, mutation_probability\n",
    "        self.population_size = population_size\n",
    "        self.number_of_cities = number_of_cities\n",
    "        self.distance_matrix = distance_matrix\n",
    "        self.truck_distance_matrix = truck_distance_matrix\n",
    "        self.drone_distance_matrix = drone_distance_matrix\n",
    "        self.fstsp = eaFSTSP(self.distance_matrix, self.truck_distance_matrix, self.drone_distance_matrix, self.population_size, self.number_of_cities)\n",
    "        \n",
    "    #Initialize and evaluate population\n",
    "    def initialize(self, drone_endurance, inverse_truck_speed, inverse_drone_speed):\n",
    "        self.drone_endurance = drone_endurance\n",
    "        self.routes, self.allocation, self.population, self.fitness = self.fstsp.random_initialization(drone_endurance, inverse_truck_speed, inverse_drone_speed)\n",
    "        return(self.routes, self.allocation, self.population, self.fitness)\n",
    "        \n",
    "    #Run the loop  \n",
    "    def mainLoop(self, number_of_parents, number_of_offspring, tournament_size, tournament_probability, mutation_probability, total_generations):\n",
    "        #We can record time it takes for the loop \n",
    "        init_time = time.time()   \n",
    "        \n",
    "        generation_number =0\n",
    "        initial_population = self.population\n",
    "        initial_allocation = self.allocation\n",
    "        self.fitness_array = []\n",
    "        self.duplicates = []\n",
    "        while(generation_number<total_generations):\n",
    "            #Select parents\n",
    "            mating_pool, allocation_pool = self.fstsp.parent_selection_tournament(number_of_parents, self.routes, self.allocation,self.fitness,tournament_size, tournament_probability)\n",
    "            #Recombination\n",
    "            offspring_database, offspring_allocation_database = self.fstsp.order_one_crossover_c(mating_pool, allocation_pool, number_of_offspring)\n",
    "            #Mutation\n",
    "            mutated_offspring_df, mutated_allocation_arrays_df = self.fstsp.two_opt_swap(offspring_database, offspring_allocation_database, mutation_probability)\n",
    "            #Evaluation\n",
    "            offspring_with_fitness, offspring_allocation = self.fstsp.evaluation(mutated_offspring_df, mutated_allocation_arrays_df)\n",
    "            offspring_with_fitness.columns = initial_population.columns\n",
    "            offspring_allocation.columns = initial_allocation.columns\n",
    "            #Replacement\n",
    "            next_population, next_allocation = self.fstsp.replacement(self.population, offspring_with_fitness, initial_allocation, offspring_allocation)\n",
    "            #Preparing for next generation\n",
    "            self.routes = next_population.drop(next_population.columns[-1], axis=1)\n",
    "            self.allocation = next_allocation\n",
    "            self.fitness = next_population.iloc[:, -1].values.tolist()\n",
    "      \n",
    "            fitness = next_population['Fitness'].max()\n",
    "            self.fitness_array.append(fitness)\n",
    "            \n",
    "            duplicates_count = next_population.duplicated().sum()\n",
    "            self.duplicates.append(duplicates_count)\n",
    "            \n",
    "            generation_number = generation_number + 1\n",
    "        \n",
    "        #Recording the end time\n",
    "        final_time = time.time()\n",
    "        \n",
    "        total_time = final_time - init_time\n",
    "        \n",
    "        return(next_population, next_allocation, self.fitness, self.fitness_array, total_time)\n",
    "        \n",
    "    def printOptimumFitness(self):\n",
    "        plt.plot(self.fitness_array, marker='x', linestyle='-')\n",
    "        plt.xlabel('Generation')\n",
    "        plt.ylabel('Fitness')\n",
    "        plt.title('Plot of Fitness against Generation Number')\n",
    "        plt.show()\n",
    "        \n",
    "    def printDuplicateCount(self):\n",
    "        plt.plot(self.duplicates, marker='x', linestyle='-')\n",
    "        plt.xlabel('Generation')\n",
    "        plt.ylabel('Duplicate Count')\n",
    "        plt.title('Plot of Number of Duplicate Individuals against Generation Number')\n",
    "        plt.show()"
   ]
  },
  {
   "cell_type": "code",
   "execution_count": null,
   "metadata": {},
   "outputs": [],
   "source": [
    "ea = eaFSTSP_One_OXC(100, 25, distance_dataframe, truck_time_dataframe, drone_time_dataframe)"
   ]
  },
  {
   "cell_type": "code",
   "execution_count": null,
   "metadata": {},
   "outputs": [],
   "source": [
    "#Running 30 iterations\n",
    "number_of_iterations = 30\n",
    "\n",
    "array_max_starting_fitness_values = []\n",
    "array_max_ending_fitness_values = []\n",
    "array_run_time_values = []\n",
    "\n",
    "for i in range(number_of_iterations):\n",
    "    #Initialise\n",
    "    init = ea.initialize(1, 1, 1)\n",
    "    #Obtain starting fitness value from initial population\n",
    "    maximum_starting_fitness_value = max(init[3])\n",
    "    run = ea.mainLoop(75, 100, 3, 0.90, 0.10, 200)\n",
    "    #Obtain final fitness value from ending population\n",
    "    maximum_finishing_fitness_value = np.amax(run[3])\n",
    "    #Obtain run time\n",
    "    total_run_time = run[4]\n",
    "    #Appending the values to the arrays\n",
    "    array_max_starting_fitness_values.append(maximum_starting_fitness_value)\n",
    "    array_max_ending_fitness_values.append(maximum_finishing_fitness_value)\n",
    "    array_run_time_values.append(total_run_time)"
   ]
  },
  {
   "cell_type": "code",
   "execution_count": null,
   "metadata": {},
   "outputs": [],
   "source": [
    "#Creating a dataframe with the values obtained\n",
    "data = [['OXC', 'Two_Opt_Swap', array_max_ending_fitness_values[i], array_run_time_values[i], ((array_max_ending_fitness_values[i]-array_max_starting_fitness_values[i])/array_run_time_values[i])] for i in range(30)]\n",
    "columns = ['Crossover Operator', 'Mutation Operator', 'Maximum Fitness', 'Time', 'Fitness Change per Time']\n",
    "df4 = pd.DataFrame(data, columns=columns)"
   ]
  },
  {
   "cell_type": "code",
   "execution_count": null,
   "metadata": {},
   "outputs": [],
   "source": [
    "df4.to_csv('df5.csv')"
   ]
  },
  {
   "cell_type": "markdown",
   "metadata": {},
   "source": [
    "##### Experiment 2.6\n",
    "The class $eaFSTSP\\_One\\_OXC\\_flip$ runs the EA on the following test case: \n",
    "- Initialisation: random initilization\n",
    "- Parent Selection: parent_selection_tournament\n",
    "- Recombination: order_one_crossover_C\n",
    "- Mutation: two_opt_flip\n",
    "- Replacement: generational\n",
    "- Elitisim: False"
   ]
  },
  {
   "cell_type": "code",
   "execution_count": null,
   "metadata": {},
   "outputs": [],
   "source": [
    "#Defining the class\n",
    "class eaFSTSP_One_OXC_flip:\n",
    "    def __init__(self, population_size, number_of_cities, distance_matrix, truck_distance_matrix, drone_distance_matrix):\n",
    "        #number_of_parents, number_of_offspring, tournament_size, tournament_probability, mutation_probability\n",
    "        self.population_size = population_size\n",
    "        self.number_of_cities = number_of_cities\n",
    "        self.distance_matrix = distance_matrix\n",
    "        self.truck_distance_matrix = truck_distance_matrix\n",
    "        self.drone_distance_matrix = drone_distance_matrix\n",
    "        self.fstsp = eaFSTSP(self.distance_matrix, self.truck_distance_matrix, self.drone_distance_matrix, self.population_size, self.number_of_cities)\n",
    "        \n",
    "    #Initialize and evaluate population\n",
    "    def initialize(self, drone_endurance, inverse_truck_speed, inverse_drone_speed):\n",
    "        self.drone_endurance = drone_endurance\n",
    "        self.routes, self.allocation, self.population, self.fitness = self.fstsp.random_initialization(drone_endurance, inverse_truck_speed, inverse_drone_speed)\n",
    "        return(self.routes, self.allocation, self.population, self.fitness)\n",
    "        \n",
    "    #Run the loop  \n",
    "    def mainLoop(self, number_of_parents, number_of_offspring, tournament_size, tournament_probability, mutation_probability, total_generations):\n",
    "        #We can record time it takes for the loop \n",
    "        init_time = time.time()   \n",
    "        \n",
    "        generation_number =0\n",
    "        initial_population = self.population\n",
    "        initial_allocation = self.allocation\n",
    "        self.fitness_array = []\n",
    "        self.duplicates = []\n",
    "        while(generation_number<total_generations):\n",
    "            #Select parents\n",
    "            mating_pool, allocation_pool = self.fstsp.parent_selection_tournament(number_of_parents, self.routes, self.allocation,self.fitness,tournament_size, tournament_probability)\n",
    "            #Recombination\n",
    "            offspring_database, offspring_allocation_database = self.fstsp.order_one_crossover_c(mating_pool, allocation_pool, number_of_offspring)\n",
    "            #Mutation\n",
    "            mutated_offspring_df, mutated_allocation_arrays_df = self.fstsp.two_opt_flip(offspring_database, offspring_allocation_database, mutation_probability)\n",
    "            #Evaluation\n",
    "            offspring_with_fitness, offspring_allocation = self.fstsp.evaluation(mutated_offspring_df, mutated_allocation_arrays_df)\n",
    "            offspring_with_fitness.columns = initial_population.columns\n",
    "            offspring_allocation.columns = initial_allocation.columns\n",
    "            #Replacement\n",
    "            next_population, next_allocation = self.fstsp.replacement(self.population, offspring_with_fitness, initial_allocation, offspring_allocation)\n",
    "            #Preparing for next generation\n",
    "            self.routes = next_population.drop(next_population.columns[-1], axis=1)\n",
    "            self.allocation = next_allocation\n",
    "            self.fitness = next_population.iloc[:, -1].values.tolist()\n",
    "      \n",
    "            fitness = next_population['Fitness'].max()\n",
    "            self.fitness_array.append(fitness)\n",
    "            \n",
    "            duplicates_count = next_population.duplicated().sum()\n",
    "            self.duplicates.append(duplicates_count)\n",
    "            \n",
    "            generation_number = generation_number + 1\n",
    "        \n",
    "        #Recording the end time\n",
    "        final_time = time.time()\n",
    "        \n",
    "        total_time = final_time - init_time\n",
    "        \n",
    "        return(next_population, next_allocation, self.fitness, self.fitness_array, total_time)\n",
    "        \n",
    "    def printOptimumFitness(self):\n",
    "        plt.plot(self.fitness_array, marker='x', linestyle='-')\n",
    "        plt.xlabel('Generation')\n",
    "        plt.ylabel('Fitness')\n",
    "        plt.title('Plot of Fitness against Generation Number')\n",
    "        plt.show()\n",
    "        \n",
    "    def printDuplicateCount(self):\n",
    "        plt.plot(self.duplicates, marker='x', linestyle='-')\n",
    "        plt.xlabel('Generation')\n",
    "        plt.ylabel('Duplicate Count')\n",
    "        plt.title('Plot of Number of Duplicate Individuals against Generation Number')\n",
    "        plt.show()"
   ]
  },
  {
   "cell_type": "code",
   "execution_count": null,
   "metadata": {},
   "outputs": [],
   "source": [
    "ea = eaFSTSP_One_OXC_flip(100, 25, distance_dataframe, truck_time_dataframe, drone_time_dataframe)"
   ]
  },
  {
   "cell_type": "code",
   "execution_count": null,
   "metadata": {},
   "outputs": [],
   "source": [
    "#Running 30 iterations\n",
    "number_of_iterations = 30\n",
    "\n",
    "array_max_starting_fitness_values = []\n",
    "array_max_ending_fitness_values = []\n",
    "array_run_time_values = []\n",
    "\n",
    "for i in range(number_of_iterations):\n",
    "    #Initialise\n",
    "    init = ea.initialize(1, 1, 1)\n",
    "    #Obtain starting fitness value from initial population\n",
    "    maximum_starting_fitness_value = max(init[3])\n",
    "    run = ea.mainLoop(75, 100, 3, 0.90, 0.10, 200)\n",
    "    #Obtain final fitness value from ending population\n",
    "    maximum_finishing_fitness_value = np.amax(run[3])\n",
    "    #Obtain run time\n",
    "    total_run_time = run[4]\n",
    "    #Appending the values to the arrays\n",
    "    array_max_starting_fitness_values.append(maximum_starting_fitness_value)\n",
    "    array_max_ending_fitness_values.append(maximum_finishing_fitness_value)\n",
    "    array_run_time_values.append(total_run_time)"
   ]
  },
  {
   "cell_type": "code",
   "execution_count": null,
   "metadata": {},
   "outputs": [],
   "source": [
    "#Creating a dataframe with the values obtained\n",
    "data = [['OXC', 'Two_Opt_Flip', array_max_ending_fitness_values[i], array_run_time_values[i], ((array_max_ending_fitness_values[i]-array_max_starting_fitness_values[i])/array_run_time_values[i])] for i in range(30)]\n",
    "columns = ['Crossover Operator', 'Mutation Operator', 'Maximum Fitness', 'Time', 'Fitness Change per Time']\n",
    "df5 = pd.DataFrame(data, columns=columns)"
   ]
  },
  {
   "cell_type": "code",
   "execution_count": null,
   "metadata": {},
   "outputs": [],
   "source": [
    "df5.to_csv('df6.csv')"
   ]
  },
  {
   "cell_type": "code",
   "execution_count": null,
   "metadata": {},
   "outputs": [],
   "source": [
    "#Reading the csv files\n",
    "df1 = pd.read_csv('results/df1.csv', index_col= 'Unnamed: 0')\n",
    "df2 = pd.read_csv('results/df2.csv', index_col= 'Unnamed: 0')\n",
    "df3 = pd.read_csv('results/df3.csv', index_col= 'Unnamed: 0')\n",
    "df4 = pd.read_csv('results/df4.csv', index_col= 'Unnamed: 0')\n",
    "df5 = pd.read_csv('results/df5.csv', index_col= 'Unnamed: 0')\n",
    "df6 = pd.read_csv('results/df6.csv', index_col= 'Unnamed: 0')"
   ]
  },
  {
   "cell_type": "code",
   "execution_count": null,
   "metadata": {},
   "outputs": [],
   "source": [
    "df_result = pd.concat([df1, df2, df3, df4, df5, df6])\n",
    "df_result = df_result.reset_index(drop=True)"
   ]
  },
  {
   "cell_type": "code",
   "execution_count": null,
   "metadata": {},
   "outputs": [],
   "source": [
    "df_result.to_csv('Crossover-Mutation.csv', index=False)"
   ]
  },
  {
   "cell_type": "code",
   "execution_count": 42,
   "metadata": {},
   "outputs": [],
   "source": [
    "df_result = pd.read_csv('results/Crossover-Mutation.csv')"
   ]
  },
  {
   "cell_type": "code",
   "execution_count": 48,
   "metadata": {},
   "outputs": [
    {
     "data": {
      "text/html": [
       "<div>\n",
       "<style scoped>\n",
       "    .dataframe tbody tr th:only-of-type {\n",
       "        vertical-align: middle;\n",
       "    }\n",
       "\n",
       "    .dataframe tbody tr th {\n",
       "        vertical-align: top;\n",
       "    }\n",
       "\n",
       "    .dataframe thead th {\n",
       "        text-align: right;\n",
       "    }\n",
       "</style>\n",
       "<table border=\"1\" class=\"dataframe\">\n",
       "  <thead>\n",
       "    <tr style=\"text-align: right;\">\n",
       "      <th></th>\n",
       "      <th>Crossover Operator</th>\n",
       "      <th>Mutation Operator</th>\n",
       "      <th>Maximum Fitness</th>\n",
       "      <th>Time</th>\n",
       "      <th>Fitness Change per Time</th>\n",
       "    </tr>\n",
       "  </thead>\n",
       "  <tbody>\n",
       "    <tr>\n",
       "      <th>155</th>\n",
       "      <td>OXC</td>\n",
       "      <td>Two_Opt_Flip</td>\n",
       "      <td>-4.395</td>\n",
       "      <td>70.160710</td>\n",
       "      <td>0.065991</td>\n",
       "    </tr>\n",
       "    <tr>\n",
       "      <th>156</th>\n",
       "      <td>OXC</td>\n",
       "      <td>Two_Opt_Flip</td>\n",
       "      <td>-5.180</td>\n",
       "      <td>78.219211</td>\n",
       "      <td>0.049157</td>\n",
       "    </tr>\n",
       "    <tr>\n",
       "      <th>157</th>\n",
       "      <td>OXC</td>\n",
       "      <td>Two_Opt_Flip</td>\n",
       "      <td>-4.305</td>\n",
       "      <td>77.717615</td>\n",
       "      <td>0.062148</td>\n",
       "    </tr>\n",
       "    <tr>\n",
       "      <th>158</th>\n",
       "      <td>OXC</td>\n",
       "      <td>Two_Opt_Flip</td>\n",
       "      <td>-4.670</td>\n",
       "      <td>72.465934</td>\n",
       "      <td>0.052507</td>\n",
       "    </tr>\n",
       "    <tr>\n",
       "      <th>159</th>\n",
       "      <td>OXC</td>\n",
       "      <td>Two_Opt_Flip</td>\n",
       "      <td>-5.175</td>\n",
       "      <td>72.432979</td>\n",
       "      <td>0.050529</td>\n",
       "    </tr>\n",
       "    <tr>\n",
       "      <th>160</th>\n",
       "      <td>OXC</td>\n",
       "      <td>Two_Opt_Flip</td>\n",
       "      <td>-4.565</td>\n",
       "      <td>79.221966</td>\n",
       "      <td>0.058948</td>\n",
       "    </tr>\n",
       "  </tbody>\n",
       "</table>\n",
       "</div>"
      ],
      "text/plain": [
       "    Crossover Operator Mutation Operator  Maximum Fitness       Time  \\\n",
       "155                OXC      Two_Opt_Flip           -4.395  70.160710   \n",
       "156                OXC      Two_Opt_Flip           -5.180  78.219211   \n",
       "157                OXC      Two_Opt_Flip           -4.305  77.717615   \n",
       "158                OXC      Two_Opt_Flip           -4.670  72.465934   \n",
       "159                OXC      Two_Opt_Flip           -5.175  72.432979   \n",
       "160                OXC      Two_Opt_Flip           -4.565  79.221966   \n",
       "\n",
       "     Fitness Change per Time  \n",
       "155                 0.065991  \n",
       "156                 0.049157  \n",
       "157                 0.062148  \n",
       "158                 0.052507  \n",
       "159                 0.050529  \n",
       "160                 0.058948  "
      ]
     },
     "execution_count": 48,
     "metadata": {},
     "output_type": "execute_result"
    }
   ],
   "source": [
    "df_result.loc[155:160]"
   ]
  },
  {
   "cell_type": "markdown",
   "metadata": {},
   "source": [
    "Let us now perform a 2-way ANOVA to determine the effect of both the crossover operator and mutation operator on the fitness score."
   ]
  },
  {
   "cell_type": "code",
   "execution_count": 49,
   "metadata": {},
   "outputs": [],
   "source": [
    "#Examining the maximum fitness values\n",
    "data = df_result['Maximum Fitness']\n",
    "\n",
    "#Performing the test\n",
    "statistic = stats.shapiro(data) "
   ]
  },
  {
   "cell_type": "code",
   "execution_count": 50,
   "metadata": {},
   "outputs": [
    {
     "data": {
      "text/plain": [
       "ShapiroResult(statistic=0.9828833937644958, pvalue=0.026425588876008987)"
      ]
     },
     "execution_count": 50,
     "metadata": {},
     "output_type": "execute_result"
    }
   ],
   "source": [
    "statistic"
   ]
  },
  {
   "cell_type": "code",
   "execution_count": 51,
   "metadata": {},
   "outputs": [],
   "source": [
    "#Normalizing using the Box-Cox transform\n",
    "#Multiplying by -1\n",
    "df_result['Maximum Fitness'] = df_result['Maximum Fitness'] *-1\n",
    "#Applying the transformation\n",
    "transformed_data, lambda_value = stats.boxcox(df_result['Maximum Fitness'])"
   ]
  },
  {
   "cell_type": "code",
   "execution_count": 52,
   "metadata": {},
   "outputs": [],
   "source": [
    "#Performing the test for normality\n",
    "statistic = stats.shapiro(transformed_data)"
   ]
  },
  {
   "cell_type": "code",
   "execution_count": 53,
   "metadata": {},
   "outputs": [
    {
     "data": {
      "text/plain": [
       "ShapiroResult(statistic=0.9937640428543091, pvalue=0.6460399627685547)"
      ]
     },
     "execution_count": 53,
     "metadata": {},
     "output_type": "execute_result"
    }
   ],
   "source": [
    "statistic"
   ]
  },
  {
   "cell_type": "code",
   "execution_count": 54,
   "metadata": {},
   "outputs": [],
   "source": [
    "#Replacing the original column in the df\n",
    "df_result['Maximum Fitness'] = transformed_data"
   ]
  },
  {
   "cell_type": "code",
   "execution_count": null,
   "metadata": {},
   "outputs": [],
   "source": [
    "#Let us check if the condition of homogenity of variance between the different groups is satisfied"
   ]
  },
  {
   "cell_type": "markdown",
   "metadata": {},
   "source": [
    "We also need to ensure that the variances are equal between the treatment groups. We can check this using the Bartlett test."
   ]
  },
  {
   "cell_type": "code",
   "execution_count": null,
   "metadata": {},
   "outputs": [],
   "source": [
    "group1 = df_result[(df_result['Crossover Operator'] == 'OX1') & (df_result['Mutation Operator'] == 'Two_Opt_Swap')]\n",
    "group2 = df_result[(df_result['Crossover Operator'] == 'OXR') & (df_result['Mutation Operator'] == 'Two_Opt_Swap')]\n",
    "group3 = df_result[(df_result['Crossover Operator'] == 'OXC') & (df_result['Mutation Operator'] == 'Two_Opt_Swap')]\n",
    "group4 = df_result[(df_result['Crossover Operator'] == 'OX1') & (df_result['Mutation Operator'] == 'Two_Opt_Flip')]\n",
    "group5 = df_result[(df_result['Crossover Operator'] == 'OXR') & (df_result['Mutation Operator'] == 'Two_Opt_Flip')]\n",
    "group6 = df_result[(df_result['Crossover Operator'] == 'OXC') & (df_result['Mutation Operator'] == 'Two_Opt_Flip')]"
   ]
  },
  {
   "cell_type": "code",
   "execution_count": null,
   "metadata": {},
   "outputs": [],
   "source": [
    "treatment_group_1 = group1['Maximum Fitness']\n",
    "treatment_group_2 = group2['Maximum Fitness']\n",
    "treatment_group_3 = group3['Maximum Fitness']\n",
    "treatment_group_4 = group4['Maximum Fitness']\n",
    "treatment_group_5 = group5['Maximum Fitness']\n",
    "treatment_group_6 = group6['Maximum Fitness']"
   ]
  },
  {
   "cell_type": "code",
   "execution_count": null,
   "metadata": {},
   "outputs": [],
   "source": [
    "# Performing the Bartlett test\n",
    "statistic, p_value = stats.bartlett(treatment_group_1, treatment_group_2, treatment_group_3, treatment_group_4, treatment_group_5, treatment_group_6)"
   ]
  },
  {
   "cell_type": "code",
   "execution_count": null,
   "metadata": {},
   "outputs": [],
   "source": [
    "statistic, p_value "
   ]
  },
  {
   "cell_type": "code",
   "execution_count": 55,
   "metadata": {},
   "outputs": [],
   "source": [
    "#Renaming the columns\n",
    "df_result = df_result.rename(columns={'Maximum Fitness': 'Maximum_Fitness', 'Mutation Operator': 'Mutation_Operator'})"
   ]
  },
  {
   "cell_type": "code",
   "execution_count": 56,
   "metadata": {},
   "outputs": [],
   "source": [
    "df_result = df_result.rename(columns={'Crossover Operator': 'Crossover_Operator'})"
   ]
  },
  {
   "cell_type": "code",
   "execution_count": 57,
   "metadata": {},
   "outputs": [
    {
     "data": {
      "text/html": [
       "<div>\n",
       "<style scoped>\n",
       "    .dataframe tbody tr th:only-of-type {\n",
       "        vertical-align: middle;\n",
       "    }\n",
       "\n",
       "    .dataframe tbody tr th {\n",
       "        vertical-align: top;\n",
       "    }\n",
       "\n",
       "    .dataframe thead th {\n",
       "        text-align: right;\n",
       "    }\n",
       "</style>\n",
       "<table border=\"1\" class=\"dataframe\">\n",
       "  <thead>\n",
       "    <tr style=\"text-align: right;\">\n",
       "      <th></th>\n",
       "      <th>Crossover_Operator</th>\n",
       "      <th>Mutation_Operator</th>\n",
       "      <th>Maximum_Fitness</th>\n",
       "      <th>Time</th>\n",
       "      <th>Fitness Change per Time</th>\n",
       "    </tr>\n",
       "  </thead>\n",
       "  <tbody>\n",
       "    <tr>\n",
       "      <th>0</th>\n",
       "      <td>OX1</td>\n",
       "      <td>Two_Opt_Swap</td>\n",
       "      <td>0.627353</td>\n",
       "      <td>110.886059</td>\n",
       "      <td>0.028408</td>\n",
       "    </tr>\n",
       "    <tr>\n",
       "      <th>1</th>\n",
       "      <td>OX1</td>\n",
       "      <td>Two_Opt_Swap</td>\n",
       "      <td>0.622399</td>\n",
       "      <td>110.520432</td>\n",
       "      <td>0.031533</td>\n",
       "    </tr>\n",
       "    <tr>\n",
       "      <th>2</th>\n",
       "      <td>OX1</td>\n",
       "      <td>Two_Opt_Swap</td>\n",
       "      <td>0.628493</td>\n",
       "      <td>107.648233</td>\n",
       "      <td>0.031073</td>\n",
       "    </tr>\n",
       "    <tr>\n",
       "      <th>3</th>\n",
       "      <td>OX1</td>\n",
       "      <td>Two_Opt_Swap</td>\n",
       "      <td>0.609781</td>\n",
       "      <td>107.973416</td>\n",
       "      <td>0.032138</td>\n",
       "    </tr>\n",
       "    <tr>\n",
       "      <th>4</th>\n",
       "      <td>OX1</td>\n",
       "      <td>Two_Opt_Swap</td>\n",
       "      <td>0.618006</td>\n",
       "      <td>112.294837</td>\n",
       "      <td>0.040919</td>\n",
       "    </tr>\n",
       "    <tr>\n",
       "      <th>...</th>\n",
       "      <td>...</td>\n",
       "      <td>...</td>\n",
       "      <td>...</td>\n",
       "      <td>...</td>\n",
       "      <td>...</td>\n",
       "    </tr>\n",
       "    <tr>\n",
       "      <th>175</th>\n",
       "      <td>OXC</td>\n",
       "      <td>Two_Opt_Flip</td>\n",
       "      <td>0.613680</td>\n",
       "      <td>89.532722</td>\n",
       "      <td>0.048977</td>\n",
       "    </tr>\n",
       "    <tr>\n",
       "      <th>176</th>\n",
       "      <td>OXC</td>\n",
       "      <td>Two_Opt_Flip</td>\n",
       "      <td>0.608360</td>\n",
       "      <td>83.626768</td>\n",
       "      <td>0.054289</td>\n",
       "    </tr>\n",
       "    <tr>\n",
       "      <th>177</th>\n",
       "      <td>OXC</td>\n",
       "      <td>Two_Opt_Flip</td>\n",
       "      <td>0.617369</td>\n",
       "      <td>95.321822</td>\n",
       "      <td>0.042697</td>\n",
       "    </tr>\n",
       "    <tr>\n",
       "      <th>178</th>\n",
       "      <td>OXC</td>\n",
       "      <td>Two_Opt_Flip</td>\n",
       "      <td>0.604397</td>\n",
       "      <td>81.966325</td>\n",
       "      <td>0.050692</td>\n",
       "    </tr>\n",
       "    <tr>\n",
       "      <th>179</th>\n",
       "      <td>OXC</td>\n",
       "      <td>Two_Opt_Flip</td>\n",
       "      <td>0.605801</td>\n",
       "      <td>82.421072</td>\n",
       "      <td>0.053020</td>\n",
       "    </tr>\n",
       "  </tbody>\n",
       "</table>\n",
       "<p>180 rows × 5 columns</p>\n",
       "</div>"
      ],
      "text/plain": [
       "    Crossover_Operator Mutation_Operator  Maximum_Fitness        Time  \\\n",
       "0                  OX1      Two_Opt_Swap         0.627353  110.886059   \n",
       "1                  OX1      Two_Opt_Swap         0.622399  110.520432   \n",
       "2                  OX1      Two_Opt_Swap         0.628493  107.648233   \n",
       "3                  OX1      Two_Opt_Swap         0.609781  107.973416   \n",
       "4                  OX1      Two_Opt_Swap         0.618006  112.294837   \n",
       "..                 ...               ...              ...         ...   \n",
       "175                OXC      Two_Opt_Flip         0.613680   89.532722   \n",
       "176                OXC      Two_Opt_Flip         0.608360   83.626768   \n",
       "177                OXC      Two_Opt_Flip         0.617369   95.321822   \n",
       "178                OXC      Two_Opt_Flip         0.604397   81.966325   \n",
       "179                OXC      Two_Opt_Flip         0.605801   82.421072   \n",
       "\n",
       "     Fitness Change per Time  \n",
       "0                   0.028408  \n",
       "1                   0.031533  \n",
       "2                   0.031073  \n",
       "3                   0.032138  \n",
       "4                   0.040919  \n",
       "..                       ...  \n",
       "175                 0.048977  \n",
       "176                 0.054289  \n",
       "177                 0.042697  \n",
       "178                 0.050692  \n",
       "179                 0.053020  \n",
       "\n",
       "[180 rows x 5 columns]"
      ]
     },
     "execution_count": 57,
     "metadata": {},
     "output_type": "execute_result"
    }
   ],
   "source": [
    "df_result"
   ]
  },
  {
   "cell_type": "markdown",
   "metadata": {},
   "source": [
    "Now we can perform the 2-way ANOVA test."
   ]
  },
  {
   "cell_type": "code",
   "execution_count": 58,
   "metadata": {},
   "outputs": [],
   "source": [
    "# Perform two-way ANOVA\n",
    "model = ols('Maximum_Fitness ~ Crossover_Operator + Mutation_Operator + Crossover_Operator:Mutation_Operator', data=df_result).fit()\n",
    "anova_table = sm.stats.anova_lm(model, typ=2)"
   ]
  },
  {
   "cell_type": "code",
   "execution_count": 59,
   "metadata": {},
   "outputs": [
    {
     "name": "stdout",
     "output_type": "stream",
     "text": [
      "                                        sum_sq     df          F    PR(>F)\n",
      "Crossover_Operator                    0.000375    2.0   4.497069  0.012467\n",
      "Mutation_Operator                     0.000475    1.0  11.388571  0.000911\n",
      "Crossover_Operator:Mutation_Operator  0.000063    2.0   0.751701  0.473089\n",
      "Residual                              0.007264  174.0        NaN       NaN\n"
     ]
    }
   ],
   "source": [
    "print(anova_table)"
   ]
  },
  {
   "cell_type": "markdown",
   "metadata": {},
   "source": [
    "Interestingly, the crossover operator has a p-value of 0.012 >0.05 (which suggests it is not signficiant) and the mutation operator has a value of 0.0009 <0.05 (which suggests it is signficant).\n",
    "\n",
    "Let us perform Tukey's test."
   ]
  },
  {
   "cell_type": "code",
   "execution_count": null,
   "metadata": {},
   "outputs": [],
   "source": [
    "tukey_result = pairwise_tukeyhsd(df_result['Maximum_Fitness'], df_result['Crossover_Operator'] + df_result['Mutation_Operator'], alpha = 0.05)"
   ]
  },
  {
   "cell_type": "code",
   "execution_count": null,
   "metadata": {},
   "outputs": [],
   "source": [
    "tukey_result.summary()"
   ]
  },
  {
   "cell_type": "code",
   "execution_count": null,
   "metadata": {},
   "outputs": [],
   "source": [
    "tukey_result.plot_simultaneous()\n",
    "plt.savefig('tukey_result_3.plot_simultaneous.png')"
   ]
  },
  {
   "cell_type": "code",
   "execution_count": null,
   "metadata": {},
   "outputs": [],
   "source": [
    "arr = np.array([[  0.97707741,   0.56024652, 155.07996157,  68.52450962,\n",
    "          2.01036721,   0.8968387 ,   0.75986328, 237.40585883]])"
   ]
  },
  {
   "cell_type": "code",
   "execution_count": null,
   "metadata": {},
   "outputs": [],
   "source": [
    "arr[0, [2,3,4,7]] = np.round(arr[0, [2,3,4,7]])\n",
    "arr"
   ]
  },
  {
   "cell_type": "markdown",
   "metadata": {},
   "source": [
    "####  Creating the box-and-whiskers plots"
   ]
  },
  {
   "cell_type": "code",
   "execution_count": 5,
   "metadata": {},
   "outputs": [],
   "source": [
    "df = pd.read_csv('results/Initialisation-Elitism.csv')"
   ]
  },
  {
   "cell_type": "code",
   "execution_count": 6,
   "metadata": {},
   "outputs": [
    {
     "data": {
      "text/html": [
       "<div>\n",
       "<style scoped>\n",
       "    .dataframe tbody tr th:only-of-type {\n",
       "        vertical-align: middle;\n",
       "    }\n",
       "\n",
       "    .dataframe tbody tr th {\n",
       "        vertical-align: top;\n",
       "    }\n",
       "\n",
       "    .dataframe thead th {\n",
       "        text-align: right;\n",
       "    }\n",
       "</style>\n",
       "<table border=\"1\" class=\"dataframe\">\n",
       "  <thead>\n",
       "    <tr style=\"text-align: right;\">\n",
       "      <th></th>\n",
       "      <th>Initialisation Type</th>\n",
       "      <th>Elitism(Y/N)</th>\n",
       "      <th>Maximum Fitness</th>\n",
       "      <th>Time</th>\n",
       "      <th>Fitness Change per Time</th>\n",
       "    </tr>\n",
       "  </thead>\n",
       "  <tbody>\n",
       "    <tr>\n",
       "      <th>0</th>\n",
       "      <td>Random</td>\n",
       "      <td>N</td>\n",
       "      <td>-4.635</td>\n",
       "      <td>97.184824</td>\n",
       "      <td>0.037866</td>\n",
       "    </tr>\n",
       "    <tr>\n",
       "      <th>1</th>\n",
       "      <td>Random</td>\n",
       "      <td>N</td>\n",
       "      <td>-4.895</td>\n",
       "      <td>84.580819</td>\n",
       "      <td>0.043982</td>\n",
       "    </tr>\n",
       "    <tr>\n",
       "      <th>2</th>\n",
       "      <td>Random</td>\n",
       "      <td>N</td>\n",
       "      <td>-5.285</td>\n",
       "      <td>80.489574</td>\n",
       "      <td>0.037334</td>\n",
       "    </tr>\n",
       "    <tr>\n",
       "      <th>3</th>\n",
       "      <td>Random</td>\n",
       "      <td>N</td>\n",
       "      <td>-4.830</td>\n",
       "      <td>78.958938</td>\n",
       "      <td>0.047936</td>\n",
       "    </tr>\n",
       "    <tr>\n",
       "      <th>4</th>\n",
       "      <td>Random</td>\n",
       "      <td>N</td>\n",
       "      <td>-5.140</td>\n",
       "      <td>84.650495</td>\n",
       "      <td>0.044713</td>\n",
       "    </tr>\n",
       "    <tr>\n",
       "      <th>...</th>\n",
       "      <td>...</td>\n",
       "      <td>...</td>\n",
       "      <td>...</td>\n",
       "      <td>...</td>\n",
       "      <td>...</td>\n",
       "    </tr>\n",
       "    <tr>\n",
       "      <th>115</th>\n",
       "      <td>Heuristic</td>\n",
       "      <td>Y</td>\n",
       "      <td>-4.420</td>\n",
       "      <td>291.350976</td>\n",
       "      <td>0.002694</td>\n",
       "    </tr>\n",
       "    <tr>\n",
       "      <th>116</th>\n",
       "      <td>Heuristic</td>\n",
       "      <td>Y</td>\n",
       "      <td>-4.635</td>\n",
       "      <td>306.329279</td>\n",
       "      <td>0.000163</td>\n",
       "    </tr>\n",
       "    <tr>\n",
       "      <th>117</th>\n",
       "      <td>Heuristic</td>\n",
       "      <td>Y</td>\n",
       "      <td>-4.345</td>\n",
       "      <td>286.507059</td>\n",
       "      <td>0.002548</td>\n",
       "    </tr>\n",
       "    <tr>\n",
       "      <th>118</th>\n",
       "      <td>Heuristic</td>\n",
       "      <td>Y</td>\n",
       "      <td>-4.440</td>\n",
       "      <td>299.759898</td>\n",
       "      <td>0.002335</td>\n",
       "    </tr>\n",
       "    <tr>\n",
       "      <th>119</th>\n",
       "      <td>Heuristic</td>\n",
       "      <td>Y</td>\n",
       "      <td>-4.665</td>\n",
       "      <td>280.578093</td>\n",
       "      <td>0.001176</td>\n",
       "    </tr>\n",
       "  </tbody>\n",
       "</table>\n",
       "<p>120 rows × 5 columns</p>\n",
       "</div>"
      ],
      "text/plain": [
       "    Initialisation Type Elitism(Y/N)  Maximum Fitness        Time  \\\n",
       "0                Random            N           -4.635   97.184824   \n",
       "1                Random            N           -4.895   84.580819   \n",
       "2                Random            N           -5.285   80.489574   \n",
       "3                Random            N           -4.830   78.958938   \n",
       "4                Random            N           -5.140   84.650495   \n",
       "..                  ...          ...              ...         ...   \n",
       "115           Heuristic            Y           -4.420  291.350976   \n",
       "116           Heuristic            Y           -4.635  306.329279   \n",
       "117           Heuristic            Y           -4.345  286.507059   \n",
       "118           Heuristic            Y           -4.440  299.759898   \n",
       "119           Heuristic            Y           -4.665  280.578093   \n",
       "\n",
       "     Fitness Change per Time  \n",
       "0                   0.037866  \n",
       "1                   0.043982  \n",
       "2                   0.037334  \n",
       "3                   0.047936  \n",
       "4                   0.044713  \n",
       "..                       ...  \n",
       "115                 0.002694  \n",
       "116                 0.000163  \n",
       "117                 0.002548  \n",
       "118                 0.002335  \n",
       "119                 0.001176  \n",
       "\n",
       "[120 rows x 5 columns]"
      ]
     },
     "execution_count": 6,
     "metadata": {},
     "output_type": "execute_result"
    }
   ],
   "source": [
    "df"
   ]
  },
  {
   "cell_type": "code",
   "execution_count": 10,
   "metadata": {},
   "outputs": [],
   "source": [
    "data1 = df[(df['Initialisation Type'] == 'Random') & (df['Elitism(Y/N)'] == 'N')]['Maximum Fitness']\n",
    "data2 = df[(df['Initialisation Type'] == 'Random') & (df['Elitism(Y/N)'] == 'Y')]['Maximum Fitness']\n",
    "data3 = df[(df['Initialisation Type'] == 'Heuristic') & (df['Elitism(Y/N)'] == 'N')]['Maximum Fitness']\n",
    "data4 = df[(df['Initialisation Type'] == 'Heuristic') & (df['Elitism(Y/N)'] == 'Y')]['Maximum Fitness']"
   ]
  },
  {
   "cell_type": "code",
   "execution_count": 11,
   "metadata": {},
   "outputs": [
    {
     "data": {
      "image/png": "[encoded data removed]",
      "text/plain": [
       "<Figure size 640x480 with 1 Axes>"
      ]
     },
     "metadata": {},
     "output_type": "display_data"
    }
   ],
   "source": [
    "#Plotting the box-plot\n",
    "fig, ax = plt.subplots()\n",
    "ax.boxplot([data1, data2, data3, data4])\n",
    "\n",
    "ax.set_xticklabels(['RandomN', 'RandomY', 'HeuristicN', 'HeuristicY'])\n",
    "ax.set_ylabel('Maximum Fitness')\n",
    "\n",
    "plt.savefig('boxplot1.jpg', format='jpg')"
   ]
  },
  {
   "cell_type": "code",
   "execution_count": 13,
   "metadata": {},
   "outputs": [],
   "source": [
    "data1 = df[(df['Initialisation Type'] == 'Random') & (df['Elitism(Y/N)'] == 'N')]['Time']\n",
    "data2 = df[(df['Initialisation Type'] == 'Random') & (df['Elitism(Y/N)'] == 'Y')]['Time']\n",
    "data3 = df[(df['Initialisation Type'] == 'Heuristic') & (df['Elitism(Y/N)'] == 'N')]['Time']\n",
    "data4 = df[(df['Initialisation Type'] == 'Heuristic') & (df['Elitism(Y/N)'] == 'Y')]['Time']"
   ]
  },
  {
   "cell_type": "code",
   "execution_count": 23,
   "metadata": {},
   "outputs": [
    {
     "data": {
      "image/png": "[encoded data removed]",
      "text/plain": [
       "<Figure size 640x480 with 1 Axes>"
      ]
     },
     "metadata": {},
     "output_type": "display_data"
    }
   ],
   "source": [
    "#Plotting the box-plot\n",
    "fig, ax = plt.subplots()\n",
    "ax.hist([data1, data2], label=['RandomN', 'RandomY'])\n",
    "\n",
    "ax.set_xlabel('Time(s)')\n",
    "ax.set_ylabel('Count')\n",
    "ax.legend()\n",
    "\n",
    "plt.savefig('histogram1.jpg', format='jpg')"
   ]
  },
  {
   "cell_type": "code",
   "execution_count": 24,
   "metadata": {},
   "outputs": [
    {
     "data": {
      "image/png": "[encoded data removed]",
      "text/plain": [
       "<Figure size 640x480 with 1 Axes>"
      ]
     },
     "metadata": {},
     "output_type": "display_data"
    }
   ],
   "source": [
    "#Plotting the box-plot\n",
    "fig, ax = plt.subplots()\n",
    "ax.hist([data3, data4], label=['HeuristicN', 'HeuristicY'])\n",
    "\n",
    "ax.set_xlabel('Time(s)')\n",
    "ax.set_ylabel('Count')\n",
    "ax.legend()\n",
    "\n",
    "plt.savefig('histogram2.jpg', format='jpg')"
   ]
  },
  {
   "cell_type": "code",
   "execution_count": 25,
   "metadata": {},
   "outputs": [],
   "source": [
    "df = pd.read_csv('results/Crossover-Mutation.csv')"
   ]
  },
  {
   "cell_type": "code",
   "execution_count": 26,
   "metadata": {},
   "outputs": [
    {
     "data": {
      "text/html": [
       "<div>\n",
       "<style scoped>\n",
       "    .dataframe tbody tr th:only-of-type {\n",
       "        vertical-align: middle;\n",
       "    }\n",
       "\n",
       "    .dataframe tbody tr th {\n",
       "        vertical-align: top;\n",
       "    }\n",
       "\n",
       "    .dataframe thead th {\n",
       "        text-align: right;\n",
       "    }\n",
       "</style>\n",
       "<table border=\"1\" class=\"dataframe\">\n",
       "  <thead>\n",
       "    <tr style=\"text-align: right;\">\n",
       "      <th></th>\n",
       "      <th>Crossover Operator</th>\n",
       "      <th>Mutation Operator</th>\n",
       "      <th>Maximum Fitness</th>\n",
       "      <th>Time</th>\n",
       "      <th>Fitness Change per Time</th>\n",
       "    </tr>\n",
       "  </thead>\n",
       "  <tbody>\n",
       "    <tr>\n",
       "      <th>0</th>\n",
       "      <td>OX1</td>\n",
       "      <td>Two_Opt_Swap</td>\n",
       "      <td>-5.320</td>\n",
       "      <td>110.886059</td>\n",
       "      <td>0.028408</td>\n",
       "    </tr>\n",
       "    <tr>\n",
       "      <th>1</th>\n",
       "      <td>OX1</td>\n",
       "      <td>Two_Opt_Swap</td>\n",
       "      <td>-5.040</td>\n",
       "      <td>110.520432</td>\n",
       "      <td>0.031533</td>\n",
       "    </tr>\n",
       "    <tr>\n",
       "      <th>2</th>\n",
       "      <td>OX1</td>\n",
       "      <td>Two_Opt_Swap</td>\n",
       "      <td>-5.390</td>\n",
       "      <td>107.648233</td>\n",
       "      <td>0.031073</td>\n",
       "    </tr>\n",
       "    <tr>\n",
       "      <th>3</th>\n",
       "      <td>OX1</td>\n",
       "      <td>Two_Opt_Swap</td>\n",
       "      <td>-4.465</td>\n",
       "      <td>107.973416</td>\n",
       "      <td>0.032138</td>\n",
       "    </tr>\n",
       "    <tr>\n",
       "      <th>4</th>\n",
       "      <td>OX1</td>\n",
       "      <td>Two_Opt_Swap</td>\n",
       "      <td>-4.820</td>\n",
       "      <td>112.294837</td>\n",
       "      <td>0.040919</td>\n",
       "    </tr>\n",
       "    <tr>\n",
       "      <th>...</th>\n",
       "      <td>...</td>\n",
       "      <td>...</td>\n",
       "      <td>...</td>\n",
       "      <td>...</td>\n",
       "      <td>...</td>\n",
       "    </tr>\n",
       "    <tr>\n",
       "      <th>175</th>\n",
       "      <td>OXC</td>\n",
       "      <td>Two_Opt_Flip</td>\n",
       "      <td>-4.625</td>\n",
       "      <td>89.532722</td>\n",
       "      <td>0.048977</td>\n",
       "    </tr>\n",
       "    <tr>\n",
       "      <th>176</th>\n",
       "      <td>OXC</td>\n",
       "      <td>Two_Opt_Flip</td>\n",
       "      <td>-4.410</td>\n",
       "      <td>83.626768</td>\n",
       "      <td>0.054289</td>\n",
       "    </tr>\n",
       "    <tr>\n",
       "      <th>177</th>\n",
       "      <td>OXC</td>\n",
       "      <td>Two_Opt_Flip</td>\n",
       "      <td>-4.790</td>\n",
       "      <td>95.321822</td>\n",
       "      <td>0.042697</td>\n",
       "    </tr>\n",
       "    <tr>\n",
       "      <th>178</th>\n",
       "      <td>OXC</td>\n",
       "      <td>Two_Opt_Flip</td>\n",
       "      <td>-4.265</td>\n",
       "      <td>81.966325</td>\n",
       "      <td>0.050692</td>\n",
       "    </tr>\n",
       "    <tr>\n",
       "      <th>179</th>\n",
       "      <td>OXC</td>\n",
       "      <td>Two_Opt_Flip</td>\n",
       "      <td>-4.315</td>\n",
       "      <td>82.421072</td>\n",
       "      <td>0.053020</td>\n",
       "    </tr>\n",
       "  </tbody>\n",
       "</table>\n",
       "<p>180 rows × 5 columns</p>\n",
       "</div>"
      ],
      "text/plain": [
       "    Crossover Operator Mutation Operator  Maximum Fitness        Time  \\\n",
       "0                  OX1      Two_Opt_Swap           -5.320  110.886059   \n",
       "1                  OX1      Two_Opt_Swap           -5.040  110.520432   \n",
       "2                  OX1      Two_Opt_Swap           -5.390  107.648233   \n",
       "3                  OX1      Two_Opt_Swap           -4.465  107.973416   \n",
       "4                  OX1      Two_Opt_Swap           -4.820  112.294837   \n",
       "..                 ...               ...              ...         ...   \n",
       "175                OXC      Two_Opt_Flip           -4.625   89.532722   \n",
       "176                OXC      Two_Opt_Flip           -4.410   83.626768   \n",
       "177                OXC      Two_Opt_Flip           -4.790   95.321822   \n",
       "178                OXC      Two_Opt_Flip           -4.265   81.966325   \n",
       "179                OXC      Two_Opt_Flip           -4.315   82.421072   \n",
       "\n",
       "     Fitness Change per Time  \n",
       "0                   0.028408  \n",
       "1                   0.031533  \n",
       "2                   0.031073  \n",
       "3                   0.032138  \n",
       "4                   0.040919  \n",
       "..                       ...  \n",
       "175                 0.048977  \n",
       "176                 0.054289  \n",
       "177                 0.042697  \n",
       "178                 0.050692  \n",
       "179                 0.053020  \n",
       "\n",
       "[180 rows x 5 columns]"
      ]
     },
     "execution_count": 26,
     "metadata": {},
     "output_type": "execute_result"
    }
   ],
   "source": [
    "df"
   ]
  },
  {
   "cell_type": "code",
   "execution_count": 40,
   "metadata": {},
   "outputs": [],
   "source": [
    "data1 = df[(df['Crossover Operator'] == 'OX1') & (df['Mutation Operator'] == 'Two_Opt_Swap')]['Maximum Fitness']\n",
    "data2 = df[(df['Crossover Operator'] == 'OX1') & (df['Mutation Operator'] == 'Two_Opt_Flip')]['Maximum Fitness']\n",
    "data3 = df[(df['Crossover Operator'] == 'OXR') & (df['Mutation Operator'] == 'Two_Opt_Swap')]['Maximum Fitness']\n",
    "data4 = df[(df['Crossover Operator'] == 'OXR') & (df['Mutation Operator'] == 'Two_Opt_Flip')]['Maximum Fitness']\n",
    "data5 = df[(df['Crossover Operator'] == 'OXC') & (df['Mutation Operator'] == 'Two_Opt_Swap')]['Maximum Fitness']\n",
    "data6 = df[(df['Crossover Operator'] == 'OXC') & (df['Mutation Operator'] == 'Two_Opt_Flip')]['Maximum Fitness']"
   ]
  },
  {
   "cell_type": "code",
   "execution_count": 41,
   "metadata": {},
   "outputs": [
    {
     "data": {
      "image/png": "[encoded data removed]",
      "text/plain": [
       "<Figure size 640x480 with 1 Axes>"
      ]
     },
     "metadata": {},
     "output_type": "display_data"
    }
   ],
   "source": [
    "#Plotting the box-plot\n",
    "fig, ax = plt.subplots()\n",
    "ax.boxplot([data1, data2, data3, data4, data5, data6])\n",
    "\n",
    "ax.set_xticklabels(['OX1-Swap', 'OX1-Flip', 'OXR-Swap', 'OXR-Flip', 'OXC-Swap', 'OXC-Flip'])\n",
    "ax.set_ylabel('Maximum Fitness')\n",
    "\n",
    "plt.savefig('boxplot2.jpg', format='jpg')"
   ]
  },
  {
   "cell_type": "code",
   "execution_count": 33,
   "metadata": {},
   "outputs": [],
   "source": [
    "dataA = df[(df['Crossover Operator'] == 'OX1') & (df['Mutation Operator'] == 'Two_Opt_Swap')]['Time']\n",
    "dataB = df[(df['Crossover Operator'] == 'OX1') & (df['Mutation Operator'] == 'Two_Opt_Flip')]['Time']\n",
    "dataC = df[(df['Crossover Operator'] == 'OXR') & (df['Mutation Operator'] == 'Two_Opt_Swap')]['Time']\n",
    "dataD = df[(df['Crossover Operator'] == 'OXR') & (df['Mutation Operator'] == 'Two_Opt_Flip')]['Time']\n",
    "dataE = df[(df['Crossover Operator'] == 'OXC') & (df['Mutation Operator'] == 'Two_Opt_Swap')]['Time']\n",
    "dataF = df[(df['Crossover Operator'] == 'OXC') & (df['Mutation Operator'] == 'Two_Opt_Flip')]['Time']"
   ]
  },
  {
   "cell_type": "code",
   "execution_count": 40,
   "metadata": {},
   "outputs": [
    {
     "data": {
      "image/png": "[encoded data removed]",
      "text/plain": [
       "<Figure size 640x480 with 1 Axes>"
      ]
     },
     "metadata": {},
     "output_type": "display_data"
    }
   ],
   "source": [
    "#Plotting the box-plot\n",
    "fig, ax = plt.subplots()\n",
    "ax.hist([dataA, dataB], label=['OX1-Swap', 'OX1-Flip'])\n",
    "\n",
    "ax.set_xlabel('Time(s)')\n",
    "ax.set_ylabel('Count')\n",
    "ax.legend()\n",
    "\n",
    "plt.savefig('histogram3.jpg', format='jpg')"
   ]
  },
  {
   "cell_type": "code",
   "execution_count": 43,
   "metadata": {},
   "outputs": [
    {
     "data": {
      "image/png": "[encoded data removed]",
      "text/plain": [
       "<Figure size 640x480 with 1 Axes>"
      ]
     },
     "metadata": {},
     "output_type": "display_data"
    }
   ],
   "source": [
    "#Plotting the box-plot\n",
    "fig, ax = plt.subplots()\n",
    "ax.hist([dataC, dataD], label=['OXR-Swap', 'OXR-Flip'])\n",
    "\n",
    "ax.set_xlabel('Time(s)')\n",
    "ax.set_ylabel('Count')\n",
    "ax.legend()\n",
    "\n",
    "plt.savefig('histogram4.jpg', format='jpg')"
   ]
  },
  {
   "cell_type": "code",
   "execution_count": 44,
   "metadata": {},
   "outputs": [
    {
     "data": {
      "image/png": "[encoded data removed]",
      "text/plain": [
       "<Figure size 640x480 with 1 Axes>"
      ]
     },
     "metadata": {},
     "output_type": "display_data"
    }
   ],
   "source": [
    "#Plotting the box-plot\n",
    "fig, ax = plt.subplots()\n",
    "ax.hist([dataE, dataF], label=['OXC-Swap', 'OXC-Flip'])\n",
    "\n",
    "ax.set_xlabel('Time(s)')\n",
    "ax.set_ylabel('Count')\n",
    "ax.legend()\n",
    "\n",
    "plt.savefig('histogram5.jpg', format='jpg')"
   ]
  },
  {
   "cell_type": "code",
   "execution_count": null,
   "metadata": {},
   "outputs": [],
   "source": []
  }
 ],
 "metadata": {
  "kernelspec": {
   "display_name": "Python 3",
   "language": "python",
   "name": "python3"
  },
  "language_info": {
   "codemirror_mode": {
    "name": "ipython",
    "version": 3
   },
   "file_extension": ".py",
   "mimetype": "text/x-python",
   "name": "python",
   "nbconvert_exporter": "python",
   "pygments_lexer": "ipython3",
   "version": "3.10.7"
  },
  "orig_nbformat": 4
 },
 "nbformat": 4,
 "nbformat_minor": 2
}
