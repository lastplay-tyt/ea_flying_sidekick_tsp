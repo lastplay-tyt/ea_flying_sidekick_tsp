{
 "cells": [
  {
   "cell_type": "code",
   "execution_count": 1,
   "metadata": {},
   "outputs": [],
   "source": [
    "%%capture\n",
    "# Running the previous notebooks\n",
    "%run TSP.ipynb\n",
    "%run TSPextended.ipynb\n",
    "%run LocalSearch.ipynb\n",
    "%run EvolutionaryAlgorithmTSP.ipynb\n",
    "%run EvolutionaryAlgorithmFSTSP.ipynb\n",
    "\n",
    "#Importing their classes\n",
    "tsp = TSP()\n",
    "tsp_ext = TSPext()\n",
    "localsearch = LocalSearch()"
   ]
  },
  {
   "cell_type": "code",
   "execution_count": 2,
   "metadata": {},
   "outputs": [],
   "source": [
    "import pandas as pd\n",
    "import numpy as np\n",
    "from scipy.stats import qmc\n",
    "import matplotlib.pyplot as plt\n",
    "import scipy.stats as stats\n",
    "import time as time"
   ]
  },
  {
   "cell_type": "code",
   "execution_count": 3,
   "metadata": {},
   "outputs": [],
   "source": [
    "import pandas as pd\n",
    "import numpy as np\n",
    "from scipy.stats import qmc\n",
    "import matplotlib.pyplot as plt\n",
    "import scipy.stats as stats\n",
    "import time as time\n",
    "import sklearn"
   ]
  },
  {
   "cell_type": "code",
   "execution_count": 4,
   "metadata": {},
   "outputs": [],
   "source": [
    "import statsmodels.api as sm\n",
    "from statsmodels.formula.api import ols\n",
    "\n",
    "from statsmodels.stats.multicomp import pairwise_tukeyhsd"
   ]
  },
  {
   "cell_type": "code",
   "execution_count": null,
   "metadata": {},
   "outputs": [],
   "source": [
    "from pingouin import ancova"
   ]
  },
  {
   "cell_type": "code",
   "execution_count": 5,
   "metadata": {},
   "outputs": [
    {
     "data": {
      "text/html": [
       "<div>\n",
       "<style scoped>\n",
       "    .dataframe tbody tr th:only-of-type {\n",
       "        vertical-align: middle;\n",
       "    }\n",
       "\n",
       "    .dataframe tbody tr th {\n",
       "        vertical-align: top;\n",
       "    }\n",
       "\n",
       "    .dataframe thead th {\n",
       "        text-align: right;\n",
       "    }\n",
       "</style>\n",
       "<table border=\"1\" class=\"dataframe\">\n",
       "  <thead>\n",
       "    <tr style=\"text-align: right;\">\n",
       "      <th></th>\n",
       "      <th>1</th>\n",
       "      <th>2</th>\n",
       "      <th>3</th>\n",
       "      <th>4</th>\n",
       "      <th>5</th>\n",
       "      <th>6</th>\n",
       "      <th>7</th>\n",
       "      <th>8</th>\n",
       "      <th>9</th>\n",
       "      <th>10</th>\n",
       "      <th>...</th>\n",
       "      <th>16</th>\n",
       "      <th>17</th>\n",
       "      <th>18</th>\n",
       "      <th>19</th>\n",
       "      <th>20</th>\n",
       "      <th>21</th>\n",
       "      <th>22</th>\n",
       "      <th>23</th>\n",
       "      <th>24</th>\n",
       "      <th>25</th>\n",
       "    </tr>\n",
       "  </thead>\n",
       "  <tbody>\n",
       "    <tr>\n",
       "      <th>1</th>\n",
       "      <td>0.00</td>\n",
       "      <td>0.35</td>\n",
       "      <td>0.59</td>\n",
       "      <td>0.30</td>\n",
       "      <td>0.20</td>\n",
       "      <td>0.22</td>\n",
       "      <td>0.49</td>\n",
       "      <td>0.68</td>\n",
       "      <td>0.59</td>\n",
       "      <td>0.50</td>\n",
       "      <td>...</td>\n",
       "      <td>0.24</td>\n",
       "      <td>0.43</td>\n",
       "      <td>0.44</td>\n",
       "      <td>0.84</td>\n",
       "      <td>0.37</td>\n",
       "      <td>0.54</td>\n",
       "      <td>0.27</td>\n",
       "      <td>0.29</td>\n",
       "      <td>0.33</td>\n",
       "      <td>0.16</td>\n",
       "    </tr>\n",
       "    <tr>\n",
       "      <th>2</th>\n",
       "      <td>0.35</td>\n",
       "      <td>0.00</td>\n",
       "      <td>0.29</td>\n",
       "      <td>0.08</td>\n",
       "      <td>0.17</td>\n",
       "      <td>0.35</td>\n",
       "      <td>0.22</td>\n",
       "      <td>0.70</td>\n",
       "      <td>0.54</td>\n",
       "      <td>0.32</td>\n",
       "      <td>...</td>\n",
       "      <td>0.53</td>\n",
       "      <td>0.41</td>\n",
       "      <td>0.55</td>\n",
       "      <td>0.60</td>\n",
       "      <td>0.30</td>\n",
       "      <td>0.20</td>\n",
       "      <td>0.21</td>\n",
       "      <td>0.23</td>\n",
       "      <td>0.27</td>\n",
       "      <td>0.21</td>\n",
       "    </tr>\n",
       "    <tr>\n",
       "      <th>3</th>\n",
       "      <td>0.59</td>\n",
       "      <td>0.29</td>\n",
       "      <td>0.00</td>\n",
       "      <td>0.30</td>\n",
       "      <td>0.44</td>\n",
       "      <td>0.48</td>\n",
       "      <td>0.40</td>\n",
       "      <td>0.96</td>\n",
       "      <td>0.79</td>\n",
       "      <td>0.54</td>\n",
       "      <td>...</td>\n",
       "      <td>0.80</td>\n",
       "      <td>0.40</td>\n",
       "      <td>0.83</td>\n",
       "      <td>0.73</td>\n",
       "      <td>0.57</td>\n",
       "      <td>0.29</td>\n",
       "      <td>0.34</td>\n",
       "      <td>0.51</td>\n",
       "      <td>0.55</td>\n",
       "      <td>0.42</td>\n",
       "    </tr>\n",
       "    <tr>\n",
       "      <th>4</th>\n",
       "      <td>0.30</td>\n",
       "      <td>0.08</td>\n",
       "      <td>0.30</td>\n",
       "      <td>0.00</td>\n",
       "      <td>0.15</td>\n",
       "      <td>0.27</td>\n",
       "      <td>0.29</td>\n",
       "      <td>0.73</td>\n",
       "      <td>0.59</td>\n",
       "      <td>0.38</td>\n",
       "      <td>...</td>\n",
       "      <td>0.50</td>\n",
       "      <td>0.34</td>\n",
       "      <td>0.56</td>\n",
       "      <td>0.68</td>\n",
       "      <td>0.33</td>\n",
       "      <td>0.28</td>\n",
       "      <td>0.14</td>\n",
       "      <td>0.25</td>\n",
       "      <td>0.30</td>\n",
       "      <td>0.14</td>\n",
       "    </tr>\n",
       "    <tr>\n",
       "      <th>5</th>\n",
       "      <td>0.20</td>\n",
       "      <td>0.17</td>\n",
       "      <td>0.44</td>\n",
       "      <td>0.15</td>\n",
       "      <td>0.00</td>\n",
       "      <td>0.29</td>\n",
       "      <td>0.30</td>\n",
       "      <td>0.61</td>\n",
       "      <td>0.49</td>\n",
       "      <td>0.33</td>\n",
       "      <td>...</td>\n",
       "      <td>0.36</td>\n",
       "      <td>0.44</td>\n",
       "      <td>0.42</td>\n",
       "      <td>0.66</td>\n",
       "      <td>0.23</td>\n",
       "      <td>0.35</td>\n",
       "      <td>0.22</td>\n",
       "      <td>0.14</td>\n",
       "      <td>0.19</td>\n",
       "      <td>0.13</td>\n",
       "    </tr>\n",
       "  </tbody>\n",
       "</table>\n",
       "<p>5 rows × 25 columns</p>\n",
       "</div>"
      ],
      "text/plain": [
       "     1     2     3     4     5     6     7     8     9     10  ...    16  \\\n",
       "1  0.00  0.35  0.59  0.30  0.20  0.22  0.49  0.68  0.59  0.50  ...  0.24   \n",
       "2  0.35  0.00  0.29  0.08  0.17  0.35  0.22  0.70  0.54  0.32  ...  0.53   \n",
       "3  0.59  0.29  0.00  0.30  0.44  0.48  0.40  0.96  0.79  0.54  ...  0.80   \n",
       "4  0.30  0.08  0.30  0.00  0.15  0.27  0.29  0.73  0.59  0.38  ...  0.50   \n",
       "5  0.20  0.17  0.44  0.15  0.00  0.29  0.30  0.61  0.49  0.33  ...  0.36   \n",
       "\n",
       "     17    18    19    20    21    22    23    24    25  \n",
       "1  0.43  0.44  0.84  0.37  0.54  0.27  0.29  0.33  0.16  \n",
       "2  0.41  0.55  0.60  0.30  0.20  0.21  0.23  0.27  0.21  \n",
       "3  0.40  0.83  0.73  0.57  0.29  0.34  0.51  0.55  0.42  \n",
       "4  0.34  0.56  0.68  0.33  0.28  0.14  0.25  0.30  0.14  \n",
       "5  0.44  0.42  0.66  0.23  0.35  0.22  0.14  0.19  0.13  \n",
       "\n",
       "[5 rows x 25 columns]"
      ]
     },
     "execution_count": 5,
     "metadata": {},
     "output_type": "execute_result"
    }
   ],
   "source": [
    "columns = [i for i in range(1,26)]\n",
    "distance_dataframe = pd.read_csv('distance_dataframes/dist_dataframe_normal_1_25_wo:0.csv',names = columns)\n",
    "distance_dataframe = distance_dataframe.iloc[1:]\n",
    "distance_dataframe.head()"
   ]
  },
  {
   "cell_type": "markdown",
   "metadata": {},
   "source": [
    "Importing the class $eaFSTSP\\_One\\_OXC\\_swap$ from $FSTSP\\_EDA$."
   ]
  },
  {
   "cell_type": "code",
   "execution_count": 6,
   "metadata": {},
   "outputs": [],
   "source": [
    "#Defining the class\n",
    "class eaFSTSP_One_OXC_swap:\n",
    "    def __init__(self, population_size, number_of_cities, distance_matrix, truck_distance_matrix, drone_distance_matrix):\n",
    "        #number_of_parents, number_of_offspring, tournament_size, tournament_probability, mutation_probability\n",
    "        self.population_size = population_size\n",
    "        self.number_of_cities = number_of_cities\n",
    "        self.distance_matrix = distance_matrix\n",
    "        self.truck_distance_matrix = truck_distance_matrix\n",
    "        self.drone_distance_matrix = drone_distance_matrix\n",
    "        self.fstsp = eaFSTSP(self.distance_matrix, self.truck_distance_matrix, self.drone_distance_matrix, self.population_size, self.number_of_cities)\n",
    "        \n",
    "    #Initialize and evaluate population\n",
    "    def initialize(self, drone_endurance, inverse_truck_speed, inverse_drone_speed):\n",
    "        self.drone_endurance = drone_endurance\n",
    "        self.routes, self.allocation, self.population, self.fitness = self.fstsp.random_initialization(drone_endurance, inverse_truck_speed, inverse_drone_speed)\n",
    "        return(self.routes, self.allocation, self.population, self.fitness)\n",
    "        \n",
    "    #Run the loop  \n",
    "    def mainLoop(self, number_of_parents, number_of_offspring, tournament_size, tournament_probability, mutation_probability, total_generations):\n",
    "        #We can record time it takes for the loop \n",
    "        init_time = time.time()   \n",
    "        \n",
    "        generation_number =0\n",
    "        initial_population = self.population\n",
    "        initial_allocation = self.allocation\n",
    "        self.fitness_array = []\n",
    "        self.duplicates = []\n",
    "        while(generation_number<total_generations):\n",
    "            #Select parents\n",
    "            mating_pool, allocation_pool = self.fstsp.parent_selection_tournament(number_of_parents, self.routes, self.allocation,self.fitness,tournament_size, tournament_probability)\n",
    "            #Recombination\n",
    "            offspring_database, offspring_allocation_database = self.fstsp.order_one_crossover_c(mating_pool, allocation_pool, number_of_offspring)\n",
    "            #Mutation\n",
    "            mutated_offspring_df, mutated_allocation_arrays_df = self.fstsp.two_opt_swap(offspring_database, offspring_allocation_database, mutation_probability)\n",
    "            #Evaluation\n",
    "            offspring_with_fitness, offspring_allocation = self.fstsp.evaluation(mutated_offspring_df, mutated_allocation_arrays_df)\n",
    "            offspring_with_fitness.columns = initial_population.columns\n",
    "            offspring_allocation.columns = initial_allocation.columns\n",
    "            #Replacement\n",
    "            next_population, next_allocation = self.fstsp.replacement(self.population, offspring_with_fitness, initial_allocation, offspring_allocation)\n",
    "            #Preparing for next generation\n",
    "            self.routes = next_population.drop(next_population.columns[-1], axis=1)\n",
    "            self.allocation = next_allocation\n",
    "            self.fitness = next_population.iloc[:, -1].values.tolist()\n",
    "      \n",
    "            fitness = next_population['Fitness'].max()\n",
    "            self.fitness_array.append(fitness)\n",
    "            \n",
    "            duplicates_count = next_population.duplicated().sum()\n",
    "            self.duplicates.append(duplicates_count)\n",
    "            \n",
    "            generation_number = generation_number + 1\n",
    "        \n",
    "        #Recording the end time\n",
    "        final_time = time.time()\n",
    "        \n",
    "        total_time = final_time - init_time\n",
    "        \n",
    "        return(next_population, next_allocation, self.fitness, self.fitness_array, total_time, self.duplicates)\n",
    "        \n",
    "    def printOptimumFitness(self):\n",
    "        plt.plot(self.fitness_array, marker='x', linestyle='-')\n",
    "        plt.xlabel('Generation')\n",
    "        plt.ylabel('Fitness')\n",
    "        plt.title('Plot of Fitness against Generation Number')\n",
    "        plt.show()\n",
    "        \n",
    "    def printDuplicateCount(self):\n",
    "        plt.plot(self.duplicates, marker='x', linestyle='-')\n",
    "        plt.xlabel('Generation')\n",
    "        plt.ylabel('Duplicate Count')\n",
    "        plt.title('Plot of Number of Duplicate Individuals against Generation Number')\n",
    "        plt.show()"
   ]
  },
  {
   "cell_type": "markdown",
   "metadata": {},
   "source": [
    "We are going to use this class to run the EA with specific parameter values on the dataframe 30 times. Then we will take the average fitness and the average run time across those 30 values."
   ]
  },
  {
   "cell_type": "code",
   "execution_count": 7,
   "metadata": {},
   "outputs": [],
   "source": [
    "def EA_parameter_test(distance_dataframe, drone_scaling_factor, drone_battery_life, population_size,number_of_parents, tournament_size, tournament_probability, mutation_probability, total_generations):  \n",
    "    array_max_fitness_values = []\n",
    "    array_run_time_values = []\n",
    "    array_duplicate_count = []\n",
    "    \n",
    "    counter = 0\n",
    "    \n",
    "    truck_scaling_factor = 1\n",
    "    number_of_cities = 25 \n",
    "    number_of_offspring = population_size\n",
    "    \n",
    "    truck_time_dataframe, drone_time_dataframe = multiplydistancedataframe(distance_dataframe,  truck_scaling_factor, drone_scaling_factor)\n",
    "\n",
    "    while(counter<15):\n",
    "        #Initialise\n",
    "        ea = eaFSTSP_One_OXC_swap(population_size=population_size, number_of_cities=number_of_cities, distance_matrix=distance_dataframe, truck_distance_matrix=truck_time_dataframe, drone_distance_matrix=drone_time_dataframe)\n",
    "        ea.initialize(drone_battery_life, truck_scaling_factor, drone_scaling_factor)\n",
    "        #Obtain final fitness value from ending population\n",
    "        run = ea.mainLoop(number_of_parents, number_of_offspring, tournament_size, tournament_probability, mutation_probability, total_generations)\n",
    "        maximum_finishing_fitness_value = np.amax(run[3])\n",
    "        #Appending values\n",
    "        array_run_time_values.append(run[4])\n",
    "        array_max_fitness_values.append(maximum_finishing_fitness_value)\n",
    "        array_duplicate_count.append(run[5])\n",
    "        counter = counter + 1\n",
    "        \n",
    "    array_max_fitness_values = np.array(array_max_fitness_values)\n",
    "    average_fitness = np.mean(array_max_fitness_values)\n",
    "    \n",
    "    array_duplicate_count = np.array(array_duplicate_count)\n",
    "    final_duplicate_number = np.max(array_duplicate_count[-1])\n",
    "    \n",
    "    array_run_time_values = np.array(array_run_time_values)\n",
    "    average_time = np.mean(array_run_time_values)\n",
    "        \n",
    "    return(average_fitness, average_time, final_duplicate_number)"
   ]
  },
  {
   "cell_type": "code",
   "execution_count": 8,
   "metadata": {},
   "outputs": [],
   "source": [
    "#Test\n",
    "tmp = EA_parameter_test(distance_dataframe, 1, 1, 100, 75, 3, 0.9, 0.1, 100)"
   ]
  },
  {
   "cell_type": "code",
   "execution_count": 9,
   "metadata": {},
   "outputs": [
    {
     "data": {
      "text/plain": [
       "(-5.335333333333335, 35.44714331626892, 29)"
      ]
     },
     "execution_count": 9,
     "metadata": {},
     "output_type": "execute_result"
    }
   ],
   "source": [
    "tmp"
   ]
  },
  {
   "cell_type": "markdown",
   "metadata": {},
   "source": [
    "In order to obtain a set of experimental parameter values to run the experiment on, we will use a latin hypercube."
   ]
  },
  {
   "cell_type": "code",
   "execution_count": null,
   "metadata": {},
   "outputs": [],
   "source": [
    "#Latin hypercube for parameter values\n",
    "ln = qmc.LatinHypercube(8)"
   ]
  },
  {
   "cell_type": "code",
   "execution_count": null,
   "metadata": {},
   "outputs": [],
   "source": [
    "sample = ln.random(n=100)"
   ]
  },
  {
   "cell_type": "code",
   "execution_count": null,
   "metadata": {},
   "outputs": [],
   "source": [
    "#Parameters are drone_scaling_factor, drone_endurance, population_size,number_of_parents, tournament_size, tournament_probability, mutation_probability, total_generations\n",
    "#Scaling the parameters\n",
    "l_bounds = [0.1, 0.1, 100, 0.1, 1, 0.1, 0.1, 100]\n",
    "u_bounds = [1, 1, 500, 1, 5, 1, 1, 500]\n",
    "parameter_ranges = qmc.scale(sample, l_bounds, u_bounds)"
   ]
  },
  {
   "cell_type": "code",
   "execution_count": null,
   "metadata": {},
   "outputs": [],
   "source": [
    "parameter_ranges"
   ]
  },
  {
   "cell_type": "code",
   "execution_count": null,
   "metadata": {},
   "outputs": [],
   "source": [
    "#Rounding the appropriate parameters (population size, number of parents, tournament size, number of generations) to integer range\n",
    "for i in range(100):    \n",
    "    parameter_ranges[i] = np.round(parameter_ranges[i], 2)\n",
    "    parameter_ranges[i][2] = int(parameter_ranges[i][2])\n",
    "    parameter_ranges[i][4] = int(parameter_ranges[i][4])\n",
    "    parameter_ranges[i][7] = int(parameter_ranges[i][7])"
   ]
  },
  {
   "cell_type": "code",
   "execution_count": null,
   "metadata": {},
   "outputs": [],
   "source": [
    "parameter_ranges[1]"
   ]
  },
  {
   "cell_type": "code",
   "execution_count": null,
   "metadata": {},
   "outputs": [],
   "source": [
    "#Running the EA for each parameter combination\n",
    "fitness = []\n",
    "times = []\n",
    "duplicates = []\n",
    "\n",
    "for i in range(100):\n",
    "    drone_scaling_factor, drone_endurance, population_size,number_of_parents, tournament_size, tournament_probability, mutation_probability, total_generations =  parameter_ranges[i, [0]][0], parameter_ranges[i, [1]][0], int(parameter_ranges[i, [2]][0]), int(parameter_ranges[i, [3]][0] * int(parameter_ranges[i, [2]][0])), int(parameter_ranges[i, [4]][0]), parameter_ranges[i, [5]][0], parameter_ranges[i, [6]][0], int(parameter_ranges[i, [7]][0])\n",
    "    tmp = EA_parameter_test(distance_dataframe, drone_scaling_factor, drone_endurance, population_size, number_of_parents, tournament_size, tournament_probability, mutation_probability, total_generations)\n",
    "    new_fitness = tmp[0]\n",
    "    new_times = tmp[1]\n",
    "    new_duplicates = tmp[2]\n",
    "\n",
    "    fitness.append(new_fitness)\n",
    "    times.append(new_times)\n",
    "    duplicates.append(new_duplicates)"
   ]
  },
  {
   "cell_type": "code",
   "execution_count": null,
   "metadata": {},
   "outputs": [],
   "source": [
    "len(fitness)"
   ]
  },
  {
   "cell_type": "code",
   "execution_count": null,
   "metadata": {},
   "outputs": [],
   "source": [
    "fitness_df = pd.DataFrame(fitness)"
   ]
  },
  {
   "cell_type": "code",
   "execution_count": null,
   "metadata": {},
   "outputs": [],
   "source": [
    "fitness_df"
   ]
  },
  {
   "cell_type": "code",
   "execution_count": null,
   "metadata": {},
   "outputs": [],
   "source": [
    "times_df = pd.DataFrame(times)"
   ]
  },
  {
   "cell_type": "code",
   "execution_count": null,
   "metadata": {},
   "outputs": [],
   "source": [
    "duplicates_df = pd.DataFrame(duplicates)"
   ]
  },
  {
   "cell_type": "code",
   "execution_count": null,
   "metadata": {},
   "outputs": [],
   "source": [
    "fitness_df.to_csv('fitness.csv')"
   ]
  },
  {
   "cell_type": "code",
   "execution_count": null,
   "metadata": {},
   "outputs": [],
   "source": [
    "times_df.to_csv('times')"
   ]
  },
  {
   "cell_type": "code",
   "execution_count": null,
   "metadata": {},
   "outputs": [],
   "source": [
    "duplicates_df.to_csv('duplicates.csv')"
   ]
  },
  {
   "cell_type": "markdown",
   "metadata": {},
   "source": [
    "Creating the results dataframe"
   ]
  },
  {
   "cell_type": "code",
   "execution_count": null,
   "metadata": {},
   "outputs": [],
   "source": [
    "parameters = parameter_ranges[0:37]"
   ]
  },
  {
   "cell_type": "code",
   "execution_count": null,
   "metadata": {},
   "outputs": [],
   "source": [
    "parameters_df = pd.DataFrame(parameters)"
   ]
  },
  {
   "cell_type": "code",
   "execution_count": null,
   "metadata": {},
   "outputs": [],
   "source": [
    "parameters_df = parameters_df.rename(columns={0: 'drone_scaling_factor', 1: 'drone_endurance', 2:'population_size', 3:'proportion_of_parents', 4:'tournament_size', 5:'tournament_probability', 6:'mutation_probability', 7: 'total_generations'})\n",
    "                       "
   ]
  },
  {
   "cell_type": "code",
   "execution_count": null,
   "metadata": {},
   "outputs": [],
   "source": [
    "parameters_df"
   ]
  },
  {
   "cell_type": "code",
   "execution_count": null,
   "metadata": {},
   "outputs": [],
   "source": [
    "df = pd.concat([parameters_df, fitness_df], axis = 1)"
   ]
  },
  {
   "cell_type": "code",
   "execution_count": null,
   "metadata": {},
   "outputs": [],
   "source": [
    "df = df.rename(columns={0: 'Fitness'})"
   ]
  },
  {
   "cell_type": "code",
   "execution_count": null,
   "metadata": {},
   "outputs": [],
   "source": [
    "df.to_csv('Parameter_Experimentation.csv')"
   ]
  },
  {
   "cell_type": "code",
   "execution_count": null,
   "metadata": {},
   "outputs": [],
   "source": [
    "df"
   ]
  },
  {
   "cell_type": "markdown",
   "metadata": {},
   "source": [
    "#### Determining optimal values\n"
   ]
  },
  {
   "cell_type": "code",
   "execution_count": null,
   "metadata": {},
   "outputs": [],
   "source": [
    "df['Fitness'].argmax()"
   ]
  },
  {
   "cell_type": "code",
   "execution_count": null,
   "metadata": {},
   "outputs": [],
   "source": [
    "df.iloc[30]"
   ]
  },
  {
   "cell_type": "markdown",
   "metadata": {},
   "source": [
    "#### Let us compare the FSTSP model with these parameters against the TSP model with the same parameters"
   ]
  },
  {
   "cell_type": "code",
   "execution_count": 12,
   "metadata": {},
   "outputs": [
    {
     "ename": "KeyboardInterrupt",
     "evalue": "",
     "output_type": "error",
     "traceback": [
      "\u001b[0;31m---------------------------------------------------------------------------\u001b[0m",
      "\u001b[0;31mKeyboardInterrupt\u001b[0m                         Traceback (most recent call last)",
      "\u001b[1;32m/Users/ibrahim/Library/CloudStorage/GoogleDrive-privatebee156@gmail.com/My Drive/dissertation_files/untitled folder 2/AAI_dissertation-main/FSTSP_Parameter_Optimization.ipynb Cell 42\u001b[0m line \u001b[0;36m7\n\u001b[1;32m      <a href='vscode-notebook-cell:/Users/ibrahim/Library/CloudStorage/GoogleDrive-privatebee156%40gmail.com/My%20Drive/dissertation_files/untitled%20folder%202/AAI_dissertation-main/FSTSP_Parameter_Optimization.ipynb#X55sZmlsZQ%3D%3D?line=4'>5</a>\u001b[0m ea \u001b[39m=\u001b[39m eaTSP_ONE(\u001b[39m390\u001b[39m, \u001b[39m25\u001b[39m, distance_dataframe)\n\u001b[1;32m      <a href='vscode-notebook-cell:/Users/ibrahim/Library/CloudStorage/GoogleDrive-privatebee156%40gmail.com/My%20Drive/dissertation_files/untitled%20folder%202/AAI_dissertation-main/FSTSP_Parameter_Optimization.ipynb#X55sZmlsZQ%3D%3D?line=5'>6</a>\u001b[0m ea\u001b[39m.\u001b[39minitialize()\n\u001b[0;32m----> <a href='vscode-notebook-cell:/Users/ibrahim/Library/CloudStorage/GoogleDrive-privatebee156%40gmail.com/My%20Drive/dissertation_files/untitled%20folder%202/AAI_dissertation-main/FSTSP_Parameter_Optimization.ipynb#X55sZmlsZQ%3D%3D?line=6'>7</a>\u001b[0m ea_run \u001b[39m=\u001b[39m ea\u001b[39m.\u001b[39;49mmainLoop(\u001b[39m160\u001b[39;49m, \u001b[39m390\u001b[39;49m, \u001b[39m3\u001b[39;49m, \u001b[39m0.83\u001b[39;49m, \u001b[39m0.16\u001b[39;49m, \u001b[39m291\u001b[39;49m)\n\u001b[1;32m      <a href='vscode-notebook-cell:/Users/ibrahim/Library/CloudStorage/GoogleDrive-privatebee156%40gmail.com/My%20Drive/dissertation_files/untitled%20folder%202/AAI_dissertation-main/FSTSP_Parameter_Optimization.ipynb#X55sZmlsZQ%3D%3D?line=7'>8</a>\u001b[0m new_fitness \u001b[39m=\u001b[39m ea_run\u001b[39m.\u001b[39mloc[\u001b[39m1\u001b[39m][\u001b[39m'\u001b[39m\u001b[39mFitness\u001b[39m\u001b[39m'\u001b[39m]\n\u001b[1;32m      <a href='vscode-notebook-cell:/Users/ibrahim/Library/CloudStorage/GoogleDrive-privatebee156%40gmail.com/My%20Drive/dissertation_files/untitled%20folder%202/AAI_dissertation-main/FSTSP_Parameter_Optimization.ipynb#X55sZmlsZQ%3D%3D?line=8'>9</a>\u001b[0m fitness\u001b[39m.\u001b[39mappend(new_fitness)\n",
      "File \u001b[0;32m/var/folders/5p/hzbf0zgn4kl1gq994543pg9m0000gn/T/ipykernel_2142/2501825183.py:22\u001b[0m, in \u001b[0;36meaTSP_ONE.mainLoop\u001b[0;34m(self, number_of_parents, number_of_offspring, tournament_size, tournament_probability, mutation_probability, total_generations)\u001b[0m\n\u001b[1;32m     19\u001b[0m \u001b[39mself\u001b[39m\u001b[39m.\u001b[39mduplicates \u001b[39m=\u001b[39m []\n\u001b[1;32m     20\u001b[0m \u001b[39mwhile\u001b[39;00m(generation_number\u001b[39m<\u001b[39mtotal_generations):\n\u001b[1;32m     21\u001b[0m     \u001b[39m#Select parents\u001b[39;00m\n\u001b[0;32m---> 22\u001b[0m     mating_pool \u001b[39m=\u001b[39m \u001b[39mself\u001b[39;49m\u001b[39m.\u001b[39;49mtsp\u001b[39m.\u001b[39;49mparent_selection_tournament(\u001b[39mself\u001b[39;49m\u001b[39m.\u001b[39;49mevaluated_population, number_of_parents, tournament_size, tournament_probability)\n\u001b[1;32m     23\u001b[0m     \u001b[39m#Recombination\u001b[39;00m\n\u001b[1;32m     24\u001b[0m     offspring_database \u001b[39m=\u001b[39m \u001b[39mself\u001b[39m\u001b[39m.\u001b[39mtsp\u001b[39m.\u001b[39morder_one_crossover(mating_pool, number_of_offspring)\n",
      "File \u001b[0;32m/var/folders/5p/hzbf0zgn4kl1gq994543pg9m0000gn/T/ipykernel_2142/338534269.py:40\u001b[0m, in \u001b[0;36meaTSP.parent_selection_tournament\u001b[0;34m(self, evaluated_population, number_of_parents, tournament_size, tournament_probability)\u001b[0m\n\u001b[1;32m     38\u001b[0m \u001b[39mfor\u001b[39;00m i \u001b[39min\u001b[39;00m \u001b[39mrange\u001b[39m(number_of_parents):\n\u001b[1;32m     39\u001b[0m     parent \u001b[39m=\u001b[39m selection\u001b[39m.\u001b[39mTournament()\n\u001b[0;32m---> 40\u001b[0m     mating_pool\u001b[39m.\u001b[39;49miloc[i] \u001b[39m=\u001b[39m parent\n\u001b[1;32m     42\u001b[0m \u001b[39mreturn\u001b[39;00m(mating_pool)\n",
      "File \u001b[0;32m/Library/Frameworks/Python.framework/Versions/3.10/lib/python3.10/site-packages/pandas/core/indexing.py:849\u001b[0m, in \u001b[0;36m_LocationIndexer.__setitem__\u001b[0;34m(self, key, value)\u001b[0m\n\u001b[1;32m    846\u001b[0m \u001b[39mself\u001b[39m\u001b[39m.\u001b[39m_has_valid_setitem_indexer(key)\n\u001b[1;32m    848\u001b[0m iloc \u001b[39m=\u001b[39m \u001b[39mself\u001b[39m \u001b[39mif\u001b[39;00m \u001b[39mself\u001b[39m\u001b[39m.\u001b[39mname \u001b[39m==\u001b[39m \u001b[39m\"\u001b[39m\u001b[39miloc\u001b[39m\u001b[39m\"\u001b[39m \u001b[39melse\u001b[39;00m \u001b[39mself\u001b[39m\u001b[39m.\u001b[39mobj\u001b[39m.\u001b[39miloc\n\u001b[0;32m--> 849\u001b[0m iloc\u001b[39m.\u001b[39;49m_setitem_with_indexer(indexer, value, \u001b[39mself\u001b[39;49m\u001b[39m.\u001b[39;49mname)\n",
      "File \u001b[0;32m/Library/Frameworks/Python.framework/Versions/3.10/lib/python3.10/site-packages/pandas/core/indexing.py:1835\u001b[0m, in \u001b[0;36m_iLocIndexer._setitem_with_indexer\u001b[0;34m(self, indexer, value, name)\u001b[0m\n\u001b[1;32m   1832\u001b[0m \u001b[39m# align and set the values\u001b[39;00m\n\u001b[1;32m   1833\u001b[0m \u001b[39mif\u001b[39;00m take_split_path:\n\u001b[1;32m   1834\u001b[0m     \u001b[39m# We have to operate column-wise\u001b[39;00m\n\u001b[0;32m-> 1835\u001b[0m     \u001b[39mself\u001b[39;49m\u001b[39m.\u001b[39;49m_setitem_with_indexer_split_path(indexer, value, name)\n\u001b[1;32m   1836\u001b[0m \u001b[39melse\u001b[39;00m:\n\u001b[1;32m   1837\u001b[0m     \u001b[39mself\u001b[39m\u001b[39m.\u001b[39m_setitem_single_block(indexer, value, name)\n",
      "File \u001b[0;32m/Library/Frameworks/Python.framework/Versions/3.10/lib/python3.10/site-packages/pandas/core/indexing.py:1870\u001b[0m, in \u001b[0;36m_iLocIndexer._setitem_with_indexer_split_path\u001b[0;34m(self, indexer, value, name)\u001b[0m\n\u001b[1;32m   1868\u001b[0m \u001b[39mif\u001b[39;00m is_list_like_indexer(value) \u001b[39mand\u001b[39;00m \u001b[39mgetattr\u001b[39m(value, \u001b[39m\"\u001b[39m\u001b[39mndim\u001b[39m\u001b[39m\"\u001b[39m, \u001b[39m1\u001b[39m) \u001b[39m>\u001b[39m \u001b[39m0\u001b[39m:\n\u001b[1;32m   1869\u001b[0m     \u001b[39mif\u001b[39;00m \u001b[39misinstance\u001b[39m(value, ABCDataFrame):\n\u001b[0;32m-> 1870\u001b[0m         \u001b[39mself\u001b[39;49m\u001b[39m.\u001b[39;49m_setitem_with_indexer_frame_value(indexer, value, name)\n\u001b[1;32m   1872\u001b[0m     \u001b[39melif\u001b[39;00m np\u001b[39m.\u001b[39mndim(value) \u001b[39m==\u001b[39m \u001b[39m2\u001b[39m:\n\u001b[1;32m   1873\u001b[0m         \u001b[39m# TODO: avoid np.ndim call in case it isn't an ndarray, since\u001b[39;00m\n\u001b[1;32m   1874\u001b[0m         \u001b[39m#  that will construct an ndarray, which will be wasteful\u001b[39;00m\n\u001b[1;32m   1875\u001b[0m         \u001b[39mself\u001b[39m\u001b[39m.\u001b[39m_setitem_with_indexer_2d_value(indexer, value)\n",
      "File \u001b[0;32m/Library/Frameworks/Python.framework/Versions/3.10/lib/python3.10/site-packages/pandas/core/indexing.py:1966\u001b[0m, in \u001b[0;36m_iLocIndexer._setitem_with_indexer_frame_value\u001b[0;34m(self, indexer, value, name)\u001b[0m\n\u001b[1;32m   1964\u001b[0m     \u001b[39mfor\u001b[39;00m i, loc \u001b[39min\u001b[39;00m \u001b[39menumerate\u001b[39m(ilocs):\n\u001b[1;32m   1965\u001b[0m         val \u001b[39m=\u001b[39m value\u001b[39m.\u001b[39miloc[:, i]\n\u001b[0;32m-> 1966\u001b[0m         \u001b[39mself\u001b[39;49m\u001b[39m.\u001b[39;49m_setitem_single_column(loc, val, pi)\n\u001b[1;32m   1968\u001b[0m \u001b[39melif\u001b[39;00m \u001b[39mnot\u001b[39;00m unique_cols \u001b[39mand\u001b[39;00m value\u001b[39m.\u001b[39mcolumns\u001b[39m.\u001b[39mequals(\u001b[39mself\u001b[39m\u001b[39m.\u001b[39mobj\u001b[39m.\u001b[39mcolumns):\n\u001b[1;32m   1969\u001b[0m     \u001b[39m# We assume we are already aligned, see\u001b[39;00m\n\u001b[1;32m   1970\u001b[0m     \u001b[39m# test_iloc_setitem_frame_duplicate_columns_multiple_blocks\u001b[39;00m\n\u001b[1;32m   1971\u001b[0m     \u001b[39mfor\u001b[39;00m loc \u001b[39min\u001b[39;00m ilocs:\n",
      "File \u001b[0;32m/Library/Frameworks/Python.framework/Versions/3.10/lib/python3.10/site-packages/pandas/core/indexing.py:2034\u001b[0m, in \u001b[0;36m_iLocIndexer._setitem_single_column\u001b[0;34m(self, loc, value, plane_indexer)\u001b[0m\n\u001b[1;32m   2030\u001b[0m         \u001b[39mself\u001b[39m\u001b[39m.\u001b[39mobj\u001b[39m.\u001b[39misetitem(loc, value)\n\u001b[1;32m   2031\u001b[0m \u001b[39melse\u001b[39;00m:\n\u001b[1;32m   2032\u001b[0m     \u001b[39m# set value into the column (first attempting to operate inplace, then\u001b[39;00m\n\u001b[1;32m   2033\u001b[0m     \u001b[39m#  falling back to casting if necessary)\u001b[39;00m\n\u001b[0;32m-> 2034\u001b[0m     \u001b[39mself\u001b[39;49m\u001b[39m.\u001b[39;49mobj\u001b[39m.\u001b[39;49m_mgr\u001b[39m.\u001b[39;49mcolumn_setitem(loc, plane_indexer, value)\n\u001b[1;32m   2036\u001b[0m \u001b[39mself\u001b[39m\u001b[39m.\u001b[39mobj\u001b[39m.\u001b[39m_clear_item_cache()\n",
      "File \u001b[0;32m/Library/Frameworks/Python.framework/Versions/3.10/lib/python3.10/site-packages/pandas/core/internals/managers.py:1384\u001b[0m, in \u001b[0;36mBlockManager.column_setitem\u001b[0;34m(self, loc, idx, value, inplace_only)\u001b[0m\n\u001b[1;32m   1382\u001b[0m     col_mgr\u001b[39m.\u001b[39msetitem_inplace(idx, value)\n\u001b[1;32m   1383\u001b[0m \u001b[39melse\u001b[39;00m:\n\u001b[0;32m-> 1384\u001b[0m     new_mgr \u001b[39m=\u001b[39m col_mgr\u001b[39m.\u001b[39;49msetitem((idx,), value)\n\u001b[1;32m   1385\u001b[0m     \u001b[39mself\u001b[39m\u001b[39m.\u001b[39miset(loc, new_mgr\u001b[39m.\u001b[39m_block\u001b[39m.\u001b[39mvalues, inplace\u001b[39m=\u001b[39m\u001b[39mTrue\u001b[39;00m)\n",
      "File \u001b[0;32m/Library/Frameworks/Python.framework/Versions/3.10/lib/python3.10/site-packages/pandas/core/internals/managers.py:394\u001b[0m, in \u001b[0;36mBaseBlockManager.setitem\u001b[0;34m(self, indexer, value)\u001b[0m\n\u001b[1;32m    389\u001b[0m \u001b[39mif\u001b[39;00m using_copy_on_write() \u001b[39mand\u001b[39;00m \u001b[39mnot\u001b[39;00m \u001b[39mself\u001b[39m\u001b[39m.\u001b[39m_has_no_reference(\u001b[39m0\u001b[39m):\n\u001b[1;32m    390\u001b[0m     \u001b[39m# if being referenced -> perform Copy-on-Write and clear the reference\u001b[39;00m\n\u001b[1;32m    391\u001b[0m     \u001b[39m# this method is only called if there is a single block -> hardcoded 0\u001b[39;00m\n\u001b[1;32m    392\u001b[0m     \u001b[39mself\u001b[39m \u001b[39m=\u001b[39m \u001b[39mself\u001b[39m\u001b[39m.\u001b[39mcopy()\n\u001b[0;32m--> 394\u001b[0m \u001b[39mreturn\u001b[39;00m \u001b[39mself\u001b[39;49m\u001b[39m.\u001b[39;49mapply(\u001b[39m\"\u001b[39;49m\u001b[39msetitem\u001b[39;49m\u001b[39m\"\u001b[39;49m, indexer\u001b[39m=\u001b[39;49mindexer, value\u001b[39m=\u001b[39;49mvalue)\n",
      "File \u001b[0;32m/Library/Frameworks/Python.framework/Versions/3.10/lib/python3.10/site-packages/pandas/core/internals/managers.py:352\u001b[0m, in \u001b[0;36mBaseBlockManager.apply\u001b[0;34m(self, f, align_keys, **kwargs)\u001b[0m\n\u001b[1;32m    350\u001b[0m         applied \u001b[39m=\u001b[39m b\u001b[39m.\u001b[39mapply(f, \u001b[39m*\u001b[39m\u001b[39m*\u001b[39mkwargs)\n\u001b[1;32m    351\u001b[0m     \u001b[39melse\u001b[39;00m:\n\u001b[0;32m--> 352\u001b[0m         applied \u001b[39m=\u001b[39m \u001b[39mgetattr\u001b[39;49m(b, f)(\u001b[39m*\u001b[39;49m\u001b[39m*\u001b[39;49mkwargs)\n\u001b[1;32m    353\u001b[0m     result_blocks \u001b[39m=\u001b[39m extend_blocks(applied, result_blocks)\n\u001b[1;32m    355\u001b[0m out \u001b[39m=\u001b[39m \u001b[39mtype\u001b[39m(\u001b[39mself\u001b[39m)\u001b[39m.\u001b[39mfrom_blocks(result_blocks, \u001b[39mself\u001b[39m\u001b[39m.\u001b[39maxes)\n",
      "File \u001b[0;32m/Library/Frameworks/Python.framework/Versions/3.10/lib/python3.10/site-packages/pandas/core/internals/blocks.py:1045\u001b[0m, in \u001b[0;36mBlock.setitem\u001b[0;34m(self, indexer, value, using_cow)\u001b[0m\n\u001b[1;32m   1043\u001b[0m value \u001b[39m=\u001b[39m extract_array(value, extract_numpy\u001b[39m=\u001b[39m\u001b[39mTrue\u001b[39;00m)\n\u001b[1;32m   1044\u001b[0m \u001b[39mtry\u001b[39;00m:\n\u001b[0;32m-> 1045\u001b[0m     casted \u001b[39m=\u001b[39m np_can_hold_element(values\u001b[39m.\u001b[39;49mdtype, value)\n\u001b[1;32m   1046\u001b[0m \u001b[39mexcept\u001b[39;00m LossySetitemError:\n\u001b[1;32m   1047\u001b[0m     \u001b[39m# current dtype cannot store value, coerce to common dtype\u001b[39;00m\n\u001b[1;32m   1048\u001b[0m     nb \u001b[39m=\u001b[39m \u001b[39mself\u001b[39m\u001b[39m.\u001b[39mcoerce_to_target_dtype(value)\n",
      "File \u001b[0;32m/Library/Frameworks/Python.framework/Versions/3.10/lib/python3.10/site-packages/pandas/core/dtypes/cast.py:1796\u001b[0m, in \u001b[0;36mnp_can_hold_element\u001b[0;34m(dtype, element)\u001b[0m\n\u001b[1;32m   1794\u001b[0m     casted \u001b[39m=\u001b[39m element\u001b[39m.\u001b[39mastype(dtype)\n\u001b[1;32m   1795\u001b[0m comp \u001b[39m=\u001b[39m casted \u001b[39m==\u001b[39m element\n\u001b[0;32m-> 1796\u001b[0m \u001b[39mif\u001b[39;00m comp\u001b[39m.\u001b[39;49mall():\n\u001b[1;32m   1797\u001b[0m     \u001b[39m# Return the casted values bc they can be passed to\u001b[39;00m\n\u001b[1;32m   1798\u001b[0m     \u001b[39m#  np.putmask, whereas the raw values cannot.\u001b[39;00m\n\u001b[1;32m   1799\u001b[0m     \u001b[39m#  see TestSetitemFloatNDarrayIntoIntegerSeries\u001b[39;00m\n\u001b[1;32m   1800\u001b[0m     \u001b[39mreturn\u001b[39;00m casted\n\u001b[1;32m   1801\u001b[0m \u001b[39mraise\u001b[39;00m LossySetitemError\n",
      "File \u001b[0;32m/Library/Frameworks/Python.framework/Versions/3.10/lib/python3.10/site-packages/numpy/core/_methods.py:61\u001b[0m, in \u001b[0;36m_all\u001b[0;34m(a, axis, dtype, out, keepdims, where)\u001b[0m\n\u001b[1;32m     58\u001b[0m         \u001b[39mreturn\u001b[39;00m umr_any(a, axis, dtype, out, keepdims)\n\u001b[1;32m     59\u001b[0m     \u001b[39mreturn\u001b[39;00m umr_any(a, axis, dtype, out, keepdims, where\u001b[39m=\u001b[39mwhere)\n\u001b[0;32m---> 61\u001b[0m \u001b[39mdef\u001b[39;00m \u001b[39m_all\u001b[39m(a, axis\u001b[39m=\u001b[39m\u001b[39mNone\u001b[39;00m, dtype\u001b[39m=\u001b[39m\u001b[39mNone\u001b[39;00m, out\u001b[39m=\u001b[39m\u001b[39mNone\u001b[39;00m, keepdims\u001b[39m=\u001b[39m\u001b[39mFalse\u001b[39;00m, \u001b[39m*\u001b[39m, where\u001b[39m=\u001b[39m\u001b[39mTrue\u001b[39;00m):\n\u001b[1;32m     62\u001b[0m     \u001b[39m# Parsing keyword arguments is currently fairly slow, so avoid it for now\u001b[39;00m\n\u001b[1;32m     63\u001b[0m     \u001b[39mif\u001b[39;00m where \u001b[39mis\u001b[39;00m \u001b[39mTrue\u001b[39;00m:\n\u001b[1;32m     64\u001b[0m         \u001b[39mreturn\u001b[39;00m umr_all(a, axis, dtype, out, keepdims)\n",
      "\u001b[0;31mKeyboardInterrupt\u001b[0m: "
     ]
    }
   ],
   "source": [
    "#Initializing eaTSP_ONE from EvolutionaryAlgorithmTSP.ipynb with parameters and running it 25 times\n",
    "fitness = []\n",
    "\n",
    "for i in range(25):\n",
    "    ea = eaTSP_ONE(390, 25, distance_dataframe)\n",
    "    ea.initialize()\n",
    "    ea_run = ea.mainLoop(160, 390, 3, 0.83, 0.16, 291)\n",
    "    new_fitness = ea_run.loc[1]['Fitness']\n",
    "    fitness.append(new_fitness)"
   ]
  },
  {
   "cell_type": "code",
   "execution_count": 15,
   "metadata": {},
   "outputs": [],
   "source": [
    "fitness_df = pd.DataFrame(fitness)"
   ]
  },
  {
   "cell_type": "code",
   "execution_count": 17,
   "metadata": {},
   "outputs": [],
   "source": [
    "fitness_df.to_csv('TSP_Optimal_Parameters_Results.csv')"
   ]
  },
  {
   "cell_type": "code",
   "execution_count": 21,
   "metadata": {},
   "outputs": [],
   "source": [
    "#Running eaFSTSP_One_OXC_swap again 25 times with the optimal parameters\n",
    "def EA_optimal_parameter_test(distance_dataframe, drone_scaling_factor, drone_battery_life, population_size,number_of_parents, tournament_size, tournament_probability, mutation_probability, total_generations):  \n",
    "    array_max_fitness_values = []\n",
    "    \n",
    "    counter = 0\n",
    "    \n",
    "    truck_scaling_factor = 1\n",
    "    number_of_cities = 25 \n",
    "    number_of_offspring = population_size\n",
    "    \n",
    "    truck_time_dataframe, drone_time_dataframe = multiplydistancedataframe(distance_dataframe,  truck_scaling_factor, drone_scaling_factor)\n",
    "\n",
    "    while(counter<25):\n",
    "        #Initialise\n",
    "        ea = eaFSTSP_One_OXC_swap(population_size=population_size, number_of_cities=number_of_cities, distance_matrix=distance_dataframe, truck_distance_matrix=truck_time_dataframe, drone_distance_matrix=drone_time_dataframe)\n",
    "        ea.initialize(drone_battery_life, truck_scaling_factor, drone_scaling_factor)\n",
    "        #Obtain final fitness value from ending population\n",
    "        run = ea.mainLoop(number_of_parents, number_of_offspring, tournament_size, tournament_probability, mutation_probability, total_generations)\n",
    "        maximum_finishing_fitness_value = np.amax(run[3])\n",
    "        #Appending values\n",
    "        array_max_fitness_values.append(maximum_finishing_fitness_value)\n",
    "        counter = counter + 1\n",
    "        print(f\"Completed run {counter}\")\n",
    "        \n",
    "    return(array_max_fitness_values)"
   ]
  },
  {
   "cell_type": "code",
   "execution_count": 22,
   "metadata": {},
   "outputs": [
    {
     "name": "stdout",
     "output_type": "stream",
     "text": [
      "Completed run 1\n",
      "Completed run 2\n",
      "Completed run 3\n",
      "Completed run 4\n",
      "Completed run 5\n",
      "Completed run 6\n",
      "Completed run 7\n",
      "Completed run 8\n",
      "Completed run 9\n",
      "Completed run 10\n",
      "Completed run 11\n",
      "Completed run 12\n",
      "Completed run 13\n",
      "Completed run 14\n",
      "Completed run 15\n",
      "Completed run 16\n",
      "Completed run 17\n",
      "Completed run 18\n",
      "Completed run 19\n",
      "Completed run 20\n",
      "Completed run 21\n",
      "Completed run 22\n",
      "Completed run 23\n",
      "Completed run 24\n",
      "Completed run 25\n"
     ]
    }
   ],
   "source": [
    "fitness = EA_optimal_parameter_test(distance_dataframe, 0.15, 0.32, 390, int(390*0.41), 3, 0.83, 0.16, 291)"
   ]
  },
  {
   "cell_type": "code",
   "execution_count": 23,
   "metadata": {},
   "outputs": [
    {
     "data": {
      "text/plain": [
       "[-3.8000000000000007,\n",
       " -3.7200000000000006,\n",
       " -3.6600000000000006,\n",
       " -3.740000000000001,\n",
       " -3.6200000000000006,\n",
       " -3.5300000000000002,\n",
       " -3.630000000000001,\n",
       " -3.6800000000000006,\n",
       " -3.6400000000000006,\n",
       " -3.79,\n",
       " -3.6400000000000006,\n",
       " -3.7300000000000004,\n",
       " -3.8400000000000007,\n",
       " -3.73,\n",
       " -3.460000000000001,\n",
       " -3.6700000000000004,\n",
       " -3.71,\n",
       " -3.6000000000000005,\n",
       " -3.6,\n",
       " -3.650000000000001,\n",
       " -3.5700000000000007,\n",
       " -3.6,\n",
       " -3.670000000000001,\n",
       " -3.6400000000000006,\n",
       " -3.680000000000001]"
      ]
     },
     "execution_count": 23,
     "metadata": {},
     "output_type": "execute_result"
    }
   ],
   "source": [
    "fitness"
   ]
  },
  {
   "cell_type": "code",
   "execution_count": 24,
   "metadata": {},
   "outputs": [],
   "source": [
    "fitness_df = pd.DataFrame(fitness)"
   ]
  },
  {
   "cell_type": "code",
   "execution_count": 25,
   "metadata": {},
   "outputs": [],
   "source": [
    "fitness_df.to_csv('FSTSP_Optimal_Parameters_Results.csv')"
   ]
  },
  {
   "cell_type": "markdown",
   "metadata": {},
   "source": [
    "#### Creating the histogram"
   ]
  },
  {
   "cell_type": "code",
   "execution_count": 29,
   "metadata": {},
   "outputs": [],
   "source": [
    "df1 = pd.read_csv('TSP_Optimal_Parameters_Results.csv', index_col=  'Unnamed: 0')\n",
    "df2 = pd.read_csv('FSTSP_Optimal_Parameters_Results.csv', index_col=   'Unnamed: 0')"
   ]
  },
  {
   "cell_type": "code",
   "execution_count": 34,
   "metadata": {},
   "outputs": [],
   "source": [
    "data1 = df1['0']"
   ]
  },
  {
   "cell_type": "code",
   "execution_count": 36,
   "metadata": {},
   "outputs": [],
   "source": [
    "data2 = df2['0']"
   ]
  },
  {
   "cell_type": "code",
   "execution_count": 42,
   "metadata": {},
   "outputs": [
    {
     "data": {
      "image/png": "[encoded data removed]",
      "text/plain": [
       "<Figure size 640x480 with 1 Axes>"
      ]
     },
     "metadata": {},
     "output_type": "display_data"
    }
   ],
   "source": [
    "#Plotting the box-plot\n",
    "fig, ax = plt.subplots()\n",
    "ax.boxplot([data1, data2])\n",
    "\n",
    "ax.set_xticklabels(['TSP', 'FSTSP'])\n",
    "ax.set_ylabel('Maximum Fitness')\n",
    "\n",
    "plt.savefig('boxplot3.jpg', format='jpg')"
   ]
  },
  {
   "cell_type": "code",
   "execution_count": 49,
   "metadata": {},
   "outputs": [
    {
     "data": {
      "text/plain": [
       "0.2769650655021827"
      ]
     },
     "execution_count": 49,
     "metadata": {},
     "output_type": "execute_result"
    }
   ],
   "source": [
    "#Average effeciency gain\n",
    "np.mean(data1)/np.mean(data2) -1"
   ]
  }
 ],
 "metadata": {
  "kernelspec": {
   "display_name": "Python 3",
   "language": "python",
   "name": "python3"
  },
  "language_info": {
   "codemirror_mode": {
    "name": "ipython",
    "version": 3
   },
   "file_extension": ".py",
   "mimetype": "text/x-python",
   "name": "python",
   "nbconvert_exporter": "python",
   "pygments_lexer": "ipython3",
   "version": "3.10.7"
  }
 },
 "nbformat": 4,
 "nbformat_minor": 2
}
