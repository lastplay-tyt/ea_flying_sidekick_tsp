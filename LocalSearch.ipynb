{
 "cells": [
  {
   "cell_type": "code",
   "execution_count": 1,
   "metadata": {},
   "outputs": [],
   "source": [
    "%%capture\n",
    "# Running the previous notebooks\n",
    "%run TSP.ipynb\n",
    "%run TSPextended.ipynb\n",
    "\n",
    "#Importing their classes\n",
    "tsp = TSP()\n",
    "tsp_ext = TSPext()"
   ]
  },
  {
   "cell_type": "markdown",
   "metadata": {},
   "source": [
    "Importing the relevant packages.\n",
    "We require the following:"
   ]
  },
  {
   "cell_type": "code",
   "execution_count": 2,
   "metadata": {},
   "outputs": [],
   "source": [
    "import math\n",
    "import pandas as pd\n",
    "import numpy as np\n",
    "from numpy import random as npr\n",
    "import time\n",
    "import copy"
   ]
  },
  {
   "cell_type": "markdown",
   "metadata": {},
   "source": [
    "The function $RandomRouteGenerator$ takes a distance matrix as input, generates a set of indicies using the size of the matrix, and then uses the indices to generate a random route in the network."
   ]
  },
  {
   "cell_type": "code",
   "execution_count": 3,
   "metadata": {},
   "outputs": [],
   "source": [
    "def RandomRouteGenerator(distance_dataframe):\n",
    "    \n",
    "    #Determining the number of cities in our dataset\n",
    "    no_of_cities = len(distance_dataframe.index)\n",
    "\n",
    "    #Creating the city indicies \n",
    "    city_indexes = range(1, no_of_cities+1)\n",
    "\n",
    "    #Initializing the random route as an numpy array\n",
    "    random_route = np.array([0] * no_of_cities)\n",
    "\n",
    "    #Creating a random generator\n",
    "    rng = npr.default_rng()\n",
    "    \n",
    "    #Choosing a random city and adding it to random_route\n",
    "    choose = rng.choice(city_indexes)\n",
    "    random_route[0] = choose\n",
    "\n",
    "    for i in range(no_of_cities-1):\n",
    "    \n",
    "        #Removing chosen city from city_indexes\n",
    "        city_indexes = [node for node in city_indexes if node != choose]\n",
    "\n",
    "        #Choosing a new random city from city_indexes and adding it to random route\n",
    "        choose = rng.choice(city_indexes)\n",
    "        random_route[i+1] = choose\n",
    "        \n",
    "    random_route = np.array(random_route)\n",
    "    \n",
    "    return(random_route)"
   ]
  },
  {
   "cell_type": "markdown",
   "metadata": {},
   "source": [
    "The function $RestrictedRandomRouteGenerator$ takes a distance matrix as input, generates a set of indicies using the size of the matrix, and then uses the indices to generate a random route in the network, with the condition that the route starts at the depot node."
   ]
  },
  {
   "cell_type": "code",
   "execution_count": 4,
   "metadata": {},
   "outputs": [],
   "source": [
    "def RestrictedRandomRouteGenerator(distance_dataframe, depot):\n",
    "    \n",
    "    #Determining the number of cities in our dataset\n",
    "    no_of_cities = len(distance_dataframe.index)\n",
    "\n",
    "    #Creating the city indicies whilst removing the depot node\n",
    "    city_indexes = list(range(1, depot)) + list(range(depot+1, no_of_cities+1))\n",
    "\n",
    "    #Initializing the random route as an numpy array\n",
    "    random_route = np.array([0] * no_of_cities)\n",
    "    \n",
    "    #Creating a random generator\n",
    "    rng = npr.default_rng()\n",
    "\n",
    "    #Choosing a random city and adding it to random_route\n",
    "    choose = rng.choice(city_indexes)\n",
    "    random_route[1] = choose\n",
    "\n",
    "    for i in range(2, no_of_cities):\n",
    "    \n",
    "        #Removing chosen city from city_indexes\n",
    "        city_indexes = [node for node in city_indexes if node != choose]\n",
    "\n",
    "        #Choosing a new random city and adding it to random route\n",
    "        choose = rng.choice(city_indexes)\n",
    "        random_route[i] = choose\n",
    "\n",
    "    #Adding depot to the beginning of random route  \n",
    "    random_route[0] = depot\n",
    "    \n",
    "    random_route = np.array(random_route)\n",
    "\n",
    "    return(random_route)"
   ]
  },
  {
   "cell_type": "markdown",
   "metadata": {},
   "source": [
    "The function $TimeLimRandomSearch$ is a random search algorithm with a time-based termination condition. It uses $RandomRouteGenerator$ to create random tours until time $t$ whilst storing the optimal tour."
   ]
  },
  {
   "cell_type": "code",
   "execution_count": 5,
   "metadata": {},
   "outputs": [],
   "source": [
    "def TimeLimRandomSearch(distanceMatrix, total_time):\n",
    "    \n",
    "    #Generating a random route\n",
    "    initial_route = RandomRouteGenerator(distanceMatrix)\n",
    "    \n",
    "    #Determining the cost of the route\n",
    "    initial_cost = tsp.getCostofRoute(initial_route, distanceMatrix)\n",
    "    \n",
    "    start = time.time()\n",
    "    \n",
    "    #Generate solutions until total_time has passed while storing the optimal solution.\n",
    "    while ((time.time() - start) < total_time):\n",
    "        route = RandomRouteGenerator(distanceMatrix)\n",
    "        cost = tsp.getCostofRoute(initial_route, distanceMatrix)\n",
    "        if cost < initial_cost:\n",
    "            initial_cost = cost\n",
    "            initial_route = route\n",
    "    \n",
    "    return((initial_route, initial_cost))"
   ]
  },
  {
   "cell_type": "markdown",
   "metadata": {},
   "source": [
    "The function $twoOptSwap$ generates the 2-opt neighbourhood for a given route, i.e. the set of all routes reachable by a 2-opt swap."
   ]
  },
  {
   "cell_type": "code",
   "execution_count": 6,
   "metadata": {},
   "outputs": [],
   "source": [
    "def twoOptSwap(route):\n",
    "    #math.comb(len(route), 2) returns nC2, where n is the length of the route. \n",
    "    #This is the total number of subsets of size 2 we can choose from a set with\n",
    "    #integers 1 to n. Since we compare each pair of index twice ((i,j) and (j,i))\n",
    "    #we need the number of rows in our neighbourhood to be twice this value.\n",
    "    N = 2* math.comb(len(route), 2)\n",
    "    \n",
    "    #Define an empty array to contain all neighbours\n",
    "    route_collection = np.zeros((N, len(route)))\n",
    "    \n",
    "    new_route = copy.deepcopy(route)\n",
    "    \n",
    "    #Indicates position of row in matrix\n",
    "    counter = 0\n",
    "    \n",
    "    #Iterating in order to compare element j to every other element k\n",
    "    for j in range(len(new_route)):\n",
    "        m = new_route[j]\n",
    "         \n",
    "        for k in range(len(new_route)):\n",
    "            \n",
    "            #Ensuring the indices are not equal\n",
    "            if k != j:\n",
    "                \n",
    "                #Performing the 2-opt swap\n",
    "                n =  new_route[k]\n",
    "                \n",
    "                new_route[k] = m\n",
    "                \n",
    "                new_route[j] = n\n",
    "                \n",
    "                #Adding the route to the neighbourhood\n",
    "                route_collection[counter] = np.array(new_route)\n",
    "    \n",
    "                counter = counter + 1\n",
    "                \n",
    "            new_route = copy.deepcopy(route)\n",
    "\n",
    "    return(route_collection)         "
   ]
  },
  {
   "cell_type": "markdown",
   "metadata": {},
   "source": [
    "The function $bestNeighbourStep$ evaluates all the routes in a 2-opt neighbourhood of a selected route (using the $twoOptSwap$ function), and then returns the optimal neighbour alongside its associated cost."
   ]
  },
  {
   "cell_type": "code",
   "execution_count": 7,
   "metadata": {},
   "outputs": [],
   "source": [
    "def bestNeighbourStep(route, distance_dataframe):\n",
    "    \n",
    "    #Generating the 2-opt neighbourhood of the solution\n",
    "    neighbourhood = twoOptSwap(route)\n",
    "    \n",
    "    #Determing the most optimal neighbour\n",
    "    next_step = tsp.bestRoute(neighbourhood, distance_dataframe)\n",
    "    \n",
    "    return(next_step)"
   ]
  },
  {
   "cell_type": "markdown",
   "metadata": {},
   "source": [
    "The function $twoOptsearchAlgorithm$ repeatedly tries to make the best move using the local 2-opt neighbourhood for a random route route, and repeats this process until it produces a 2-opt neighbourhood which has only more expensive routes, (i.e. it reaches an optimum value)."
   ]
  },
  {
   "cell_type": "code",
   "execution_count": 8,
   "metadata": {},
   "outputs": [],
   "source": [
    "def twoOptsearchAlgorithm(distance_dataframe):\n",
    "    \n",
    "    #Generate a random route from the distance matrix\n",
    "    randomRoute = RandomRouteGenerator(distance_dataframe)\n",
    "    \n",
    "    initial_cost = tsp.getCostofRoute(randomRoute, distance_dataframe)\n",
    "    \n",
    "    #Determine the optimal neighbour in the 2opt neighbourhood of the random route as well as its associated cost\n",
    "    next_step = bestNeighbourStep(randomRoute, distance_dataframe)\n",
    "    updated_route = next_step[1]\n",
    "    updated_cost = next_step[0]\n",
    "\n",
    "    while(updated_cost < initial_cost):\n",
    "        \n",
    "        initial_cost = updated_cost\n",
    "        \n",
    "        ##Determine the optimal neighbour in the 2opt neighbourhood of updated_route\n",
    "        next_step = bestNeighbourStep(updated_route, distance_dataframe)\n",
    "        \n",
    "        updated_route = next_step[1]\n",
    "        updated_cost = next_step[0]\n",
    "    \n",
    "    return(next_step)"
   ]
  },
  {
   "cell_type": "markdown",
   "metadata": {},
   "source": [
    "The function $randomtwoOptSearchAlgorithm$ applies $twoOptsearchAlgorithm$ until it obtains a final value, after which it repeats the search from a newly generated random tour whilst keeping track of the global optimum value it has obtained. It continoues this process until a specified time limit has elapsed, and then returns the obtained global optimum value."
   ]
  },
  {
   "cell_type": "code",
   "execution_count": 9,
   "metadata": {},
   "outputs": [],
   "source": [
    "def randomtwoOptSearchAlgorithm(distance_dataframe, total_time):\n",
    "    start = time.time()\n",
    "    \n",
    "    #Obtains first local optimum\n",
    "    initial_cost = twoOptsearchAlgorithm(distance_dataframe)\n",
    "    \n",
    "    #Improves upon local optimum by repeating the process until total_time has elapsed\n",
    "    while ((time.time() - start) < total_time):\n",
    "        updated_cost = twoOptsearchAlgorithm(distance_dataframe)\n",
    "        if updated_cost < initial_cost:\n",
    "            initial_cost = updated_cost\n",
    "        else:\n",
    "            initial_cost = initial_cost\n",
    "    \n",
    "    return(initial_cost)"
   ]
  },
  {
   "cell_type": "markdown",
   "metadata": {},
   "source": [
    "We can now define the class $LocalSearch$."
   ]
  },
  {
   "cell_type": "code",
   "execution_count": 10,
   "metadata": {},
   "outputs": [],
   "source": [
    "class LocalSearch:\n",
    "    def __init__(self):\n",
    "        pass\n",
    "    \n",
    "    def createRandomRoute(self, distance_dataframe, restricted = False, depot = 1):\n",
    "        if restricted is False:\n",
    "            random_route = RandomRouteGenerator(distance_dataframe)\n",
    "        else:\n",
    "            random_route = RestrictedRandomRouteGenerator(distance_dataframe, depot)\n",
    "            return(random_route)\n",
    "    \n",
    "    def BestNeighbourtwoOpt(self, route, distance_dataframe):\n",
    "        neighbourhood = twoOptSwap(route)\n",
    "        best_step = bestNeighbourStep(route, distance_dataframe)\n",
    "        return(neighbourhood, best_step)\n",
    "    \n",
    "    def Search(self, distance_dataframe, method = \"Random\", total_time=1):\n",
    "        if method == \"Random\":\n",
    "            solution = TimeLimRandomSearch(distance_dataframe, total_time)\n",
    "        elif method == \"2opt\":\n",
    "            solution = twoOptsearchAlgorithm(distance_dataframe)\n",
    "        elif method == \"Random_2opt\":\n",
    "            solution = randomtwoOptSearchAlgorithm(distance_dataframe, total_time)\n",
    "        return(solution)    "
   ]
  },
  {
   "cell_type": "markdown",
   "metadata": {},
   "source": [
    "### Testing"
   ]
  },
  {
   "cell_type": "markdown",
   "metadata": {},
   "source": [
    "Let us test the functions defined in this file."
   ]
  },
  {
   "cell_type": "code",
   "execution_count": 11,
   "metadata": {},
   "outputs": [],
   "source": [
    "#Importing the distance dataframe for testing\n",
    "columns = [i for i in range(1,26)]\n",
    "distance_dataframe_test = pd.read_csv('distance_dataframes/dist_dataframe_normal_1_25_wo:9.csv',names = columns)\n",
    "distance_dataframe_test = distance_dataframe_test.iloc[1:]"
   ]
  },
  {
   "cell_type": "code",
   "execution_count": 12,
   "metadata": {},
   "outputs": [
    {
     "data": {
      "text/plain": [
       "array([22,  4, 23,  2, 25, 18,  3,  9,  7, 21,  6, 20, 16, 11, 13,  1, 12,\n",
       "       19,  5, 17, 10,  8, 15, 24, 14])"
      ]
     },
     "execution_count": 12,
     "metadata": {},
     "output_type": "execute_result"
    }
   ],
   "source": [
    "#Creating a route\n",
    "RandomRouteGenerator(distance_dataframe_test)"
   ]
  },
  {
   "cell_type": "code",
   "execution_count": 15,
   "metadata": {},
   "outputs": [
    {
     "data": {
      "text/plain": [
       "array([ 1, 20,  6, 17, 24,  4, 25,  3, 15, 22,  2,  9,  7, 23, 13, 11, 14,\n",
       "       21, 19,  5, 16, 18,  8, 12, 10])"
      ]
     },
     "execution_count": 15,
     "metadata": {},
     "output_type": "execute_result"
    }
   ],
   "source": [
    "#Creating a restricted route\n",
    "tmp = RestrictedRandomRouteGenerator(distance_dataframe_test, 1)\n",
    "tmp"
   ]
  },
  {
   "cell_type": "code",
   "execution_count": 14,
   "metadata": {},
   "outputs": [
    {
     "data": {
      "text/plain": [
       "(array([ 1, 17, 20, 24, 11, 13,  6, 16, 14,  8, 18,  3,  9, 10, 23, 21,  2,\n",
       "         7,  5, 25, 22, 15, 19,  4, 12]),\n",
       " 11.57)"
      ]
     },
     "execution_count": 14,
     "metadata": {},
     "output_type": "execute_result"
    }
   ],
   "source": [
    "#Testing random search\n",
    "TimeLimRandomSearch(distance_dataframe_test, 30)"
   ]
  },
  {
   "cell_type": "code",
   "execution_count": 18,
   "metadata": {},
   "outputs": [
    {
     "data": {
      "text/plain": [
       "array([[20.,  1.,  6., ...,  8., 12., 10.],\n",
       "       [ 6., 20.,  1., ...,  8., 12., 10.],\n",
       "       [17., 20.,  6., ...,  8., 12., 10.],\n",
       "       ...,\n",
       "       [ 1., 20.,  6., ...,  8., 12., 18.],\n",
       "       [ 1., 20.,  6., ..., 10., 12.,  8.],\n",
       "       [ 1., 20.,  6., ...,  8., 10., 12.]])"
      ]
     },
     "execution_count": 18,
     "metadata": {},
     "output_type": "execute_result"
    }
   ],
   "source": [
    "#Testing twoOptSwap\n",
    "tmp2 = twoOptSwap(tmp)\n",
    "tmp2"
   ]
  },
  {
   "cell_type": "code",
   "execution_count": 20,
   "metadata": {},
   "outputs": [
    {
     "data": {
      "text/plain": [
       "600"
      ]
     },
     "execution_count": 20,
     "metadata": {},
     "output_type": "execute_result"
    }
   ],
   "source": [
    "len(tmp2)"
   ]
  },
  {
   "cell_type": "code",
   "execution_count": 21,
   "metadata": {},
   "outputs": [
    {
     "data": {
      "text/plain": [
       "(10.24,\n",
       " array([ 1., 20.,  6., 21., 24.,  4., 25.,  3., 15., 22.,  2.,  9.,  7.,\n",
       "        23., 13., 11., 14., 17., 19.,  5., 16., 18.,  8., 12., 10.]))"
      ]
     },
     "execution_count": 21,
     "metadata": {},
     "output_type": "execute_result"
    }
   ],
   "source": [
    "bestNeighbourStep(tmp, distance_dataframe_test)"
   ]
  },
  {
   "cell_type": "code",
   "execution_count": 22,
   "metadata": {},
   "outputs": [
    {
     "data": {
      "text/plain": [
       "(4.6499999999999995,\n",
       " array([25.,  5.,  7., 14.,  4., 10.,  3., 17., 19., 24.,  1., 16., 15.,\n",
       "        13.,  2., 23., 18., 22., 11., 12.,  8.,  6., 21.,  9., 20.]))"
      ]
     },
     "execution_count": 22,
     "metadata": {},
     "output_type": "execute_result"
    }
   ],
   "source": [
    "randomtwoOptSearchAlgorithm(distance_dataframe_test, 30)"
   ]
  }
 ],
 "metadata": {
  "kernelspec": {
   "display_name": "Python 3",
   "language": "python",
   "name": "python3"
  },
  "language_info": {
   "codemirror_mode": {
    "name": "ipython",
    "version": 3
   },
   "file_extension": ".py",
   "mimetype": "text/x-python",
   "name": "python",
   "nbconvert_exporter": "python",
   "pygments_lexer": "ipython3",
   "version": "3.10.7"
  },
  "orig_nbformat": 4
 },
 "nbformat": 4,
 "nbformat_minor": 2
}
