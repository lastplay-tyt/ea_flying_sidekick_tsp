{
 "cells": [
  {
   "cell_type": "code",
   "execution_count": 1,
   "metadata": {},
   "outputs": [],
   "source": [
    "%%capture\n",
    "# Running the previous notebooks\n",
    "%run TSP.ipynb\n",
    "\n",
    "#Importing their classes\n",
    "tsp = TSP()"
   ]
  },
  {
   "cell_type": "markdown",
   "metadata": {},
   "source": [
    "Importing the relevant packages.\n",
    "We require the following:"
   ]
  },
  {
   "cell_type": "code",
   "execution_count": 2,
   "metadata": {},
   "outputs": [],
   "source": [
    "import pandas as pd\n",
    "from scipy.spatial.distance import euclidean"
   ]
  },
  {
   "cell_type": "markdown",
   "metadata": {},
   "source": [
    "The function $EuclideanDistanceCalculator$ takes as input a dataframe that contains the Euclidean coordinates of $n$ cities, such that the coordinates of city $i$ are given by $((i, x), (i, y))$, where $x$, $y$ are columns in the dataframe. It returns a square matrix  $C$, where $c_{ij}$ represents the Euclidean distance between city $i$ and city $j$."
   ]
  },
  {
   "cell_type": "code",
   "execution_count": 3,
   "metadata": {},
   "outputs": [],
   "source": [
    "def EuclideanDistanceDataframe(city_coordinates):\n",
    "    \n",
    "    #Using the DefaultDistanceDataframe function from TSP.ipynb\n",
    "    distance_dataframe = tsp.createDataframe(len(city_coordinates.index)) #DefaultDistanceDataframe is defined in TSP.ipynb\n",
    "    \n",
    "    #Populating distance_dataframe with the appropriate values\n",
    "    for i in range(1, len(city_coordinates.index)+1):\n",
    "        for j in range(1, len(city_coordinates.index)+1):\n",
    "            #Determining the euclidean distance between cities i and j\n",
    "            distance = euclidean((city_coordinates.loc[i,'x'],city_coordinates.loc[i,'y']), (city_coordinates.loc[j,'x'],city_coordinates.loc[j,'y'])) \n",
    "            distance_dataframe.loc[i,j] = distance\n",
    "    \n",
    "    distance_dataframe = distance_dataframe.round(2)\n",
    "\n",
    "    return (distance_dataframe)"
   ]
  },
  {
   "cell_type": "markdown",
   "metadata": {},
   "source": [
    "We can now define the function $distance(i,j)$, which will return the euclidean distance between any two nodes directly from the euclidean coordinates of the nodes. This function will be useful for the drone routing problem as it will allow us to calculate the distance between any node and the home depot (which we will define to be the origin $(0,0)$)."
   ]
  },
  {
   "cell_type": "code",
   "execution_count": 4,
   "metadata": {},
   "outputs": [],
   "source": [
    "def distance_calculator(i,j, city_coordinates):\n",
    "    if j==0:\n",
    "        distance = euclidean((city_coordinates.loc[i, 'x'], city_coordinates.loc[i, 'y']), (0,0))\n",
    "    elif i==0:\n",
    "        distance = euclidean((city_coordinates.loc[j, 'x'], city_coordinates.loc[j, 'y']), (0,0))\n",
    "    else:   \n",
    "        distance = euclidean((city_coordinates.loc[i,'x'],city_coordinates.loc[i,'y']), (city_coordinates.loc[j,'x'],city_coordinates.loc[j,'y']))\n",
    "    return(distance)"
   ]
  },
  {
   "cell_type": "markdown",
   "metadata": {},
   "source": [
    "We can now create the class $TSPext$."
   ]
  },
  {
   "cell_type": "code",
   "execution_count": 5,
   "metadata": {},
   "outputs": [],
   "source": [
    "class TSPext:\n",
    "    def __init__(self):\n",
    "        pass\n",
    "    \n",
    "    def CreateEuclideanDataframe(self, city_coordinates):\n",
    "        dataframe = EuclideanDistanceDataframe(city_coordinates)\n",
    "        return(dataframe)\n",
    "    \n",
    "    def EuclideanDistanceCalculator(self, i, j, city_coordinates):\n",
    "        distance = distance_calculator(i, j, city_coordinates)\n",
    "        return(distance)"
   ]
  }
 ],
 "metadata": {
  "kernelspec": {
   "display_name": "Python 3",
   "language": "python",
   "name": "python3"
  },
  "language_info": {
   "codemirror_mode": {
    "name": "ipython",
    "version": 3
   },
   "file_extension": ".py",
   "mimetype": "text/x-python",
   "name": "python",
   "nbconvert_exporter": "python",
   "pygments_lexer": "ipython3",
   "version": "3.10.7"
  },
  "orig_nbformat": 4
 },
 "nbformat": 4,
 "nbformat_minor": 2
}
